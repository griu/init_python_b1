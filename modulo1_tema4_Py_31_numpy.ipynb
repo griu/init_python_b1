{
 "cells": [
  {
   "cell_type": "markdown",
   "metadata": {},
   "source": [
    "<img align=\"left\" style=\"padding-right:10px;\" width=\"150\" src=\"https://upload.wikimedia.org/wikipedia/commons/thumb/6/6c/Star_Wars_Logo.svg/320px-Star_Wars_Logo.svg.png\" />\n",
    "\n",
    "*elaborado por Ferran Carrascosa Mallafrè.*"
   ]
  },
  {
   "cell_type": "markdown",
   "metadata": {},
   "source": [
    "< [Colecciones de objetos: listas, tuplas y diccionarios](modulo1_tema4_Py_30_colec_obj.ipynb) | [Índice](modulo1_tema4_Py_00_indice.ipynb) | [Colecciones de objetos: pandas](modulo1_tema4_Py_32_pandas.ipynb) >\n",
    "\n",
    "__[Abre en Colab](https://colab.research.google.com/github/griu/init_python_b1/blob/master/modulo1_tema4_Py_31_numpy.ipynb)__   *: <span style=\"color:rgba(255, 99, 71, 0.8)\">Padawan! Cuando inicies sesión en Colab, prepara el entorno ejecutando el siguiente código.</span>*"
   ]
  },
  {
   "cell_type": "markdown",
   "metadata": {
    "id": "Dy11Y3WrHRHS"
   },
   "source": [
    "# Preparación del entorno\n",
    "\n",
    "¡Padawan! Cuando inicies sesión en Colab, prepara el entorno ejecutando el siguiente código:"
   ]
  },
  {
   "cell_type": "code",
   "execution_count": null,
   "metadata": {
    "colab": {
     "base_uri": "https://localhost:8080/"
    },
    "executionInfo": {
     "elapsed": 25678,
     "status": "ok",
     "timestamp": 1604317087349,
     "user": {
      "displayName": "alumnos bigdata",
      "photoUrl": "",
      "userId": "10710302360204190833"
     },
     "user_tz": -60
    },
    "id": "2SBF5dlSTi-h",
    "outputId": "b85ff6ea-725c-464c-abf4-fc481a6882de"
   },
   "outputs": [],
   "source": [
    "if 'google.colab' in str(get_ipython()):\n",
    "    !git clone https://github.com/griu/init_python_b1.git /content/init_python_b1\n",
    "    !git -C /content/init_python_b1 pull\n",
    "    %cd /content/init_python_b1"
   ]
  },
  {
   "cell_type": "markdown",
   "metadata": {
    "id": "F9n3xfvpF5df"
   },
   "source": [
    "# 5 - Numpy\n",
    "\n",
    "El package [numpy](https://numpy.org/) es la solución más popular dentro de Python para realizar computación científica.\n",
    "\n",
    "Recoge las mejores prácticas introducidas en las Listas y organizadas para realizar cálculos de forma eficiente. Se estructuran como vectores o arrays de N, dimensiones de un mismo tipo de dato.\n",
    "\n",
    "El primer paso que realizaremos será cargar la librería, habitualmente, con *namespace* `np`:"
   ]
  },
  {
   "cell_type": "code",
   "execution_count": 2,
   "metadata": {
    "id": "UAORIi9sF5do"
   },
   "outputs": [],
   "source": [
    "import numpy as np"
   ]
  },
  {
   "cell_type": "markdown",
   "metadata": {
    "id": "5KSnwU5BF5eG"
   },
   "source": [
    "##### 5.1. Actividad Guiada 2.3\n",
    "\n",
    "Antes de entrar en materia, vamos a presentar la actividad guiada de *numpy*.\n",
    "\n",
    "Se trata de seleccionar la nave interestelar más rápida en MGLT (Megaluz/Hora), que pueda llevar a 4 tripulantes (como los protagonistas: Han Solo, Leia, Luke y Chewbacca). Además, el coste de la nave debe ser com máximo 1M de créditos interestelares.\n",
    "\n",
    ">     «Es la chatarra más veloz de la galaxia.» \n",
    "    ―Lando Calrissian\n",
    "    \n",
    "Lando se refería al Halcón Milenario. ¿Será verdad?\n",
    "\n",
    "Para esta actividad contamos con los siguiente datos em formato pandas:"
   ]
  },
  {
   "cell_type": "code",
   "execution_count": null,
   "metadata": {
    "colab": {
     "base_uri": "https://localhost:8080/",
     "height": 520
    },
    "executionInfo": {
     "elapsed": 1040,
     "status": "ok",
     "timestamp": 1604326572174,
     "user": {
      "displayName": "alumnos bigdata",
      "photoUrl": "",
      "userId": "10710302360204190833"
     },
     "user_tz": -60
    },
    "id": "BaU5fHBcF5eM",
    "outputId": "442bb833-a3a7-475d-c506-9767cad6b5db"
   },
   "outputs": [
    {
     "data": {
      "text/html": [
       "<div>\n",
       "<style scoped>\n",
       "    .dataframe tbody tr th:only-of-type {\n",
       "        vertical-align: middle;\n",
       "    }\n",
       "\n",
       "    .dataframe tbody tr th {\n",
       "        vertical-align: top;\n",
       "    }\n",
       "\n",
       "    .dataframe thead th {\n",
       "        text-align: right;\n",
       "    }\n",
       "</style>\n",
       "<table border=\"1\" class=\"dataframe\">\n",
       "  <thead>\n",
       "    <tr style=\"text-align: right;\">\n",
       "      <th></th>\n",
       "      <th>cost_in_credits</th>\n",
       "      <th>MGLT</th>\n",
       "      <th>crew</th>\n",
       "    </tr>\n",
       "    <tr>\n",
       "      <th>name</th>\n",
       "      <th></th>\n",
       "      <th></th>\n",
       "      <th></th>\n",
       "    </tr>\n",
       "  </thead>\n",
       "  <tbody>\n",
       "    <tr>\n",
       "      <th>CR90 corvette</th>\n",
       "      <td>3.500000e+06</td>\n",
       "      <td>60.0</td>\n",
       "      <td>165.0</td>\n",
       "    </tr>\n",
       "    <tr>\n",
       "      <th>Star Destroyer</th>\n",
       "      <td>1.500000e+08</td>\n",
       "      <td>60.0</td>\n",
       "      <td>47060.0</td>\n",
       "    </tr>\n",
       "    <tr>\n",
       "      <th>Sentinel-class landing craft</th>\n",
       "      <td>2.400000e+05</td>\n",
       "      <td>70.0</td>\n",
       "      <td>5.0</td>\n",
       "    </tr>\n",
       "    <tr>\n",
       "      <th>Death Star</th>\n",
       "      <td>1.000000e+12</td>\n",
       "      <td>10.0</td>\n",
       "      <td>342953.0</td>\n",
       "    </tr>\n",
       "    <tr>\n",
       "      <th>Millennium Falcon</th>\n",
       "      <td>1.000000e+05</td>\n",
       "      <td>75.0</td>\n",
       "      <td>4.0</td>\n",
       "    </tr>\n",
       "    <tr>\n",
       "      <th>Y-wing</th>\n",
       "      <td>1.349990e+05</td>\n",
       "      <td>80.0</td>\n",
       "      <td>2.0</td>\n",
       "    </tr>\n",
       "    <tr>\n",
       "      <th>X-wing</th>\n",
       "      <td>1.499990e+05</td>\n",
       "      <td>100.0</td>\n",
       "      <td>1.0</td>\n",
       "    </tr>\n",
       "    <tr>\n",
       "      <th>Executor</th>\n",
       "      <td>1.143350e+09</td>\n",
       "      <td>40.0</td>\n",
       "      <td>279144.0</td>\n",
       "    </tr>\n",
       "    <tr>\n",
       "      <th>Imperial shuttle</th>\n",
       "      <td>2.400000e+05</td>\n",
       "      <td>50.0</td>\n",
       "      <td>6.0</td>\n",
       "    </tr>\n",
       "    <tr>\n",
       "      <th>EF76 Nebulon-B escort frigate</th>\n",
       "      <td>8.500000e+06</td>\n",
       "      <td>40.0</td>\n",
       "      <td>854.0</td>\n",
       "    </tr>\n",
       "    <tr>\n",
       "      <th>Calamari Cruiser</th>\n",
       "      <td>1.040000e+08</td>\n",
       "      <td>60.0</td>\n",
       "      <td>5400.0</td>\n",
       "    </tr>\n",
       "    <tr>\n",
       "      <th>A-wing</th>\n",
       "      <td>1.750000e+05</td>\n",
       "      <td>120.0</td>\n",
       "      <td>1.0</td>\n",
       "    </tr>\n",
       "    <tr>\n",
       "      <th>B-wing</th>\n",
       "      <td>2.200000e+05</td>\n",
       "      <td>91.0</td>\n",
       "      <td>1.0</td>\n",
       "    </tr>\n",
       "    <tr>\n",
       "      <th>arc-170</th>\n",
       "      <td>1.550000e+05</td>\n",
       "      <td>100.0</td>\n",
       "      <td>3.0</td>\n",
       "    </tr>\n",
       "  </tbody>\n",
       "</table>\n",
       "</div>"
      ],
      "text/plain": [
       "                               cost_in_credits   MGLT      crew\n",
       "name                                                           \n",
       "CR90 corvette                     3.500000e+06   60.0     165.0\n",
       "Star Destroyer                    1.500000e+08   60.0   47060.0\n",
       "Sentinel-class landing craft      2.400000e+05   70.0       5.0\n",
       "Death Star                        1.000000e+12   10.0  342953.0\n",
       "Millennium Falcon                 1.000000e+05   75.0       4.0\n",
       "Y-wing                            1.349990e+05   80.0       2.0\n",
       "X-wing                            1.499990e+05  100.0       1.0\n",
       "Executor                          1.143350e+09   40.0  279144.0\n",
       "Imperial shuttle                  2.400000e+05   50.0       6.0\n",
       "EF76 Nebulon-B escort frigate     8.500000e+06   40.0     854.0\n",
       "Calamari Cruiser                  1.040000e+08   60.0    5400.0\n",
       "A-wing                            1.750000e+05  120.0       1.0\n",
       "B-wing                            2.200000e+05   91.0       1.0\n",
       "arc-170                           1.550000e+05  100.0       3.0"
      ]
     },
     "execution_count": 3,
     "metadata": {
      "tags": []
     },
     "output_type": "execute_result"
    }
   ],
   "source": [
    "%matplotlib inline\n",
    "import pandas as pd\n",
    "import matplotlib.pyplot as plt\n",
    "import seaborn; seaborn.set()  # para el estilo de graficos\n",
    "\n",
    "entidades = ['planets','starships','vehicles','people','species']\n",
    "entidades_df = {x: pd.read_pickle('www/' + x + '_df.pkl') for x in entidades}\n",
    "starships_df = entidades_df['starships'][[\"cost_in_credits\",\"MGLT\",\"crew\"]].dropna()\n",
    "\n",
    "starships_df"
   ]
  },
  {
   "cell_type": "markdown",
   "metadata": {
    "id": "13fi6uN0F5es"
   },
   "source": [
    "Transformamos la matriz numpy con las variables numéricas:"
   ]
  },
  {
   "cell_type": "code",
   "execution_count": null,
   "metadata": {
    "colab": {
     "base_uri": "https://localhost:8080/"
    },
    "executionInfo": {
     "elapsed": 713,
     "status": "ok",
     "timestamp": 1604326575819,
     "user": {
      "displayName": "alumnos bigdata",
      "photoUrl": "",
      "userId": "10710302360204190833"
     },
     "user_tz": -60
    },
    "id": "fQiWePljF5ex",
    "outputId": "de4d0c6e-766e-4d98-f125-cf8da423123b"
   },
   "outputs": [
    {
     "data": {
      "text/plain": [
       "array([[3.50000e+06, 6.00000e+01, 1.65000e+02],\n",
       "       [1.50000e+08, 6.00000e+01, 4.70600e+04],\n",
       "       [2.40000e+05, 7.00000e+01, 5.00000e+00],\n",
       "       [1.00000e+12, 1.00000e+01, 3.42953e+05],\n",
       "       [1.00000e+05, 7.50000e+01, 4.00000e+00],\n",
       "       [1.34999e+05, 8.00000e+01, 2.00000e+00],\n",
       "       [1.49999e+05, 1.00000e+02, 1.00000e+00],\n",
       "       [1.14335e+09, 4.00000e+01, 2.79144e+05],\n",
       "       [2.40000e+05, 5.00000e+01, 6.00000e+00],\n",
       "       [8.50000e+06, 4.00000e+01, 8.54000e+02],\n",
       "       [1.04000e+08, 6.00000e+01, 5.40000e+03],\n",
       "       [1.75000e+05, 1.20000e+02, 1.00000e+00],\n",
       "       [2.20000e+05, 9.10000e+01, 1.00000e+00],\n",
       "       [1.55000e+05, 1.00000e+02, 3.00000e+00]])"
      ]
     },
     "execution_count": 4,
     "metadata": {
      "tags": []
     },
     "output_type": "execute_result"
    }
   ],
   "source": [
    "starship_np = starships_df.values\n",
    "starship_np # las filas son las naves y las columnas: cost_in_credits, MGLT y crew"
   ]
  },
  {
   "cell_type": "markdown",
   "metadata": {
    "id": "Q4fFdcarF5fM"
   },
   "source": [
    "Transformamos los nombres de las naves a array numpy:"
   ]
  },
  {
   "cell_type": "code",
   "execution_count": null,
   "metadata": {
    "colab": {
     "base_uri": "https://localhost:8080/"
    },
    "executionInfo": {
     "elapsed": 745,
     "status": "ok",
     "timestamp": 1604326578827,
     "user": {
      "displayName": "alumnos bigdata",
      "photoUrl": "",
      "userId": "10710302360204190833"
     },
     "user_tz": -60
    },
    "id": "Q6z9DYktF5fU",
    "outputId": "f66aebc2-96a1-4dec-c89e-9a035e26ea31"
   },
   "outputs": [
    {
     "data": {
      "text/plain": [
       "array(['CR90 corvette', 'Star Destroyer', 'Sentinel-class landing craft',\n",
       "       'Death Star', 'Millennium Falcon', 'Y-wing', 'X-wing', 'Executor',\n",
       "       'Imperial shuttle', 'EF76 Nebulon-B escort frigate',\n",
       "       'Calamari Cruiser', 'A-wing', 'B-wing', 'arc-170'], dtype=object)"
      ]
     },
     "execution_count": 5,
     "metadata": {
      "tags": []
     },
     "output_type": "execute_result"
    }
   ],
   "source": [
    "starship_names = starships_df.index.values \n",
    "starship_names"
   ]
  },
  {
   "cell_type": "markdown",
   "metadata": {
    "id": "B15GpaTMF5gN"
   },
   "source": [
    "#### 5.2. Tipo de datos en Numpy\n",
    "Habitualmente, se crean a partir de listas o tuplas con elementos homogéneos:"
   ]
  },
  {
   "cell_type": "code",
   "execution_count": null,
   "metadata": {
    "colab": {
     "base_uri": "https://localhost:8080/"
    },
    "executionInfo": {
     "elapsed": 734,
     "status": "ok",
     "timestamp": 1604326581553,
     "user": {
      "displayName": "alumnos bigdata",
      "photoUrl": "",
      "userId": "10710302360204190833"
     },
     "user_tz": -60
    },
    "id": "NsocN1GTF5gQ",
    "outputId": "4c132292-ffb9-4fab-b984-52700e69a9e2"
   },
   "outputs": [
    {
     "data": {
      "text/plain": [
       "array([ True, False, False])"
      ]
     },
     "execution_count": 6,
     "metadata": {
      "tags": []
     },
     "output_type": "execute_result"
    }
   ],
   "source": [
    "b_np = np.array([True, False, False]) # booleano\n",
    "b_np"
   ]
  },
  {
   "cell_type": "code",
   "execution_count": null,
   "metadata": {
    "colab": {
     "base_uri": "https://localhost:8080/"
    },
    "executionInfo": {
     "elapsed": 892,
     "status": "ok",
     "timestamp": 1604326583621,
     "user": {
      "displayName": "alumnos bigdata",
      "photoUrl": "",
      "userId": "10710302360204190833"
     },
     "user_tz": -60
    },
    "id": "pOQLJO9OF5gl",
    "outputId": "cd73a83a-7683-4723-afed-ff44f66e2ad5"
   },
   "outputs": [
    {
     "data": {
      "text/plain": [
       "array(['f', 'h', 'j'], dtype='<U1')"
      ]
     },
     "execution_count": 7,
     "metadata": {
      "tags": []
     },
     "output_type": "execute_result"
    }
   ],
   "source": [
    "s_np = np.array(['f', 'h', 'j']) # string\n",
    "s_np"
   ]
  },
  {
   "cell_type": "code",
   "execution_count": null,
   "metadata": {
    "colab": {
     "base_uri": "https://localhost:8080/"
    },
    "executionInfo": {
     "elapsed": 731,
     "status": "ok",
     "timestamp": 1604326585848,
     "user": {
      "displayName": "alumnos bigdata",
      "photoUrl": "",
      "userId": "10710302360204190833"
     },
     "user_tz": -60
    },
    "id": "4VIR41zaF5g4",
    "outputId": "8eb45873-260f-4fb8-80af-17281c62bf5b"
   },
   "outputs": [
    {
     "data": {
      "text/plain": [
       "array([0, 1, 2])"
      ]
     },
     "execution_count": 8,
     "metadata": {
      "tags": []
     },
     "output_type": "execute_result"
    }
   ],
   "source": [
    "i_np = np.array(range(3)) # entero\n",
    "i_np"
   ]
  },
  {
   "cell_type": "code",
   "execution_count": null,
   "metadata": {
    "colab": {
     "base_uri": "https://localhost:8080/"
    },
    "executionInfo": {
     "elapsed": 751,
     "status": "ok",
     "timestamp": 1604326587902,
     "user": {
      "displayName": "alumnos bigdata",
      "photoUrl": "",
      "userId": "10710302360204190833"
     },
     "user_tz": -60
    },
    "id": "rjqaLwdVF5hQ",
    "outputId": "0959152b-204a-43da-b2f2-30cca64652d1"
   },
   "outputs": [
    {
     "data": {
      "text/plain": [
       "array([2.4, 1.5, 3. ])"
      ]
     },
     "execution_count": 9,
     "metadata": {
      "tags": []
     },
     "output_type": "execute_result"
    }
   ],
   "source": [
    "f_np = np.array([2.4, 1.5, 3.0]) # coma flotante\n",
    "f_np"
   ]
  },
  {
   "cell_type": "markdown",
   "metadata": {
    "id": "CWiR0JHnF5hm"
   },
   "source": [
    "Los 4 objetos comparten ser de tipo `numpy.ndarray`:"
   ]
  },
  {
   "cell_type": "code",
   "execution_count": null,
   "metadata": {
    "colab": {
     "base_uri": "https://localhost:8080/"
    },
    "executionInfo": {
     "elapsed": 796,
     "status": "ok",
     "timestamp": 1604326590333,
     "user": {
      "displayName": "alumnos bigdata",
      "photoUrl": "",
      "userId": "10710302360204190833"
     },
     "user_tz": -60
    },
    "id": "AHDkYUyVF5hp",
    "outputId": "de59b063-95b5-417f-d4e8-7f234ed04b07"
   },
   "outputs": [
    {
     "data": {
      "text/plain": [
       "[numpy.ndarray, numpy.ndarray, numpy.ndarray, numpy.ndarray]"
      ]
     },
     "execution_count": 10,
     "metadata": {
      "tags": []
     },
     "output_type": "execute_result"
    }
   ],
   "source": [
    "ej_np = (b_np, s_np, i_np, f_np)\n",
    "[type(x) for x in ej_np]"
   ]
  },
  {
   "cell_type": "markdown",
   "metadata": {
    "id": "YmD1yb3QF5h_"
   },
   "source": [
    "Sin embargo, cada uno tiene un tipo interno accesible con el método `.dtype`:"
   ]
  },
  {
   "cell_type": "code",
   "execution_count": null,
   "metadata": {
    "colab": {
     "base_uri": "https://localhost:8080/"
    },
    "executionInfo": {
     "elapsed": 803,
     "status": "ok",
     "timestamp": 1604326592802,
     "user": {
      "displayName": "alumnos bigdata",
      "photoUrl": "",
      "userId": "10710302360204190833"
     },
     "user_tz": -60
    },
    "id": "nWGnAhHnF5iD",
    "outputId": "769a9027-81db-4f8c-cbc2-ccf94443cf27"
   },
   "outputs": [
    {
     "data": {
      "text/plain": [
       "[dtype('bool'), dtype('<U1'), dtype('int64'), dtype('float64')]"
      ]
     },
     "execution_count": 11,
     "metadata": {
      "tags": []
     },
     "output_type": "execute_result"
    }
   ],
   "source": [
    "[x.dtype for x in ej_np]"
   ]
  },
  {
   "cell_type": "markdown",
   "metadata": {
    "id": "u8pW_uuBF5ig"
   },
   "source": [
    "Observa que numpy define sus propios nombres para los tipos básicos donde añade el tamaño en bits:\n",
    "\n",
    "- 'U1' es texto Unicode de 1 bit.\n",
    "- 'int64', 'float64' numéricos de 64 bits. \n",
    "\n",
    "Se puede definir este tipo en su construcción: "
   ]
  },
  {
   "cell_type": "code",
   "execution_count": null,
   "metadata": {
    "colab": {
     "base_uri": "https://localhost:8080/"
    },
    "executionInfo": {
     "elapsed": 847,
     "status": "ok",
     "timestamp": 1604326595682,
     "user": {
      "displayName": "alumnos bigdata",
      "photoUrl": "",
      "userId": "10710302360204190833"
     },
     "user_tz": -60
    },
    "id": "oYg-U6sZF5ij",
    "outputId": "abba9382-2da6-479f-ccbf-0baf912b774e"
   },
   "outputs": [
    {
     "data": {
      "text/plain": [
       "array([0, 1, 2], dtype=int16)"
      ]
     },
     "execution_count": 12,
     "metadata": {
      "tags": []
     },
     "output_type": "execute_result"
    }
   ],
   "source": [
    "i_np = np.array(range(3), dtype='int16')\n",
    "i_np"
   ]
  },
  {
   "cell_type": "markdown",
   "metadata": {
    "id": "gfrUpGgsF5i0"
   },
   "source": [
    "O convertir el numpy de un tipo interno a otro en un nuevo objeto con `.astype()`:"
   ]
  },
  {
   "cell_type": "code",
   "execution_count": null,
   "metadata": {
    "colab": {
     "base_uri": "https://localhost:8080/"
    },
    "executionInfo": {
     "elapsed": 798,
     "status": "ok",
     "timestamp": 1604326598341,
     "user": {
      "displayName": "alumnos bigdata",
      "photoUrl": "",
      "userId": "10710302360204190833"
     },
     "user_tz": -60
    },
    "id": "pXsMA8j_F5i4",
    "outputId": "d6513e22-f6a0-4297-bec9-513f9fefab05"
   },
   "outputs": [
    {
     "data": {
      "text/plain": [
       "array(['0', '1', '2'], dtype='<U6')"
      ]
     },
     "execution_count": 13,
     "metadata": {
      "tags": []
     },
     "output_type": "execute_result"
    }
   ],
   "source": [
    "s_i_np = i_np.astype(str)\n",
    "s_i_np"
   ]
  },
  {
   "cell_type": "markdown",
   "metadata": {
    "id": "02bF7ixjF5jO"
   },
   "source": [
    "El tipo de la matriz numérica de las naves es:"
   ]
  },
  {
   "cell_type": "code",
   "execution_count": null,
   "metadata": {
    "colab": {
     "base_uri": "https://localhost:8080/"
    },
    "executionInfo": {
     "elapsed": 1064,
     "status": "ok",
     "timestamp": 1604326600859,
     "user": {
      "displayName": "alumnos bigdata",
      "photoUrl": "",
      "userId": "10710302360204190833"
     },
     "user_tz": -60
    },
    "id": "28pFlxnCF5jT",
    "outputId": "f42511f5-8487-4693-bdac-1266ed015d3e"
   },
   "outputs": [
    {
     "data": {
      "text/plain": [
       "dtype('float64')"
      ]
     },
     "execution_count": 14,
     "metadata": {
      "tags": []
     },
     "output_type": "execute_result"
    }
   ],
   "source": [
    "starship_np.dtype"
   ]
  },
  {
   "cell_type": "markdown",
   "metadata": {
    "id": "_6DtdXyCF5jj"
   },
   "source": [
    "El vector de nombres tiene dtype object. Este tipo se utiliza para numpy de texto:"
   ]
  },
  {
   "cell_type": "code",
   "execution_count": null,
   "metadata": {
    "colab": {
     "base_uri": "https://localhost:8080/"
    },
    "executionInfo": {
     "elapsed": 1096,
     "status": "ok",
     "timestamp": 1604326603660,
     "user": {
      "displayName": "alumnos bigdata",
      "photoUrl": "",
      "userId": "10710302360204190833"
     },
     "user_tz": -60
    },
    "id": "yK_B_kEdF5jm",
    "outputId": "4b978f7e-6792-4b41-afd5-67a2dadfa2a8"
   },
   "outputs": [
    {
     "data": {
      "text/plain": [
       "dtype('O')"
      ]
     },
     "execution_count": 15,
     "metadata": {
      "tags": []
     },
     "output_type": "execute_result"
    }
   ],
   "source": [
    "starship_names.dtype"
   ]
  },
  {
   "cell_type": "markdown",
   "metadata": {
    "id": "I6NbQeQcF5j5"
   },
   "source": [
    "Así, se ve mejor:"
   ]
  },
  {
   "cell_type": "code",
   "execution_count": null,
   "metadata": {
    "colab": {
     "base_uri": "https://localhost:8080/"
    },
    "executionInfo": {
     "elapsed": 737,
     "status": "ok",
     "timestamp": 1604326606038,
     "user": {
      "displayName": "alumnos bigdata",
      "photoUrl": "",
      "userId": "10710302360204190833"
     },
     "user_tz": -60
    },
    "id": "MgGEDHKJF5j7",
    "outputId": "fd754ac3-f120-4ebf-8d67-188cc39ece79"
   },
   "outputs": [
    {
     "name": "stdout",
     "output_type": "stream",
     "text": [
      "object\n"
     ]
    }
   ],
   "source": [
    "print(starship_names.dtype)"
   ]
  },
  {
   "cell_type": "markdown",
   "metadata": {
    "id": "TuyYCGHgF5kP"
   },
   "source": [
    "#### 5.3. Funciones Universales\n",
    "\n",
    "En numpy, las funciones universales o *ufunc*, son un conjunto de funciones que vectorizan, es decir, que al aplicarlas sobre un objeto numpy, se aplica sobre cada uno de los elementos que lo componen. \n",
    "\n",
    "> **Recuerda**: Ya comentamos las funciones que vectorizan, en el capitulo de funciones de R. \n",
    "\n",
    "Típicamente, las funciones de este tipo son las funciones aritméticas:"
   ]
  },
  {
   "cell_type": "code",
   "execution_count": null,
   "metadata": {
    "colab": {
     "base_uri": "https://localhost:8080/"
    },
    "executionInfo": {
     "elapsed": 566,
     "status": "ok",
     "timestamp": 1604326609791,
     "user": {
      "displayName": "alumnos bigdata",
      "photoUrl": "",
      "userId": "10710302360204190833"
     },
     "user_tz": -60
    },
    "id": "e9GJVCZTF5kU",
    "outputId": "4ef41cd6-1f2e-45a0-9ce0-a3a5e5e66af4"
   },
   "outputs": [
    {
     "data": {
      "text/plain": [
       "array([2, 4, 6])"
      ]
     },
     "execution_count": 17,
     "metadata": {
      "tags": []
     },
     "output_type": "execute_result"
    }
   ],
   "source": [
    "np.array([1,2,3]) * 2  # multiplicación por escalar"
   ]
  },
  {
   "cell_type": "code",
   "execution_count": null,
   "metadata": {
    "colab": {
     "base_uri": "https://localhost:8080/"
    },
    "executionInfo": {
     "elapsed": 1130,
     "status": "ok",
     "timestamp": 1604326612662,
     "user": {
      "displayName": "alumnos bigdata",
      "photoUrl": "",
      "userId": "10710302360204190833"
     },
     "user_tz": -60
    },
    "id": "sFYu2QbuF5kj",
    "outputId": "618af358-ccf5-4a8c-d854-903892879595"
   },
   "outputs": [
    {
     "data": {
      "text/plain": [
       "array([5, 7, 9])"
      ]
     },
     "execution_count": 18,
     "metadata": {
      "tags": []
     },
     "output_type": "execute_result"
    }
   ],
   "source": [
    "np.array([1,2,3]) + np.array([4,5,6]) # suma vectores"
   ]
  },
  {
   "cell_type": "code",
   "execution_count": null,
   "metadata": {
    "colab": {
     "base_uri": "https://localhost:8080/"
    },
    "executionInfo": {
     "elapsed": 1009,
     "status": "ok",
     "timestamp": 1604326615330,
     "user": {
      "displayName": "alumnos bigdata",
      "photoUrl": "",
      "userId": "10710302360204190833"
     },
     "user_tz": -60
    },
    "id": "9cxNT5sxF5k5",
    "outputId": "e19e418d-4a33-4c79-d04f-12b1be2e075f"
   },
   "outputs": [
    {
     "data": {
      "text/plain": [
       "array([ 4, 10, 18])"
      ]
     },
     "execution_count": 19,
     "metadata": {
      "tags": []
     },
     "output_type": "execute_result"
    }
   ],
   "source": [
    "np.array([1,2,3]) * np.array([4,5,6]) # producto elemento a elemento"
   ]
  },
  {
   "cell_type": "markdown",
   "metadata": {
    "id": "XwEDsOQEF5lL"
   },
   "source": [
    "NumPy ofrece una extensa colección de funciones matemáticas que se aplican de forma vectorial. Algunas de ellas son:  `abs`,`sign`, `sqrt`, `log`, `log10`, `exp`, `sin`, `cos`, `tan`, `arcsin`, `arccos`, `arctan`, `sinh`, `cosh`, `tanh`, `arcsinh`, `arccosh` y `arctanh`."
   ]
  },
  {
   "cell_type": "code",
   "execution_count": null,
   "metadata": {
    "colab": {
     "base_uri": "https://localhost:8080/"
    },
    "executionInfo": {
     "elapsed": 790,
     "status": "ok",
     "timestamp": 1604326618268,
     "user": {
      "displayName": "alumnos bigdata",
      "photoUrl": "",
      "userId": "10710302360204190833"
     },
     "user_tz": -60
    },
    "id": "9a0g9Tr-F5lN",
    "outputId": "11513eb5-a2c2-47b6-e0fc-05dab944e749"
   },
   "outputs": [
    {
     "data": {
      "text/plain": [
       "array([1.        , 1.41421356, 1.73205081, 2.        ])"
      ]
     },
     "execution_count": 20,
     "metadata": {
      "tags": []
     },
     "output_type": "execute_result"
    }
   ],
   "source": [
    "np.sqrt(np.array([1,2,3,4]))"
   ]
  },
  {
   "cell_type": "markdown",
   "metadata": {
    "id": "of0yoElrF5lf"
   },
   "source": [
    "#### 5.4. Secuencias en Numpy\n",
    "\n",
    "La función propia de numpy es `np.arange(ini,fin,paso)`:"
   ]
  },
  {
   "cell_type": "code",
   "execution_count": null,
   "metadata": {
    "colab": {
     "base_uri": "https://localhost:8080/"
    },
    "executionInfo": {
     "elapsed": 753,
     "status": "ok",
     "timestamp": 1604326623937,
     "user": {
      "displayName": "alumnos bigdata",
      "photoUrl": "",
      "userId": "10710302360204190833"
     },
     "user_tz": -60
    },
    "id": "o2S-lYZKF5lg",
    "outputId": "5e65f234-950d-492e-cc5a-a2f40a3401ce"
   },
   "outputs": [
    {
     "data": {
      "text/plain": [
       "array([0, 2, 4])"
      ]
     },
     "execution_count": 21,
     "metadata": {
      "tags": []
     },
     "output_type": "execute_result"
    }
   ],
   "source": [
    "np.arange(0,6,2)"
   ]
  },
  {
   "cell_type": "markdown",
   "metadata": {
    "id": "JbsfFFn0F5l6"
   },
   "source": [
    "Secuencias de ceros:"
   ]
  },
  {
   "cell_type": "code",
   "execution_count": null,
   "metadata": {
    "colab": {
     "base_uri": "https://localhost:8080/"
    },
    "executionInfo": {
     "elapsed": 824,
     "status": "ok",
     "timestamp": 1604326627070,
     "user": {
      "displayName": "alumnos bigdata",
      "photoUrl": "",
      "userId": "10710302360204190833"
     },
     "user_tz": -60
    },
    "id": "P5mx3T7vF5mI",
    "outputId": "0be34b84-8f3c-440c-9e29-009013147536"
   },
   "outputs": [
    {
     "data": {
      "text/plain": [
       "array([0., 0., 0.])"
      ]
     },
     "execution_count": 22,
     "metadata": {
      "tags": []
     },
     "output_type": "execute_result"
    }
   ],
   "source": [
    "np.zeros(3)"
   ]
  },
  {
   "cell_type": "code",
   "execution_count": null,
   "metadata": {
    "colab": {
     "base_uri": "https://localhost:8080/"
    },
    "executionInfo": {
     "elapsed": 755,
     "status": "ok",
     "timestamp": 1604326629981,
     "user": {
      "displayName": "alumnos bigdata",
      "photoUrl": "",
      "userId": "10710302360204190833"
     },
     "user_tz": -60
    },
    "id": "Y5RQA4axF5mZ",
    "outputId": "cb2346cd-fec8-4469-9233-85e05d17cc0a"
   },
   "outputs": [
    {
     "data": {
      "text/plain": [
       "array([1., 1., 1.])"
      ]
     },
     "execution_count": 23,
     "metadata": {
      "tags": []
     },
     "output_type": "execute_result"
    }
   ],
   "source": [
    "np.ones(3)"
   ]
  },
  {
   "cell_type": "markdown",
   "metadata": {
    "id": "dQ--OIeTF5mu"
   },
   "source": [
    "Repetir todo el vector:"
   ]
  },
  {
   "cell_type": "code",
   "execution_count": null,
   "metadata": {
    "colab": {
     "base_uri": "https://localhost:8080/"
    },
    "executionInfo": {
     "elapsed": 723,
     "status": "ok",
     "timestamp": 1604326633361,
     "user": {
      "displayName": "alumnos bigdata",
      "photoUrl": "",
      "userId": "10710302360204190833"
     },
     "user_tz": -60
    },
    "id": "KUOAd3QyF5mw",
    "outputId": "cc462648-593f-4040-8fa8-cd530785c0e1"
   },
   "outputs": [
    {
     "data": {
      "text/plain": [
       "array([1, 2, 3, 1, 2, 3, 1, 2, 3, 1, 2, 3])"
      ]
     },
     "execution_count": 24,
     "metadata": {
      "tags": []
     },
     "output_type": "execute_result"
    }
   ],
   "source": [
    "a = [1,2,3]\n",
    "b = np.tile(a, 4)\n",
    "b"
   ]
  },
  {
   "cell_type": "markdown",
   "metadata": {
    "id": "srRSu5prF5m-"
   },
   "source": [
    "Repetir cada elemento de un vector:"
   ]
  },
  {
   "cell_type": "code",
   "execution_count": null,
   "metadata": {
    "colab": {
     "base_uri": "https://localhost:8080/"
    },
    "executionInfo": {
     "elapsed": 712,
     "status": "ok",
     "timestamp": 1604326635651,
     "user": {
      "displayName": "alumnos bigdata",
      "photoUrl": "",
      "userId": "10710302360204190833"
     },
     "user_tz": -60
    },
    "id": "8QBZbs1iF5nD",
    "outputId": "b02b9afe-b6b5-4078-de73-74cf1bc2d1ff"
   },
   "outputs": [
    {
     "data": {
      "text/plain": [
       "array([1, 1, 1, 1, 2, 2, 2, 2, 3, 3, 3, 3])"
      ]
     },
     "execution_count": 25,
     "metadata": {
      "tags": []
     },
     "output_type": "execute_result"
    }
   ],
   "source": [
    "a = [1,2,3]\n",
    "b = np.repeat(a, 4)\n",
    "b"
   ]
  },
  {
   "cell_type": "markdown",
   "metadata": {
    "id": "FW0ufl7VF5nR"
   },
   "source": [
    "#### 5.5. Dimensiones en Numpy"
   ]
  },
  {
   "cell_type": "code",
   "execution_count": null,
   "metadata": {
    "id": "mYSsHlVDF5nT"
   },
   "outputs": [],
   "source": [
    "np.random.seed(123)  # Semilla para poder reproducir\n",
    "\n",
    "x1 = np.random.randint(10, size=6)  # array 1-dimensional \n",
    "x2 = np.random.randint(10, size=(3, 4))  # array 2-dimensional\n",
    "x3 = np.random.randint(10, size=(3, 4, 5))  # array 3-dimensional "
   ]
  },
  {
   "cell_type": "code",
   "execution_count": null,
   "metadata": {
    "colab": {
     "base_uri": "https://localhost:8080/"
    },
    "executionInfo": {
     "elapsed": 928,
     "status": "ok",
     "timestamp": 1604326640842,
     "user": {
      "displayName": "alumnos bigdata",
      "photoUrl": "",
      "userId": "10710302360204190833"
     },
     "user_tz": -60
    },
    "id": "PS_a8nRpF5nj",
    "outputId": "8ecd8efe-9467-4929-922c-7bc47ebe7915"
   },
   "outputs": [
    {
     "name": "stdout",
     "output_type": "stream",
     "text": [
      "x3 número dimensiones:  3\n",
      "x3 shape: (3, 4, 5)\n",
      "x3 número de elmentos:  60\n",
      "X3 cantidad de bytes: 480 bytes\n"
     ]
    }
   ],
   "source": [
    "print(\"x3 número dimensiones: \", x3.ndim)\n",
    "print(\"x3 shape:\", x3.shape)\n",
    "print(\"x3 número de elmentos: \", x3.size)\n",
    "print(\"X3 cantidad de bytes:\", x3.nbytes, \"bytes\")"
   ]
  },
  {
   "cell_type": "markdown",
   "metadata": {
    "id": "R2qk6tm6F5nz"
   },
   "source": [
    "Nuestra matriz de naves interestelares:"
   ]
  },
  {
   "cell_type": "code",
   "execution_count": null,
   "metadata": {
    "colab": {
     "base_uri": "https://localhost:8080/"
    },
    "executionInfo": {
     "elapsed": 698,
     "status": "ok",
     "timestamp": 1604326643735,
     "user": {
      "displayName": "alumnos bigdata",
      "photoUrl": "",
      "userId": "10710302360204190833"
     },
     "user_tz": -60
    },
    "id": "aLwc3zQgF5n2",
    "outputId": "5d76cdbb-06b9-4778-a57e-0ed21767021e"
   },
   "outputs": [
    {
     "name": "stdout",
     "output_type": "stream",
     "text": [
      "Naves número dimensiones:  2\n",
      "Nombres número dimensiones:  1\n",
      "Naves shape: (14, 3)\n",
      "Nombres shape: (14,)\n",
      "Naves número de elmentos:  42\n",
      "Nombres número de elmentos:  14\n",
      "Naves cantidad de bytes: 336 bytes\n",
      "Nombres cantidad de bytes: 112 bytes\n"
     ]
    }
   ],
   "source": [
    "print(\"Naves número dimensiones: \", starship_np.ndim)\n",
    "print(\"Nombres número dimensiones: \", starship_names.ndim)\n",
    "print(\"Naves shape:\", starship_np.shape)\n",
    "print(\"Nombres shape:\", starship_names.shape)\n",
    "print(\"Naves número de elmentos: \", starship_np.size)\n",
    "print(\"Nombres número de elmentos: \", starship_names.size)\n",
    "print(\"Naves cantidad de bytes:\", starship_np.nbytes, \"bytes\")\n",
    "print(\"Nombres cantidad de bytes:\", starship_names.nbytes, \"bytes\")"
   ]
  },
  {
   "cell_type": "markdown",
   "metadata": {
    "id": "7a2sTa97F5oC"
   },
   "source": [
    "### 5.6. Filtros en Numpy\n",
    "\n",
    "Siguen las mismas reglas que en las listas pero, ahora, con más dimensiones:"
   ]
  },
  {
   "cell_type": "code",
   "execution_count": null,
   "metadata": {
    "colab": {
     "base_uri": "https://localhost:8080/"
    },
    "executionInfo": {
     "elapsed": 724,
     "status": "ok",
     "timestamp": 1604326647250,
     "user": {
      "displayName": "alumnos bigdata",
      "photoUrl": "",
      "userId": "10710302360204190833"
     },
     "user_tz": -60
    },
    "id": "bvqonHw9F5oF",
    "outputId": "6a7fe86c-de44-428b-af55-525e2869a3b8"
   },
   "outputs": [
    {
     "data": {
      "text/plain": [
       "array([[6, 1, 0, 1],\n",
       "       [9, 0, 0, 9],\n",
       "       [3, 4, 0, 0]])"
      ]
     },
     "execution_count": 29,
     "metadata": {
      "tags": []
     },
     "output_type": "execute_result"
    }
   ],
   "source": [
    "x2"
   ]
  },
  {
   "cell_type": "markdown",
   "metadata": {
    "id": "I_yUJTgzF5oX"
   },
   "source": [
    "Elemento de la matriz:"
   ]
  },
  {
   "cell_type": "code",
   "execution_count": null,
   "metadata": {
    "colab": {
     "base_uri": "https://localhost:8080/"
    },
    "executionInfo": {
     "elapsed": 971,
     "status": "ok",
     "timestamp": 1604326650163,
     "user": {
      "displayName": "alumnos bigdata",
      "photoUrl": "",
      "userId": "10710302360204190833"
     },
     "user_tz": -60
    },
    "id": "HKZCQhkxF5oa",
    "outputId": "733ad73e-d5b4-42b9-e11e-f5c4b0c01360"
   },
   "outputs": [
    {
     "data": {
      "text/plain": [
       "6"
      ]
     },
     "execution_count": 30,
     "metadata": {
      "tags": []
     },
     "output_type": "execute_result"
    }
   ],
   "source": [
    "x2[0, 0]"
   ]
  },
  {
   "cell_type": "markdown",
   "metadata": {
    "id": "17gJYTNsF5os"
   },
   "source": [
    "#### 5.6.1. Filtros Slicing"
   ]
  },
  {
   "cell_type": "markdown",
   "metadata": {
    "id": "Qdp_uJw5F5ou"
   },
   "source": [
    "Vector segunda columna:"
   ]
  },
  {
   "cell_type": "code",
   "execution_count": null,
   "metadata": {
    "colab": {
     "base_uri": "https://localhost:8080/"
    },
    "executionInfo": {
     "elapsed": 706,
     "status": "ok",
     "timestamp": 1604326653067,
     "user": {
      "displayName": "alumnos bigdata",
      "photoUrl": "",
      "userId": "10710302360204190833"
     },
     "user_tz": -60
    },
    "id": "SCxDxiIbF5ox",
    "outputId": "b523737e-6ff3-40ab-9025-93f463857b7e"
   },
   "outputs": [
    {
     "data": {
      "text/plain": [
       "array([1, 0, 4])"
      ]
     },
     "execution_count": 31,
     "metadata": {
      "tags": []
     },
     "output_type": "execute_result"
    }
   ],
   "source": [
    "x2[:,1]"
   ]
  },
  {
   "cell_type": "markdown",
   "metadata": {
    "id": "t76C2F36F5o-"
   },
   "source": [
    "Vector tercera fila:"
   ]
  },
  {
   "cell_type": "code",
   "execution_count": null,
   "metadata": {
    "colab": {
     "base_uri": "https://localhost:8080/"
    },
    "executionInfo": {
     "elapsed": 833,
     "status": "ok",
     "timestamp": 1604326655646,
     "user": {
      "displayName": "alumnos bigdata",
      "photoUrl": "",
      "userId": "10710302360204190833"
     },
     "user_tz": -60
    },
    "id": "yrwqGVAZF5pA",
    "outputId": "6eeed2e1-e627-48bb-f0f6-e750b0ab26da"
   },
   "outputs": [
    {
     "data": {
      "text/plain": [
       "array([3, 4, 0, 0])"
      ]
     },
     "execution_count": 32,
     "metadata": {
      "tags": []
     },
     "output_type": "execute_result"
    }
   ],
   "source": [
    "x2[2,:]"
   ]
  },
  {
   "cell_type": "markdown",
   "metadata": {
    "id": "YsQ7OHqdF5pN"
   },
   "source": [
    "O, la misma fila, por omisión del segundo elemento:"
   ]
  },
  {
   "cell_type": "code",
   "execution_count": null,
   "metadata": {
    "colab": {
     "base_uri": "https://localhost:8080/"
    },
    "executionInfo": {
     "elapsed": 695,
     "status": "ok",
     "timestamp": 1604326657671,
     "user": {
      "displayName": "alumnos bigdata",
      "photoUrl": "",
      "userId": "10710302360204190833"
     },
     "user_tz": -60
    },
    "id": "VjYzpEaLF5pO",
    "outputId": "224ccde6-2d68-4b13-ad43-f8acecf54ed3"
   },
   "outputs": [
    {
     "data": {
      "text/plain": [
       "array([3, 4, 0, 0])"
      ]
     },
     "execution_count": 33,
     "metadata": {
      "tags": []
     },
     "output_type": "execute_result"
    }
   ],
   "source": [
    "x2[2]"
   ]
  },
  {
   "cell_type": "markdown",
   "metadata": {
    "id": "-lLsvMBcF5pa"
   },
   "source": [
    "En nuestras naves, las columnas eran: cost_in_credits, MGLT, crew.\n",
    "\n",
    "Para acceder a la velocidad (MGLT):"
   ]
  },
  {
   "cell_type": "code",
   "execution_count": null,
   "metadata": {
    "colab": {
     "base_uri": "https://localhost:8080/"
    },
    "executionInfo": {
     "elapsed": 716,
     "status": "ok",
     "timestamp": 1604326661283,
     "user": {
      "displayName": "alumnos bigdata",
      "photoUrl": "",
      "userId": "10710302360204190833"
     },
     "user_tz": -60
    },
    "id": "gbTrT3laF5pc",
    "outputId": "429e7c0b-e74d-4aaf-8f55-cacccd4ecacd"
   },
   "outputs": [
    {
     "data": {
      "text/plain": [
       "array([ 60.,  60.,  70.,  10.,  75.,  80., 100.,  40.,  50.,  40.,  60.,\n",
       "       120.,  91., 100.])"
      ]
     },
     "execution_count": 34,
     "metadata": {
      "tags": []
     },
     "output_type": "execute_result"
    }
   ],
   "source": [
    "starship_np[:,1]"
   ]
  },
  {
   "cell_type": "markdown",
   "metadata": {
    "id": "IqlTodMXF5po"
   },
   "source": [
    "Para seleccionar la 5ª nave, se selecciona una fila 4:"
   ]
  },
  {
   "cell_type": "code",
   "execution_count": null,
   "metadata": {
    "colab": {
     "base_uri": "https://localhost:8080/"
    },
    "executionInfo": {
     "elapsed": 923,
     "status": "ok",
     "timestamp": 1604326663930,
     "user": {
      "displayName": "alumnos bigdata",
      "photoUrl": "",
      "userId": "10710302360204190833"
     },
     "user_tz": -60
    },
    "id": "q3rFk6VLF5pq",
    "outputId": "f02db35c-9e5d-4bc5-c9f8-7fe1d8aab16d"
   },
   "outputs": [
    {
     "data": {
      "text/plain": [
       "array([1.0e+05, 7.5e+01, 4.0e+00])"
      ]
     },
     "execution_count": 35,
     "metadata": {
      "tags": []
     },
     "output_type": "execute_result"
    }
   ],
   "source": [
    "starship_np[4,:]"
   ]
  },
  {
   "cell_type": "markdown",
   "metadata": {
    "id": "tALLtgjWF5p1"
   },
   "source": [
    "Para ver su nombre:"
   ]
  },
  {
   "cell_type": "code",
   "execution_count": null,
   "metadata": {
    "colab": {
     "base_uri": "https://localhost:8080/",
     "height": 36
    },
    "executionInfo": {
     "elapsed": 699,
     "status": "ok",
     "timestamp": 1604326666983,
     "user": {
      "displayName": "alumnos bigdata",
      "photoUrl": "",
      "userId": "10710302360204190833"
     },
     "user_tz": -60
    },
    "id": "I4w7HcbNF5p3",
    "outputId": "143b261e-a7df-4cff-9bd1-cf2d543f8893"
   },
   "outputs": [
    {
     "data": {
      "application/vnd.google.colaboratory.intrinsic+json": {
       "type": "string"
      },
      "text/plain": [
       "'Millennium Falcon'"
      ]
     },
     "execution_count": 36,
     "metadata": {
      "tags": []
     },
     "output_type": "execute_result"
    }
   ],
   "source": [
    "starship_names[4]"
   ]
  },
  {
   "cell_type": "markdown",
   "metadata": {
    "id": "LKCQie2nF5qF"
   },
   "source": [
    "#### 5.6.2. Indexación Elegante\n"
   ]
  },
  {
   "cell_type": "markdown",
   "metadata": {
    "id": "I3NKSRueNa7w"
   },
   "source": [
    "\n",
    "##### 5.6.2.1. Filtros Posicionales\n",
    "\n",
    "Otra mejora respecto a las listas es la capacidad de indexar por una lista o array.\n",
    "\n",
    "Para filtrar por un array unidimensional de posiciones:"
   ]
  },
  {
   "cell_type": "code",
   "execution_count": null,
   "metadata": {
    "colab": {
     "base_uri": "https://localhost:8080/"
    },
    "eval": false,
    "executionInfo": {
     "elapsed": 847,
     "status": "ok",
     "timestamp": 1604326671822,
     "user": {
      "displayName": "alumnos bigdata",
      "photoUrl": "",
      "userId": "10710302360204190833"
     },
     "user_tz": -60
    },
    "id": "Bzxtn7D4F5qH",
    "outputId": "ab463c47-4550-490a-9b81-5fbc3fc7b06b"
   },
   "outputs": [
    {
     "data": {
      "text/plain": [
       "array([2, 2, 6, 1, 3, 9])"
      ]
     },
     "execution_count": 37,
     "metadata": {
      "tags": []
     },
     "output_type": "execute_result"
    }
   ],
   "source": [
    "x1"
   ]
  },
  {
   "cell_type": "code",
   "execution_count": null,
   "metadata": {
    "colab": {
     "base_uri": "https://localhost:8080/"
    },
    "executionInfo": {
     "elapsed": 724,
     "status": "ok",
     "timestamp": 1604326674354,
     "user": {
      "displayName": "alumnos bigdata",
      "photoUrl": "",
      "userId": "10710302360204190833"
     },
     "user_tz": -60
    },
    "id": "IF_5ggmxF5qU",
    "outputId": "dc19836c-8f7c-4ca0-f9a0-31b061f5f391"
   },
   "outputs": [
    {
     "data": {
      "text/plain": [
       "array([2, 6, 9])"
      ]
     },
     "execution_count": 38,
     "metadata": {
      "tags": []
     },
     "output_type": "execute_result"
    }
   ],
   "source": [
    "ind = [0,2,5]\n",
    "x1[ind]"
   ]
  },
  {
   "cell_type": "markdown",
   "metadata": {
    "id": "hzVN9mz0F5qg"
   },
   "source": [
    "> **Recuerda**: En el objeto list, esta operación no es posible. En su lugar, se utilizan las list comprehension."
   ]
  },
  {
   "cell_type": "markdown",
   "metadata": {
    "id": "6fTjZ7ilF5qj"
   },
   "source": [
    "En dos dimensiones, a diferencia de lo visto en R, se aparean por coordenadas filas y columnas, es lo que se llama Broadcasting. Lo veremos más adelante:"
   ]
  },
  {
   "cell_type": "code",
   "execution_count": null,
   "metadata": {
    "colab": {
     "base_uri": "https://localhost:8080/"
    },
    "executionInfo": {
     "elapsed": 1339,
     "status": "ok",
     "timestamp": 1604326677782,
     "user": {
      "displayName": "alumnos bigdata",
      "photoUrl": "",
      "userId": "10710302360204190833"
     },
     "user_tz": -60
    },
    "id": "ZkIXVobTF5ql",
    "outputId": "29ebccac-bac5-4d5f-ee20-2db1107bb1fa"
   },
   "outputs": [
    {
     "data": {
      "text/plain": [
       "array([[6, 1, 0, 1],\n",
       "       [9, 0, 0, 9],\n",
       "       [3, 4, 0, 0]])"
      ]
     },
     "execution_count": 39,
     "metadata": {
      "tags": []
     },
     "output_type": "execute_result"
    }
   ],
   "source": [
    "x2"
   ]
  },
  {
   "cell_type": "code",
   "execution_count": null,
   "metadata": {
    "colab": {
     "base_uri": "https://localhost:8080/"
    },
    "executionInfo": {
     "elapsed": 759,
     "status": "ok",
     "timestamp": 1604326681014,
     "user": {
      "displayName": "alumnos bigdata",
      "photoUrl": "",
      "userId": "10710302360204190833"
     },
     "user_tz": -60
    },
    "id": "p6KYPXh8F5qz",
    "outputId": "ab6407c3-99ed-4356-ee68-e108e5449143"
   },
   "outputs": [
    {
     "data": {
      "text/plain": [
       "array([6, 9])"
      ]
     },
     "execution_count": 40,
     "metadata": {
      "tags": []
     },
     "output_type": "execute_result"
    }
   ],
   "source": [
    "fils = np.array([0,1])\n",
    "cols = np.array([0,3])\n",
    "\n",
    "x2[fils,cols]"
   ]
  },
  {
   "cell_type": "markdown",
   "metadata": {
    "id": "qyWa2jaNF5q-"
   },
   "source": [
    "> **Recuerda**: en arrays numpy los filtros por posición, se seleccionan apareando coordenadas fila y columna. Ve a la sección de Broadcasting, para saber más.\n",
    "\n",
    "En R se obtendría el siguiente resultado:"
   ]
  },
  {
   "cell_type": "code",
   "execution_count": null,
   "metadata": {
    "colab": {
     "base_uri": "https://localhost:8080/"
    },
    "executionInfo": {
     "elapsed": 745,
     "status": "ok",
     "timestamp": 1604326683774,
     "user": {
      "displayName": "alumnos bigdata",
      "photoUrl": "",
      "userId": "10710302360204190833"
     },
     "user_tz": -60
    },
    "id": "gfNySjsKF5rB",
    "outputId": "a845e65c-575d-43b7-a9c8-0f7856a126bc"
   },
   "outputs": [
    {
     "data": {
      "text/plain": [
       "array([[6, 1],\n",
       "       [9, 9]])"
      ]
     },
     "execution_count": 41,
     "metadata": {
      "tags": []
     },
     "output_type": "execute_result"
    }
   ],
   "source": [
    "x2[fils,:][:,cols]"
   ]
  },
  {
   "cell_type": "markdown",
   "metadata": {
    "id": "hgR3nmqKF5rR"
   },
   "source": [
    "##### 5.6.2.2. Filtros Lógicos \n",
    "\n",
    "Otro mecanismo *fancy indexing* son los filtros lógicos. \n",
    "\n",
    "Antes, recordemos que para obtener el número de tripulantes (crew): "
   ]
  },
  {
   "cell_type": "code",
   "execution_count": null,
   "metadata": {
    "colab": {
     "base_uri": "https://localhost:8080/"
    },
    "eval": false,
    "executionInfo": {
     "elapsed": 740,
     "status": "ok",
     "timestamp": 1604326687668,
     "user": {
      "displayName": "alumnos bigdata",
      "photoUrl": "",
      "userId": "10710302360204190833"
     },
     "user_tz": -60
    },
    "id": "aeogC5IpF5rU",
    "outputId": "63c6d1d1-8372-49c1-b1c2-2c37af25c15f"
   },
   "outputs": [
    {
     "data": {
      "text/plain": [
       "array([1.65000e+02, 4.70600e+04, 5.00000e+00, 3.42953e+05, 4.00000e+00,\n",
       "       2.00000e+00, 1.00000e+00, 2.79144e+05, 6.00000e+00, 8.54000e+02,\n",
       "       5.40000e+03, 1.00000e+00, 1.00000e+00, 3.00000e+00])"
      ]
     },
     "execution_count": 42,
     "metadata": {
      "tags": []
     },
     "output_type": "execute_result"
    }
   ],
   "source": [
    "starship_np[:,2]"
   ]
  },
  {
   "cell_type": "markdown",
   "metadata": {
    "id": "9k7-i9XhF5rz"
   },
   "source": [
    "Para saber cuáles son las naves de 4 o más tripulantes:"
   ]
  },
  {
   "cell_type": "code",
   "execution_count": null,
   "metadata": {
    "colab": {
     "base_uri": "https://localhost:8080/"
    },
    "executionInfo": {
     "elapsed": 732,
     "status": "ok",
     "timestamp": 1604326690810,
     "user": {
      "displayName": "alumnos bigdata",
      "photoUrl": "",
      "userId": "10710302360204190833"
     },
     "user_tz": -60
    },
    "id": "CmjmNg6vF5r6",
    "outputId": "8606e42c-31a2-47fd-be75-e8b93b897729"
   },
   "outputs": [
    {
     "data": {
      "text/plain": [
       "array([ True,  True,  True,  True,  True, False, False,  True,  True,\n",
       "        True,  True, False, False, False])"
      ]
     },
     "execution_count": 43,
     "metadata": {
      "tags": []
     },
     "output_type": "execute_result"
    }
   ],
   "source": [
    "starship_np[:,2] >= 4"
   ]
  },
  {
   "cell_type": "markdown",
   "metadata": {
    "id": "9Ii6jneXF5sF"
   },
   "source": [
    "Si queremos rescatar sus nombres:"
   ]
  },
  {
   "cell_type": "code",
   "execution_count": null,
   "metadata": {
    "colab": {
     "base_uri": "https://localhost:8080/"
    },
    "executionInfo": {
     "elapsed": 1050,
     "status": "ok",
     "timestamp": 1604326694346,
     "user": {
      "displayName": "alumnos bigdata",
      "photoUrl": "",
      "userId": "10710302360204190833"
     },
     "user_tz": -60
    },
    "id": "4nBBBfLWF5sH",
    "outputId": "5a142e92-b073-4cd3-a367-f0a15c9fa161"
   },
   "outputs": [
    {
     "data": {
      "text/plain": [
       "array(['CR90 corvette', 'Star Destroyer', 'Sentinel-class landing craft',\n",
       "       'Death Star', 'Millennium Falcon', 'Executor', 'Imperial shuttle',\n",
       "       'EF76 Nebulon-B escort frigate', 'Calamari Cruiser'], dtype=object)"
      ]
     },
     "execution_count": 44,
     "metadata": {
      "tags": []
     },
     "output_type": "execute_result"
    }
   ],
   "source": [
    "starship_names[starship_np[:,2] >= 4]"
   ]
  },
  {
   "cell_type": "markdown",
   "metadata": {
    "id": "GHAPA4YbF5sY"
   },
   "source": [
    "Continúan funcionando los operadores distinto `!=`, en `in`, no en `not in`."
   ]
  },
  {
   "cell_type": "code",
   "execution_count": null,
   "metadata": {
    "colab": {
     "base_uri": "https://localhost:8080/"
    },
    "executionInfo": {
     "elapsed": 745,
     "status": "ok",
     "timestamp": 1604326697476,
     "user": {
      "displayName": "alumnos bigdata",
      "photoUrl": "",
      "userId": "10710302360204190833"
     },
     "user_tz": -60
    },
    "id": "wEnCpgtmF5sc",
    "outputId": "a91f9e11-61dd-42e2-8186-e14cf9181ccb"
   },
   "outputs": [
    {
     "data": {
      "text/plain": [
       "True"
      ]
     },
     "execution_count": 45,
     "metadata": {
      "tags": []
     },
     "output_type": "execute_result"
    }
   ],
   "source": [
    "'Millennium Falcon' in starship_names[starship_np[:,2] >= 4]"
   ]
  },
  {
   "cell_type": "markdown",
   "metadata": {
    "id": "JSW1NIoEF5sm"
   },
   "source": [
    "> Para reproducir el mismo comportamiento que el operador `a %in% b` de R se utiliza `np.isin(a, b)`:"
   ]
  },
  {
   "cell_type": "code",
   "execution_count": null,
   "metadata": {
    "colab": {
     "base_uri": "https://localhost:8080/"
    },
    "executionInfo": {
     "elapsed": 777,
     "status": "ok",
     "timestamp": 1604326701288,
     "user": {
      "displayName": "alumnos bigdata",
      "photoUrl": "",
      "userId": "10710302360204190833"
     },
     "user_tz": -60
    },
    "id": "ka4sThFQF5so",
    "outputId": "4a2f7ca5-578f-4d95-a572-dd08dda8552c"
   },
   "outputs": [
    {
     "data": {
      "text/plain": [
       "array([False, False,  True,  True])"
      ]
     },
     "execution_count": 46,
     "metadata": {
      "tags": []
     },
     "output_type": "execute_result"
    }
   ],
   "source": [
    "a = np.array([1, 2, 3, 4])\n",
    "b = np.array([3, 4, 5])\n",
    "np.isin(a,b)"
   ]
  },
  {
   "cell_type": "markdown",
   "metadata": {
    "id": "pCLknuxWF5s2"
   },
   "source": [
    "##### 5.6.2.3. Operaciones Booleanas \n",
    "\n",
    "Utilizamos los `&`, `|` y `~` en vez de los `and`, `or`, `not` (respec.) utilizados en los tipos lógicos. Será necesario cerrar las expresiones entre paréntesis. \n",
    "\n",
    "Por ejemplo:\n",
    "\n",
    "```\n",
    "( A > 1 ) |  ( B < 5)\n",
    "```\n",
    "\n",
    "Respecto a nuestras naves, las que tienen 4 o más tripulantes y que cuestan menos de 1M de créditos:"
   ]
  },
  {
   "cell_type": "code",
   "execution_count": null,
   "metadata": {
    "colab": {
     "base_uri": "https://localhost:8080/"
    },
    "executionInfo": {
     "elapsed": 821,
     "status": "ok",
     "timestamp": 1604326707326,
     "user": {
      "displayName": "alumnos bigdata",
      "photoUrl": "",
      "userId": "10710302360204190833"
     },
     "user_tz": -60
    },
    "id": "rtyiW1uSF5s5",
    "outputId": "c7f95a1d-3329-4f13-9268-3e07f04c9b28",
    "scrolled": true
   },
   "outputs": [
    {
     "data": {
      "text/plain": [
       "array(['Sentinel-class landing craft', 'Millennium Falcon',\n",
       "       'Imperial shuttle'], dtype=object)"
      ]
     },
     "execution_count": 47,
     "metadata": {
      "tags": []
     },
     "output_type": "execute_result"
    }
   ],
   "source": [
    "starship_names_sel = starship_names[(starship_np[:,2] >= 4) & (starship_np[:,0] <10**6)]\n",
    "starship_names_sel"
   ]
  },
  {
   "cell_type": "markdown",
   "metadata": {
    "eval": false,
    "id": "kA2SqD2gF5tH"
   },
   "source": [
    "> **Recuerda**: las dos expresiones van entre paréntesis.\n",
    "\n",
    "Ahora, filtramos la matriz de datos de estas naves:"
   ]
  },
  {
   "cell_type": "code",
   "execution_count": null,
   "metadata": {
    "colab": {
     "base_uri": "https://localhost:8080/"
    },
    "executionInfo": {
     "elapsed": 708,
     "status": "ok",
     "timestamp": 1604326710800,
     "user": {
      "displayName": "alumnos bigdata",
      "photoUrl": "",
      "userId": "10710302360204190833"
     },
     "user_tz": -60
    },
    "id": "lqt9A89qF5tJ",
    "outputId": "091867dc-3cf8-4580-affb-2d0b1d1aea3e"
   },
   "outputs": [
    {
     "data": {
      "text/plain": [
       "array([[2.4e+05, 7.0e+01, 5.0e+00],\n",
       "       [1.0e+05, 7.5e+01, 4.0e+00],\n",
       "       [2.4e+05, 5.0e+01, 6.0e+00]])"
      ]
     },
     "execution_count": 48,
     "metadata": {
      "tags": []
     },
     "output_type": "execute_result"
    }
   ],
   "source": [
    "starship_np_sel = starship_np[(starship_np[:,2] >= 4) & (starship_np[:,0] <10**6), :]\n",
    "starship_np_sel"
   ]
  },
  {
   "cell_type": "markdown",
   "metadata": {
    "id": "qUH_kQRhF5tZ"
   },
   "source": [
    "Gráficamente:"
   ]
  },
  {
   "cell_type": "code",
   "execution_count": null,
   "metadata": {
    "colab": {
     "base_uri": "https://localhost:8080/"
    },
    "executionInfo": {
     "elapsed": 724,
     "status": "ok",
     "timestamp": 1604326718507,
     "user": {
      "displayName": "alumnos bigdata",
      "photoUrl": "",
      "userId": "10710302360204190833"
     },
     "user_tz": -60
    },
    "id": "Xsp2l1BlF5ta",
    "outputId": "42a81388-8aee-4a78-a6b0-fcbb4f6e7291"
   },
   "outputs": [
    {
     "data": {
      "text/plain": [
       "array(['Sentinel-class landing craft', 'Millennium Falcon',\n",
       "       'Imperial shuttle'], dtype=object)"
      ]
     },
     "execution_count": 49,
     "metadata": {
      "tags": []
     },
     "output_type": "execute_result"
    }
   ],
   "source": [
    "starship_names_sel"
   ]
  },
  {
   "cell_type": "code",
   "execution_count": null,
   "metadata": {
    "colab": {
     "base_uri": "https://localhost:8080/",
     "height": 276
    },
    "executionInfo": {
     "elapsed": 877,
     "status": "ok",
     "timestamp": 1604326722483,
     "user": {
      "displayName": "alumnos bigdata",
      "photoUrl": "",
      "userId": "10710302360204190833"
     },
     "user_tz": -60
    },
    "id": "wjqHoIwWF5uF",
    "outputId": "1a05acf4-cc5f-4fc8-f917-1bbcf3120fa1"
   },
   "outputs": [
    {
     "data": {
      "image/png": "[encoded data removed]",
      "text/plain": [
       "<Figure size 432x288 with 1 Axes>"
      ]
     },
     "metadata": {
      "tags": []
     },
     "output_type": "display_data"
    }
   ],
   "source": [
    "ind = np.arange(len(starship_names_sel))    # posiciones\n",
    "\n",
    "plt.bar(ind, starship_np_sel[:,1] );\n",
    "\n",
    "for i in ind:\n",
    "    plt.text(ind[i],starship_np_sel[i,1], int(starship_np_sel[i,1]),size=9)\n",
    "\n",
    "plt.gcf().subplots_adjust(left=0.15,bottom=0.15)\n",
    "plt.ylabel('Velocidad (MGLT)')\n",
    "plt.title('Naves Interestelares seleccionadas')\n",
    "p = plt.xticks(ind, starship_names_sel,fontsize=9);\n"
   ]
  },
  {
   "cell_type": "markdown",
   "metadata": {
    "id": "gWMz4gPhF5uQ"
   },
   "source": [
    "¡Parece que el Halcón Milenario con 75 MGLT, es la nave que andábamos buscando!"
   ]
  },
  {
   "cell_type": "markdown",
   "metadata": {
    "id": "eAet3mf2F5uR"
   },
   "source": [
    "### 5.7. Modificar Arrays"
   ]
  },
  {
   "cell_type": "markdown",
   "metadata": {
    "id": "7x4YB74LF5uT"
   },
   "source": [
    "Para modificar un valor de un array:"
   ]
  },
  {
   "cell_type": "code",
   "execution_count": null,
   "metadata": {
    "colab": {
     "base_uri": "https://localhost:8080/"
    },
    "executionInfo": {
     "elapsed": 748,
     "status": "ok",
     "timestamp": 1604326730789,
     "user": {
      "displayName": "alumnos bigdata",
      "photoUrl": "",
      "userId": "10710302360204190833"
     },
     "user_tz": -60
    },
    "id": "RY6yeyrwF5uW",
    "outputId": "b827bab1-71a4-41c4-ef29-524d8cf32062"
   },
   "outputs": [
    {
     "data": {
      "text/plain": [
       "array([[6, 1, 0, 1],\n",
       "       [9, 0, 0, 9],\n",
       "       [3, 4, 0, 0]])"
      ]
     },
     "execution_count": 51,
     "metadata": {
      "tags": []
     },
     "output_type": "execute_result"
    }
   ],
   "source": [
    "x2"
   ]
  },
  {
   "cell_type": "code",
   "execution_count": null,
   "metadata": {
    "colab": {
     "base_uri": "https://localhost:8080/"
    },
    "executionInfo": {
     "elapsed": 906,
     "status": "ok",
     "timestamp": 1604326733980,
     "user": {
      "displayName": "alumnos bigdata",
      "photoUrl": "",
      "userId": "10710302360204190833"
     },
     "user_tz": -60
    },
    "id": "qUqrIZilF5ug",
    "outputId": "75aaaf1e-652a-4c9f-91d9-0e6aeacbd6f6"
   },
   "outputs": [
    {
     "data": {
      "text/plain": [
       "array([[ 6,  1,  0,  1],\n",
       "       [ 9, 20,  0,  9],\n",
       "       [ 3,  4,  0,  0]])"
      ]
     },
     "execution_count": 52,
     "metadata": {
      "tags": []
     },
     "output_type": "execute_result"
    }
   ],
   "source": [
    "x2[1,1] = 20\n",
    "x2"
   ]
  },
  {
   "cell_type": "markdown",
   "metadata": {
    "id": "5A9YGcX_F5uq"
   },
   "source": [
    "Mucha precaución con el tipo interno del numpy ya que es fijo. No se va a modificar:"
   ]
  },
  {
   "cell_type": "code",
   "execution_count": null,
   "metadata": {
    "colab": {
     "base_uri": "https://localhost:8080/"
    },
    "executionInfo": {
     "elapsed": 591,
     "status": "ok",
     "timestamp": 1604326736979,
     "user": {
      "displayName": "alumnos bigdata",
      "photoUrl": "",
      "userId": "10710302360204190833"
     },
     "user_tz": -60
    },
    "id": "JWr3f2NaF5us",
    "outputId": "da061563-f518-4b9b-8712-b2fdda2648b4"
   },
   "outputs": [
    {
     "data": {
      "text/plain": [
       "array([[ 6,  1,  0,  1],\n",
       "       [ 9, 20,  0,  9],\n",
       "       [ 3,  4,  0,  0]])"
      ]
     },
     "execution_count": 53,
     "metadata": {
      "tags": []
     },
     "output_type": "execute_result"
    }
   ],
   "source": [
    "x2[1,1] = 20.765\n",
    "x2"
   ]
  },
  {
   "cell_type": "markdown",
   "metadata": {
    "id": "Xmbpao2cF5u3"
   },
   "source": [
    "> **Recuerda**: Si intentas insertar un valor en coma flotante sobre un numpy con tipo entero, éste se va a cortar."
   ]
  },
  {
   "cell_type": "markdown",
   "metadata": {
    "id": "w47oaaNuF5u5"
   },
   "source": [
    "Se pueden modificar N valores con un vector de N posiciones."
   ]
  },
  {
   "cell_type": "code",
   "execution_count": null,
   "metadata": {
    "colab": {
     "base_uri": "https://localhost:8080/"
    },
    "executionInfo": {
     "elapsed": 988,
     "status": "ok",
     "timestamp": 1604326743157,
     "user": {
      "displayName": "alumnos bigdata",
      "photoUrl": "",
      "userId": "10710302360204190833"
     },
     "user_tz": -60
    },
    "id": "rAC7e-K-F5u7",
    "outputId": "37d11c0f-2505-4797-b78b-ac09fa9298da"
   },
   "outputs": [
    {
     "data": {
      "text/plain": [
       "array([[ 6,  1,  0,  1],\n",
       "       [60, 10,  0, 10],\n",
       "       [ 3,  4,  0,  0]])"
      ]
     },
     "execution_count": 54,
     "metadata": {
      "tags": []
     },
     "output_type": "execute_result"
    }
   ],
   "source": [
    "x2[1,:] = x2[0,:] * 10 \n",
    "x2"
   ]
  },
  {
   "cell_type": "markdown",
   "metadata": {
    "id": "uG-EMgQhF5vE"
   },
   "source": [
    "También, se pueden modificar varios a la vez, con un único valor."
   ]
  },
  {
   "cell_type": "code",
   "execution_count": null,
   "metadata": {
    "colab": {
     "base_uri": "https://localhost:8080/"
    },
    "executionInfo": {
     "elapsed": 704,
     "status": "ok",
     "timestamp": 1604326746856,
     "user": {
      "displayName": "alumnos bigdata",
      "photoUrl": "",
      "userId": "10710302360204190833"
     },
     "user_tz": -60
    },
    "id": "7rpUJ1htF5vG",
    "outputId": "f90b6f7b-1ad4-4143-d336-aa68734d3d78"
   },
   "outputs": [
    {
     "data": {
      "text/plain": [
       "array([[ 6,  1,  0,  1],\n",
       "       [60, 10, 55, 10],\n",
       "       [ 3,  4, 55,  0]])"
      ]
     },
     "execution_count": 55,
     "metadata": {
      "tags": []
     },
     "output_type": "execute_result"
    }
   ],
   "source": [
    "x2[[1,2],[2,2]] = 55\n",
    "x2"
   ]
  },
  {
   "cell_type": "markdown",
   "metadata": {
    "id": "wSDlx02cF5vO"
   },
   "source": [
    "#### 5.7.1. Vistas no copiadas\n",
    "\n",
    "Cuando se asigna un array numpy a otro objeto, ya sea filtrado con `[,]` o no, éste retorna una vista, no una copia. Es muy importante tenerlo en cuenta, cuando se modifica el objeto:\n"
   ]
  },
  {
   "cell_type": "code",
   "execution_count": 3,
   "metadata": {
    "colab": {
     "base_uri": "https://localhost:8080/"
    },
    "executionInfo": {
     "elapsed": 713,
     "status": "ok",
     "timestamp": 1604326751570,
     "user": {
      "displayName": "alumnos bigdata",
      "photoUrl": "",
      "userId": "10710302360204190833"
     },
     "user_tz": -60
    },
    "id": "dHJBZufYF5vP",
    "outputId": "ff3ea001-1ebe-4ee6-f045-b391f32e0ae3"
   },
   "outputs": [
    {
     "data": {
      "text/plain": [
       "array([10, 'm', list([2, 3, 4])], dtype=object)"
      ]
     },
     "execution_count": 3,
     "metadata": {},
     "output_type": "execute_result"
    }
   ],
   "source": [
    "a = np.array([1, 'm', [2, 3, 4]], dtype=object)\n",
    "b = a\n",
    "b[0] = 10\n",
    "a"
   ]
  },
  {
   "cell_type": "markdown",
   "metadata": {
    "id": "DPDNr5lkF5v4"
   },
   "source": [
    "> **Importante**: Los cambios en una vista no copiada, afectan a todas las copias."
   ]
  },
  {
   "cell_type": "markdown",
   "metadata": {
    "id": "spX1SkU1F5v6"
   },
   "source": [
    "#### 5.7.2. Copias de Arrays \n",
    "\n",
    "Para copiar un array a otro objeto utiliza `copy()`:\n"
   ]
  },
  {
   "cell_type": "code",
   "execution_count": 4,
   "metadata": {
    "id": "-3M275Q2F5v8"
   },
   "outputs": [
    {
     "name": "stdout",
     "output_type": "stream",
     "text": [
      "[10 'm' list([2, 3, 4])]\n"
     ]
    }
   ],
   "source": [
    "c = a.copy() # COPIAS DE ARRAYS\n",
    "c[0] = 20\n",
    "print(a)"
   ]
  },
  {
   "cell_type": "markdown",
   "metadata": {
    "id": "vcKacYLNF5wk"
   },
   "source": [
    "Ahora, el objeto original, no cambia. Pero no es perfecto!"
   ]
  },
  {
   "cell_type": "code",
   "execution_count": 5,
   "metadata": {
    "colab": {
     "base_uri": "https://localhost:8080/"
    },
    "executionInfo": {
     "elapsed": 824,
     "status": "ok",
     "timestamp": 1604326766577,
     "user": {
      "displayName": "alumnos bigdata",
      "photoUrl": "",
      "userId": "10710302360204190833"
     },
     "user_tz": -60
    },
    "id": "Qh8haXqlF5wc",
    "outputId": "1cd9da91-89b1-47c6-af0e-349edb4424f8"
   },
   "outputs": [
    {
     "name": "stdout",
     "output_type": "stream",
     "text": [
      "[10 'm' list([30, 3, 4])]\n"
     ]
    }
   ],
   "source": [
    "c[2][0] = 30\n",
    "print(a)"
   ]
  },
  {
   "cell_type": "markdown",
   "metadata": {
    "id": "vcKacYLNF5wk"
   },
   "source": [
    "Internamente continua utilizando referencias a los mismos objetos."
   ]
  },
  {
   "cell_type": "markdown",
   "metadata": {
    "id": "spX1SkU1F5v6"
   },
   "source": [
    "#### 5.7.2.1 Copias profundas de Arrays \n",
    "\n",
    "Veamos en que consiste."
   ]
  },
  {
   "cell_type": "code",
   "execution_count": 6,
   "metadata": {
    "id": "-3M275Q2F5v8"
   },
   "outputs": [
    {
     "name": "stdout",
     "output_type": "stream",
     "text": [
      "[10 'm' list([30, 3, 4])]\n"
     ]
    }
   ],
   "source": [
    "import copy\n",
    "d = copy.deepcopy(a)\n",
    "d[2][0] = 40\n",
    "print(a)\n"
   ]
  },
  {
   "cell_type": "markdown",
   "metadata": {
    "id": "vcKacYLNF5wk"
   },
   "source": [
    "Ahora copia la estructura interna."
   ]
  },
  {
   "cell_type": "markdown",
   "metadata": {
    "id": "avjeAduPF5wn"
   },
   "source": [
    "#### 5.7.3. Cambios de *Shape*\n",
    "\n",
    "Con `.reshape()` se puede modificar las dimensiones del array:"
   ]
  },
  {
   "cell_type": "code",
   "execution_count": null,
   "metadata": {
    "colab": {
     "base_uri": "https://localhost:8080/"
    },
    "executionInfo": {
     "elapsed": 747,
     "status": "ok",
     "timestamp": 1604326769644,
     "user": {
      "displayName": "alumnos bigdata",
      "photoUrl": "",
      "userId": "10710302360204190833"
     },
     "user_tz": -60
    },
    "id": "mHQoGxAxF5wo",
    "outputId": "a32eabc5-dbc3-4d6d-e56b-5f7040086e31"
   },
   "outputs": [
    {
     "data": {
      "text/plain": [
       "array([2, 2, 6, 1, 3, 9])"
      ]
     },
     "execution_count": 63,
     "metadata": {
      "tags": []
     },
     "output_type": "execute_result"
    }
   ],
   "source": [
    "x1"
   ]
  },
  {
   "cell_type": "code",
   "execution_count": null,
   "metadata": {
    "colab": {
     "base_uri": "https://localhost:8080/"
    },
    "executionInfo": {
     "elapsed": 767,
     "status": "ok",
     "timestamp": 1604326771591,
     "user": {
      "displayName": "alumnos bigdata",
      "photoUrl": "",
      "userId": "10710302360204190833"
     },
     "user_tz": -60
    },
    "id": "AjoOiMuoF5wy",
    "outputId": "cbee51f9-b27b-4397-9e7b-9cc0084bfdc9"
   },
   "outputs": [
    {
     "data": {
      "text/plain": [
       "array([[2, 2, 6],\n",
       "       [1, 3, 9]])"
      ]
     },
     "execution_count": 64,
     "metadata": {
      "tags": []
     },
     "output_type": "execute_result"
    }
   ],
   "source": [
    "x1.reshape(2,3)"
   ]
  },
  {
   "cell_type": "markdown",
   "metadata": {
    "id": "UVgmVZHeF5w-"
   },
   "source": [
    "#### 5.7.4. Concatenar Arrays\n",
    "\n",
    "Para concatenar 2 arrays unidimensionales:\n"
   ]
  },
  {
   "cell_type": "code",
   "execution_count": null,
   "metadata": {
    "colab": {
     "base_uri": "https://localhost:8080/"
    },
    "executionInfo": {
     "elapsed": 762,
     "status": "ok",
     "timestamp": 1604326774356,
     "user": {
      "displayName": "alumnos bigdata",
      "photoUrl": "",
      "userId": "10710302360204190833"
     },
     "user_tz": -60
    },
    "id": "xySi2-EQF5xA",
    "outputId": "6c3bec0f-3923-4286-f165-0290ec3c1c14"
   },
   "outputs": [
    {
     "data": {
      "text/plain": [
       "array([1, 2, 3, 3, 2, 1])"
      ]
     },
     "execution_count": 65,
     "metadata": {
      "tags": []
     },
     "output_type": "execute_result"
    }
   ],
   "source": [
    "x = np.array([1, 2, 3])\n",
    "y = np.array([3, 2, 1])\n",
    "np.concatenate([x, y])"
   ]
  },
  {
   "cell_type": "code",
   "execution_count": null,
   "metadata": {
    "colab": {
     "base_uri": "https://localhost:8080/"
    },
    "executionInfo": {
     "elapsed": 969,
     "status": "ok",
     "timestamp": 1604326777319,
     "user": {
      "displayName": "alumnos bigdata",
      "photoUrl": "",
      "userId": "10710302360204190833"
     },
     "user_tz": -60
    },
    "id": "204vVEu7F5xH",
    "outputId": "17d27b42-4333-4b08-c926-316ad48ef647"
   },
   "outputs": [
    {
     "data": {
      "text/plain": [
       "array([[0, 1, 2],\n",
       "       [3, 4, 5],\n",
       "       [0, 1, 2],\n",
       "       [3, 4, 5]])"
      ]
     },
     "execution_count": 66,
     "metadata": {
      "tags": []
     },
     "output_type": "execute_result"
    }
   ],
   "source": [
    "grid = np.arange(6).reshape(2,3)\n",
    "\n",
    "# concatenar filas, (axis = 0)\n",
    "np.concatenate([grid, grid])"
   ]
  },
  {
   "cell_type": "code",
   "execution_count": null,
   "metadata": {
    "colab": {
     "base_uri": "https://localhost:8080/"
    },
    "executionInfo": {
     "elapsed": 1026,
     "status": "ok",
     "timestamp": 1604326780277,
     "user": {
      "displayName": "alumnos bigdata",
      "photoUrl": "",
      "userId": "10710302360204190833"
     },
     "user_tz": -60
    },
    "id": "OBHUUFrXF5xQ",
    "outputId": "750f6d7e-48d1-4ab2-ea30-1b02b0821ec0"
   },
   "outputs": [
    {
     "data": {
      "text/plain": [
       "array([[0, 1, 2, 0, 1, 2],\n",
       "       [3, 4, 5, 3, 4, 5]])"
      ]
     },
     "execution_count": 67,
     "metadata": {
      "tags": []
     },
     "output_type": "execute_result"
    }
   ],
   "source": [
    "# concatenar columnas, (axis = 1)\n",
    "np.concatenate([grid, grid], axis=1)"
   ]
  },
  {
   "cell_type": "markdown",
   "metadata": {
    "id": "igos5GLqF5xY"
   },
   "source": [
    "Lo mismo con vstack y hstack, pero con arrays de distinta dimensión:"
   ]
  },
  {
   "cell_type": "code",
   "execution_count": null,
   "metadata": {
    "colab": {
     "base_uri": "https://localhost:8080/"
    },
    "executionInfo": {
     "elapsed": 886,
     "status": "ok",
     "timestamp": 1604326782473,
     "user": {
      "displayName": "alumnos bigdata",
      "photoUrl": "",
      "userId": "10710302360204190833"
     },
     "user_tz": -60
    },
    "id": "IL2fzMqPF5xZ",
    "outputId": "d6a755d4-3527-47d9-ce0d-d208afe197f9"
   },
   "outputs": [
    {
     "data": {
      "text/plain": [
       "array([[1, 2, 3],\n",
       "       [9, 8, 7],\n",
       "       [6, 5, 4]])"
      ]
     },
     "execution_count": 68,
     "metadata": {
      "tags": []
     },
     "output_type": "execute_result"
    }
   ],
   "source": [
    "x = np.array([1, 2, 3])\n",
    "grid = np.array([[9, 8, 7],\n",
    "                 [6, 5, 4]])\n",
    "\n",
    "# apilado vertical\n",
    "np.vstack([x, grid])"
   ]
  },
  {
   "cell_type": "code",
   "execution_count": null,
   "metadata": {
    "colab": {
     "base_uri": "https://localhost:8080/"
    },
    "executionInfo": {
     "elapsed": 770,
     "status": "ok",
     "timestamp": 1604326784825,
     "user": {
      "displayName": "alumnos bigdata",
      "photoUrl": "",
      "userId": "10710302360204190833"
     },
     "user_tz": -60
    },
    "id": "itnAKYXSF5xi",
    "outputId": "c684bdf1-c97f-4c04-df2d-0afc32bb376a"
   },
   "outputs": [
    {
     "data": {
      "text/plain": [
       "array([[ 9,  8,  7, 99],\n",
       "       [ 6,  5,  4, 99]])"
      ]
     },
     "execution_count": 69,
     "metadata": {
      "tags": []
     },
     "output_type": "execute_result"
    }
   ],
   "source": [
    "# apilado horizontal\n",
    "y = np.array([[99],\n",
    "              [99]])\n",
    "np.hstack([grid, y])"
   ]
  },
  {
   "cell_type": "markdown",
   "metadata": {
    "id": "w1XZYlwiF5xp"
   },
   "source": [
    "####  5.7.5. Broadcasting de Arrays\n",
    "\n",
    "El Broadcasting es una operación de alineamiento que sigue, de forma estricta, las siguientes reglas de interacción entre 2 arrays:\n",
    "\n",
    "- **Regla 1**: si dos arrays difieren en el número de dimensiones, el shape (dimensiones) del que tenga menor dimensión se aumenta con unos por la izquierda:\n",
    "```\n",
    "[3,1,6] x [2,6] ----> [3,1,6] x [1,2,6]\n",
    "[3,5,4] x [3,5] ----> [3,5,4] x [1,3,5]\n",
    "```\n",
    "- **Regla 2**: si dos arrays tienen shape distinto en alguna dimensión, el array con shape igual a 1 se estira (copia) para que concuerde con el de la misma dimensión del otro array:\n",
    "\n",
    "```\n",
    "[3,1,6] x [1,2,6] ----> [3,2,6] x [3,2,6]\n",
    "[3,5,4] x [1,3,5] ----> [3,5,4] x [3,3,5]\n",
    "```\n",
    "- **Regla 3**: si alguna dimensión tiene tamaño distinto y no hay ninguna dimensión 1, se lanza un error:\n",
    "```\n",
    "[3,2,6] x [3,2,6] ----> Concuerdan\n",
    "[3,5,4] x [3,3,5] ----> Error !!!\n",
    "```\n",
    "\n",
    "En la práctica, esto significa facilitar algunas operaciones:"
   ]
  },
  {
   "cell_type": "code",
   "execution_count": null,
   "metadata": {
    "colab": {
     "base_uri": "https://localhost:8080/"
    },
    "executionInfo": {
     "elapsed": 758,
     "status": "ok",
     "timestamp": 1604326791997,
     "user": {
      "displayName": "alumnos bigdata",
      "photoUrl": "",
      "userId": "10710302360204190833"
     },
     "user_tz": -60
    },
    "id": "_kr8Q8n-F5xr",
    "outputId": "ffed0d85-c117-419d-88f9-f74b8b42bcf7"
   },
   "outputs": [
    {
     "data": {
      "text/plain": [
       "array([[1., 1.],\n",
       "       [1., 1.]])"
      ]
     },
     "execution_count": 70,
     "metadata": {
      "tags": []
     },
     "output_type": "execute_result"
    }
   ],
   "source": [
    "a = np.ones((2,2))\n",
    "a"
   ]
  },
  {
   "cell_type": "code",
   "execution_count": null,
   "metadata": {
    "colab": {
     "base_uri": "https://localhost:8080/"
    },
    "executionInfo": {
     "elapsed": 733,
     "status": "ok",
     "timestamp": 1604326794222,
     "user": {
      "displayName": "alumnos bigdata",
      "photoUrl": "",
      "userId": "10710302360204190833"
     },
     "user_tz": -60
    },
    "id": "4AQXc-Z7F5xz",
    "outputId": "5f3362bc-1daa-46b8-c94b-93a9565f19e3"
   },
   "outputs": [
    {
     "data": {
      "text/plain": [
       "array([0.5, 0.5])"
      ]
     },
     "execution_count": 71,
     "metadata": {
      "tags": []
     },
     "output_type": "execute_result"
    }
   ],
   "source": [
    "b =  np.tile(0.5, 2)\n",
    "b"
   ]
  },
  {
   "cell_type": "code",
   "execution_count": null,
   "metadata": {
    "colab": {
     "base_uri": "https://localhost:8080/"
    },
    "executionInfo": {
     "elapsed": 762,
     "status": "ok",
     "timestamp": 1604326796582,
     "user": {
      "displayName": "alumnos bigdata",
      "photoUrl": "",
      "userId": "10710302360204190833"
     },
     "user_tz": -60
    },
    "id": "jjD0XQ-7F5x9",
    "outputId": "f94c9bba-860f-4756-9203-4cc895f72643"
   },
   "outputs": [
    {
     "data": {
      "text/plain": [
       "array([[0.5, 0.5],\n",
       "       [0.5, 0.5]])"
      ]
     },
     "execution_count": 72,
     "metadata": {
      "tags": []
     },
     "output_type": "execute_result"
    }
   ],
   "source": [
    "a - b"
   ]
  },
  {
   "cell_type": "markdown",
   "metadata": {
    "id": "JBfNveiBF5yI"
   },
   "source": [
    "#### 5.7.6. Conversión a Listas\n",
    "\n",
    "Los numpy se convierten a lista con `.tolist()`:"
   ]
  },
  {
   "cell_type": "code",
   "execution_count": null,
   "metadata": {
    "colab": {
     "base_uri": "https://localhost:8080/"
    },
    "executionInfo": {
     "elapsed": 705,
     "status": "ok",
     "timestamp": 1604326798410,
     "user": {
      "displayName": "alumnos bigdata",
      "photoUrl": "",
      "userId": "10710302360204190833"
     },
     "user_tz": -60
    },
    "id": "fRK9StENF5yK",
    "outputId": "d9251008-808d-4d3e-fc06-b0d520b47878"
   },
   "outputs": [
    {
     "data": {
      "text/plain": [
       "[2, 3, 7, 3]"
      ]
     },
     "execution_count": 73,
     "metadata": {
      "tags": []
     },
     "output_type": "execute_result"
    }
   ],
   "source": [
    "a = np.array([2,3,7,3])\n",
    "b = a.tolist()\n",
    "b"
   ]
  },
  {
   "cell_type": "code",
   "execution_count": null,
   "metadata": {
    "colab": {
     "base_uri": "https://localhost:8080/"
    },
    "executionInfo": {
     "elapsed": 936,
     "status": "ok",
     "timestamp": 1604326800935,
     "user": {
      "displayName": "alumnos bigdata",
      "photoUrl": "",
      "userId": "10710302360204190833"
     },
     "user_tz": -60
    },
    "id": "Eil45oqQF5yY",
    "outputId": "42bbab1b-9a96-4a93-f3d7-e7fba6e68cd2"
   },
   "outputs": [
    {
     "data": {
      "text/plain": [
       "list"
      ]
     },
     "execution_count": 74,
     "metadata": {
      "tags": []
     },
     "output_type": "execute_result"
    }
   ],
   "source": [
    "type(b)"
   ]
  },
  {
   "cell_type": "markdown",
   "metadata": {
    "id": "Bp8rxnCNF5yg"
   },
   "source": [
    "#### 5.7.7. Valores Faltantes  \n",
    "\n",
    "Por definición, un NaN es un número en coma flotante, distinto a cualquier otro número:"
   ]
  },
  {
   "cell_type": "code",
   "execution_count": null,
   "metadata": {
    "colab": {
     "base_uri": "https://localhost:8080/"
    },
    "executionInfo": {
     "elapsed": 797,
     "status": "ok",
     "timestamp": 1604326805833,
     "user": {
      "displayName": "alumnos bigdata",
      "photoUrl": "",
      "userId": "10710302360204190833"
     },
     "user_tz": -60
    },
    "id": "JN99POGzF5yh",
    "outputId": "54816b7b-6d56-4879-9b6c-bef32f868cb7"
   },
   "outputs": [
    {
     "data": {
      "text/plain": [
       "True"
      ]
     },
     "execution_count": 75,
     "metadata": {
      "tags": []
     },
     "output_type": "execute_result"
    }
   ],
   "source": [
    "np.nan != np.nan"
   ]
  },
  {
   "cell_type": "code",
   "execution_count": null,
   "metadata": {
    "colab": {
     "base_uri": "https://localhost:8080/"
    },
    "executionInfo": {
     "elapsed": 724,
     "status": "ok",
     "timestamp": 1604326808237,
     "user": {
      "displayName": "alumnos bigdata",
      "photoUrl": "",
      "userId": "10710302360204190833"
     },
     "user_tz": -60
    },
    "id": "jSkP_yiNF5yq",
    "outputId": "85223352-3d0b-4ec0-c5c4-47b77681a418"
   },
   "outputs": [
    {
     "data": {
      "text/plain": [
       "array([[ 0.,  1.],\n",
       "       [ 2., nan],\n",
       "       [ 4., nan]])"
      ]
     },
     "execution_count": 76,
     "metadata": {
      "tags": []
     },
     "output_type": "execute_result"
    }
   ],
   "source": [
    "a = np.arange(6).reshape(3,2) * 1.0\n",
    "\n",
    "a[[1,2],[1] ] = np.nan\n",
    "\n",
    "a"
   ]
  },
  {
   "cell_type": "markdown",
   "metadata": {
    "id": "HvgRXXB7F5yy"
   },
   "source": [
    "> **Observa**: se ha aplicado broadcast al asignar `np.nan`. "
   ]
  },
  {
   "cell_type": "code",
   "execution_count": null,
   "metadata": {
    "colab": {
     "base_uri": "https://localhost:8080/"
    },
    "executionInfo": {
     "elapsed": 1055,
     "status": "ok",
     "timestamp": 1604326811467,
     "user": {
      "displayName": "alumnos bigdata",
      "photoUrl": "",
      "userId": "10710302360204190833"
     },
     "user_tz": -60
    },
    "id": "kSLDP5V8F5y0",
    "outputId": "1469adde-c76e-46e9-d82d-f7d10380ffa0"
   },
   "outputs": [
    {
     "data": {
      "text/plain": [
       "array([[False, False],\n",
       "       [False,  True],\n",
       "       [False,  True]])"
      ]
     },
     "execution_count": 77,
     "metadata": {
      "tags": []
     },
     "output_type": "execute_result"
    }
   ],
   "source": [
    "np.isnan(a)"
   ]
  },
  {
   "cell_type": "markdown",
   "metadata": {
    "id": "l5ykUksQF5y7"
   },
   "source": [
    "Numpy es la base de la computación con arrays. Veamos ahora qué aportan los objetos **pandas**."
   ]
  },
  {
   "cell_type": "markdown",
   "metadata": {},
   "source": [
    "< [Colecciones de objetos: listas, tuplas y diccionarios](modulo1_tema4_Py_30_colec_obj.ipynb) | [Índice](modulo1_tema4_Py_00_indice.ipynb) | [Colecciones de objetos: pandas](modulo1_tema4_Py_32_pandas.ipynb) >\n",
    "\n",
    "__[Abre en Colab](https://colab.research.google.com/github/griu/init_python_b1/blob/master/modulo1_tema4_Py_31_numpy.ipynb)__"
   ]
  }
 ],
 "metadata": {
  "colab": {
   "collapsed_sections": [],
   "name": "M1_BloqueII_Python_5_Numpy.ipynb",
   "provenance": []
  },
  "kernelspec": {
   "display_name": "initPython383",
   "language": "python",
   "name": "initpython383"
  },
  "language_info": {
   "codemirror_mode": {
    "name": "ipython",
    "version": 3
   },
   "file_extension": ".py",
   "mimetype": "text/x-python",
   "name": "python",
   "nbconvert_exporter": "python",
   "pygments_lexer": "ipython3",
   "version": "3.6.9"
  }
 },
 "nbformat": 4,
 "nbformat_minor": 1
}
