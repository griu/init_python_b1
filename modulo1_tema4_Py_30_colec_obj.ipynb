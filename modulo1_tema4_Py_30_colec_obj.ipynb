{
 "cells": [
  {
   "cell_type": "markdown",
   "metadata": {},
   "source": [
    "<img align=\"left\" style=\"padding-right:10px;\" width=\"150\" src=\"https://upload.wikimedia.org/wikipedia/commons/thumb/6/6c/Star_Wars_Logo.svg/320px-Star_Wars_Logo.svg.png\" />\n",
    "\n",
    "*elaborado por Ferran Carrascosa Mallafrè.*"
   ]
  },
  {
   "cell_type": "markdown",
   "metadata": {},
   "source": [
    "< [Gráficos con matplotlib](modulo1_tema4_Py_20_matplotlib.ipynb) | [Índice](modulo1_tema4_Py_00_indice.ipynb) | [Colecciones de objetos: numpy](modulo1_tema4_Py_31_numpy.ipynb) >\n",
    "\n",
    "__[Abre en Colab](https://colab.research.google.com/github/griu/init_python_b1/blob/master/modulo1_tema4_Py_30_colec_obj.ipynb)__   *: <span style=\"color:rgba(255, 99, 71, 0.8)\">Padawan! Cuando inicies sesión en Colab, prepara el entorno ejecutando el siguiente código.</span>*"
   ]
  },
  {
   "cell_type": "markdown",
   "metadata": {
    "id": "90y0kEKSYot9"
   },
   "source": [
    "# Preparación del entorno\n",
    "\n",
    "¡Padawan! Cuando inicies sesión en Colab, prepara el entorno ejecutando el siguiente código."
   ]
  },
  {
   "cell_type": "code",
   "execution_count": null,
   "metadata": {
    "colab": {
     "base_uri": "https://localhost:8080/"
    },
    "executionInfo": {
     "elapsed": 25678,
     "status": "ok",
     "timestamp": 1604317087349,
     "user": {
      "displayName": "alumnos bigdata",
      "photoUrl": "",
      "userId": "10710302360204190833"
     },
     "user_tz": -60
    },
    "id": "2SBF5dlSTi-h",
    "outputId": "b85ff6ea-725c-464c-abf4-fc481a6882de"
   },
   "outputs": [],
   "source": [
    "if 'google.colab' in str(get_ipython()):\n",
    "    !git clone https://github.com/griu/init_python_b1.git /content/init_python_b1\n",
    "    !git -C /content/init_python_b1 pull\n",
    "    %cd /content/init_python_b1"
   ]
  },
  {
   "cell_type": "markdown",
   "metadata": {
    "id": "qQJw5pPmYouN"
   },
   "source": [
    "# 4 - Colecciones de Objetos"
   ]
  },
  {
   "cell_type": "markdown",
   "metadata": {
    "id": "wkap7iI7YouP"
   },
   "source": [
    "### 4.1. Definición de los objetos\n",
    "\n",
    "#### TIPO BÁSICOS\n",
    "\n",
    "En Python, el tipo de dato se fija en la creación del objeto.\n",
    "\n",
    "Los principales tipo básicos son:\n",
    "\n",
    " | Ejemplo | Constructores | Tipo de dato |\n",
    " | ------- | ------------- | ------- | \n",
    " | x = \"Hola Mundo\" | x = str(\"Hello World\") | str |\n",
    " | x = 20 | x = int(20) | int |\n",
    " | x = 20.5 | x = float(20.5) | float |\n",
    " | x = True | x = bool(5) | bool |\n",
    " \n",
    "Para conocer el tipo de un objeto, utiliza `type()`."
   ]
  },
  {
   "cell_type": "markdown",
   "metadata": {
    "id": "AQjtTlqWYouR"
   },
   "source": [
    "> **Recuerda**: Para saber el tipo del objeto utiliza `type()`."
   ]
  },
  {
   "cell_type": "code",
   "execution_count": null,
   "metadata": {
    "colab": {
     "base_uri": "https://localhost:8080/"
    },
    "executionInfo": {
     "elapsed": 673,
     "status": "ok",
     "timestamp": 1604320992968,
     "user": {
      "displayName": "alumnos bigdata",
      "photoUrl": "",
      "userId": "10710302360204190833"
     },
     "user_tz": -60
    },
    "id": "DKMJ1yCuYouZ",
    "outputId": "3f16a775-43da-4845-d41a-524d049bab80"
   },
   "outputs": [
    {
     "name": "stdout",
     "output_type": "stream",
     "text": [
      "El tipo de 'a' es: <class 'bool'> y vale False\n"
     ]
    }
   ],
   "source": [
    "a = 3 > 4\n",
    "print(\"El tipo de 'a' es:\",type(a),\"y vale\",a)"
   ]
  },
  {
   "cell_type": "markdown",
   "metadata": {
    "id": "SQuinhWIYoun"
   },
   "source": [
    "####  4.1.1. Operaciones con Booleanos\n",
    "\n",
    "Se utiliza `and`, `or` and `not` para operar con `True` y `False`.:"
   ]
  },
  {
   "cell_type": "code",
   "execution_count": null,
   "metadata": {
    "id": "onQE4YvbYouo",
    "outputId": "a2b94f9c-55b5-4be3-d067-ffee6d3dd4e7"
   },
   "outputs": [
    {
     "data": {
      "text/plain": [
       "True"
      ]
     },
     "execution_count": 3,
     "metadata": {
      "tags": []
     },
     "output_type": "execute_result"
    }
   ],
   "source": [
    "True or not True"
   ]
  },
  {
   "cell_type": "markdown",
   "metadata": {
    "id": "cYqnzqSOYouy"
   },
   "source": [
    "#### 4.1.2. Comparadores Booleanos"
   ]
  },
  {
   "cell_type": "markdown",
   "metadata": {
    "id": "LpYv5vLhYou0"
   },
   "source": [
    "Los típicos: `<`, `<=`, `>`,`>=`\n",
    "\n",
    "Y además:"
   ]
  },
  {
   "cell_type": "code",
   "execution_count": null,
   "metadata": {
    "id": "foTyCPR8You1",
    "outputId": "7acfd776-4a3d-4f52-ca01-21c071f187ca"
   },
   "outputs": [
    {
     "data": {
      "text/plain": [
       "False"
      ]
     },
     "execution_count": 4,
     "metadata": {
      "tags": []
     },
     "output_type": "execute_result"
    }
   ],
   "source": [
    "3 == 4.  # igualdad"
   ]
  },
  {
   "cell_type": "code",
   "execution_count": null,
   "metadata": {
    "id": "o1eZB-pxYovB",
    "outputId": "7348c855-c846-450b-d3c3-e0938e4a5f32"
   },
   "outputs": [
    {
     "data": {
      "text/plain": [
       "False"
      ]
     },
     "execution_count": 5,
     "metadata": {
      "tags": []
     },
     "output_type": "execute_result"
    }
   ],
   "source": [
    "5 != 5  # desigualdad"
   ]
  },
  {
   "cell_type": "markdown",
   "metadata": {
    "id": "SOO52LI4YovL"
   },
   "source": [
    "Comparación de objetos con `is` y `is not`:"
   ]
  },
  {
   "cell_type": "code",
   "execution_count": null,
   "metadata": {
    "id": "mjqSx7GAYovM",
    "outputId": "551ce70b-cad2-4a0c-82fc-0b063a8be896"
   },
   "outputs": [
    {
     "data": {
      "text/plain": [
       "True"
      ]
     },
     "execution_count": 6,
     "metadata": {
      "tags": []
     },
     "output_type": "execute_result"
    }
   ],
   "source": [
    "a = \"Soy string\"\n",
    "type(a) is str"
   ]
  },
  {
   "cell_type": "code",
   "execution_count": null,
   "metadata": {
    "id": "NzP1gM-NYovd",
    "outputId": "fade1877-b7b1-4a11-8b11-f3ba21ede4b2"
   },
   "outputs": [
    {
     "data": {
      "text/plain": [
       "True"
      ]
     },
     "execution_count": 7,
     "metadata": {
      "tags": []
     },
     "output_type": "execute_result"
    }
   ],
   "source": [
    "a = 45.\n",
    "type(a) is not int"
   ]
  },
  {
   "cell_type": "markdown",
   "metadata": {
    "id": "CSdCLrMRYovn"
   },
   "source": [
    "> **Recuerda**: Para negar expresiones lógicas, se utiliza `not`. "
   ]
  },
  {
   "cell_type": "code",
   "execution_count": null,
   "metadata": {
    "id": "Ur_AlCqaYovo",
    "outputId": "0963de7f-f4ee-4462-cd13-9218ec237066"
   },
   "outputs": [
    {
     "data": {
      "text/plain": [
       "False"
      ]
     },
     "execution_count": 8,
     "metadata": {
      "tags": []
     },
     "output_type": "execute_result"
    }
   ],
   "source": [
    "not (True or not False)"
   ]
  },
  {
   "cell_type": "markdown",
   "metadata": {
    "id": "p7qI32heYovy"
   },
   "source": [
    "####  4.1.3. *Castings*\n",
    "\n",
    "Utiliza los constructores de cada tipo para realizar *casting*."
   ]
  },
  {
   "cell_type": "code",
   "execution_count": null,
   "metadata": {
    "id": "2rw0C3SmYovz",
    "outputId": "691d485a-ab99-47f0-9dff-4079d6d558a8"
   },
   "outputs": [
    {
     "name": "stdout",
     "output_type": "stream",
     "text": [
      "True es 1 y False es 0\n"
     ]
    }
   ],
   "source": [
    "print('True es',int(True),'y False es',int(False))"
   ]
  },
  {
   "cell_type": "markdown",
   "metadata": {
    "id": "p7qI32heYovy"
   },
   "source": [
    "####  4.1.4. *Operaciones matemáticas*\n",
    "\n",
    "Puedes importar la lireria *math*."
   ]
  },
  {
   "cell_type": "code",
   "execution_count": 1,
   "metadata": {
    "id": "2rw0C3SmYovz",
    "outputId": "691d485a-ab99-47f0-9dff-4079d6d558a8"
   },
   "outputs": [
    {
     "data": {
      "text/plain": [
       "-1.0"
      ]
     },
     "execution_count": 1,
     "metadata": {},
     "output_type": "execute_result"
    }
   ],
   "source": [
    "import math\n",
    "math.cos(math.pi)"
   ]
  },
  {
   "cell_type": "markdown",
   "metadata": {
    "id": "00Y1_Bm3Yov7"
   },
   "source": [
    "### 4.2. Listas\n",
    "\n",
    "Sus elementos van entre corchetes y separados por comas: `[ele1, elem2, ...]`. \n",
    "\n",
    "Sus elementos pueden ser objetos de distinto tipo:"
   ]
  },
  {
   "cell_type": "code",
   "execution_count": null,
   "metadata": {
    "colab": {
     "base_uri": "https://localhost:8080/"
    },
    "executionInfo": {
     "elapsed": 1159,
     "status": "ok",
     "timestamp": 1604322472010,
     "user": {
      "displayName": "alumnos bigdata",
      "photoUrl": "",
      "userId": "10710302360204190833"
     },
     "user_tz": -60
    },
    "id": "bahCnTf0Yov9",
    "outputId": "3c6d36f9-f822-4362-a76a-013bb4d12c1b"
   },
   "outputs": [
    {
     "data": {
      "text/plain": [
       "[True, 'Texto', 3.1416]"
      ]
     },
     "execution_count": 4,
     "metadata": {
      "tags": []
     },
     "output_type": "execute_result"
    }
   ],
   "source": [
    "a = True\n",
    "b = \"Texto\"\n",
    "c = 3.1416\n",
    "d = [a, b, c]\n",
    "d"
   ]
  },
  {
   "cell_type": "markdown",
   "metadata": {
    "id": "YwcQoHXhYowI"
   },
   "source": [
    "#### 4.2.1. Longitud\n",
    "\n",
    "Con `len()` se obtiene el número de elementos:"
   ]
  },
  {
   "cell_type": "code",
   "execution_count": 1,
   "metadata": {
    "colab": {
     "base_uri": "https://localhost:8080/",
     "height": 164
    },
    "executionInfo": {
     "elapsed": 1597,
     "status": "error",
     "timestamp": 1604415390845,
     "user": {
      "displayName": "instituto forymat",
      "photoUrl": "",
      "userId": "17895787503402093384"
     },
     "user_tz": -60
    },
    "id": "5-7xbkF5YowJ",
    "outputId": "0a1477c3-5d2d-425d-caed-db69f88c949c"
   },
   "outputs": [
    {
     "ename": "NameError",
     "evalue": "ignored",
     "output_type": "error",
     "traceback": [
      "\u001b[0;31m---------------------------------------------------------------------------\u001b[0m",
      "\u001b[0;31mNameError\u001b[0m                                 Traceback (most recent call last)",
      "\u001b[0;32m<ipython-input-1-017d7f50046f>\u001b[0m in \u001b[0;36m<module>\u001b[0;34m()\u001b[0m\n\u001b[0;32m----> 1\u001b[0;31m \u001b[0mlen\u001b[0m\u001b[0;34m(\u001b[0m\u001b[0md\u001b[0m\u001b[0;34m)\u001b[0m\u001b[0;34m\u001b[0m\u001b[0;34m\u001b[0m\u001b[0m\n\u001b[0m",
      "\u001b[0;31mNameError\u001b[0m: name 'd' is not defined"
     ]
    }
   ],
   "source": [
    "len(d)"
   ]
  },
  {
   "cell_type": "markdown",
   "metadata": {
    "id": "oyJb9WxhYowS"
   },
   "source": [
    "#### 4.2.2. Operaciones con Listas\n",
    "\n",
    "Se puede concatenar listas con `+`:"
   ]
  },
  {
   "cell_type": "code",
   "execution_count": null,
   "metadata": {
    "colab": {
     "base_uri": "https://localhost:8080/"
    },
    "executionInfo": {
     "elapsed": 622,
     "status": "ok",
     "timestamp": 1604322478844,
     "user": {
      "displayName": "alumnos bigdata",
      "photoUrl": "",
      "userId": "10710302360204190833"
     },
     "user_tz": -60
    },
    "id": "wsqW802VYowU",
    "outputId": "c63308a6-4821-4e80-c7be-b1d1cef385cf"
   },
   "outputs": [
    {
     "data": {
      "text/plain": [
       "[1, 2, 3, 4, 5, 6]"
      ]
     },
     "execution_count": 6,
     "metadata": {
      "tags": []
     },
     "output_type": "execute_result"
    }
   ],
   "source": [
    "[1,2,3] + [4,5,6] # suma listas"
   ]
  },
  {
   "cell_type": "markdown",
   "metadata": {
    "id": "4mkaeTB8Yowa"
   },
   "source": [
    "Incluso repetirlas con `*`:"
   ]
  },
  {
   "cell_type": "code",
   "execution_count": null,
   "metadata": {
    "colab": {
     "base_uri": "https://localhost:8080/"
    },
    "executionInfo": {
     "elapsed": 904,
     "status": "ok",
     "timestamp": 1604322482572,
     "user": {
      "displayName": "alumnos bigdata",
      "photoUrl": "",
      "userId": "10710302360204190833"
     },
     "user_tz": -60
    },
    "id": "-77KGX-0Yowc",
    "outputId": "5ecd805e-05ff-4e9f-bdaf-9a720e2f3fe4"
   },
   "outputs": [
    {
     "data": {
      "text/plain": [
       "[1, 2, 3, 1, 2, 3]"
      ]
     },
     "execution_count": 7,
     "metadata": {
      "tags": []
     },
     "output_type": "execute_result"
    }
   ],
   "source": [
    "[1,2,3] * 2  # multiplicación por escalar"
   ]
  },
  {
   "cell_type": "markdown",
   "metadata": {
    "id": "Fd4X99-KYowj"
   },
   "source": [
    "Buscar si la lista contiene (o no contiene) un elemento con `in` (resp. `not in`)."
   ]
  },
  {
   "cell_type": "code",
   "execution_count": null,
   "metadata": {
    "colab": {
     "base_uri": "https://localhost:8080/"
    },
    "executionInfo": {
     "elapsed": 950,
     "status": "ok",
     "timestamp": 1604322487387,
     "user": {
      "displayName": "alumnos bigdata",
      "photoUrl": "",
      "userId": "10710302360204190833"
     },
     "user_tz": -60
    },
    "id": "XEkDlJhlYowl",
    "outputId": "e10011d6-cc74-4d20-f21b-0bb967a941c7"
   },
   "outputs": [
    {
     "data": {
      "text/plain": [
       "True"
      ]
     },
     "execution_count": 8,
     "metadata": {
      "tags": []
     },
     "output_type": "execute_result"
    }
   ],
   "source": [
    "a = 'estoy'\n",
    "b = ['aquí','estoy']\n",
    "a in b"
   ]
  },
  {
   "cell_type": "code",
   "execution_count": null,
   "metadata": {
    "colab": {
     "base_uri": "https://localhost:8080/"
    },
    "executionInfo": {
     "elapsed": 761,
     "status": "ok",
     "timestamp": 1604322492140,
     "user": {
      "displayName": "alumnos bigdata",
      "photoUrl": "",
      "userId": "10710302360204190833"
     },
     "user_tz": -60
    },
    "id": "DnXs1KAcYowr",
    "outputId": "8e849b84-6f30-4535-c583-724a204e39da"
   },
   "outputs": [
    {
     "data": {
      "text/plain": [
       "True"
      ]
     },
     "execution_count": 9,
     "metadata": {
      "tags": []
     },
     "output_type": "execute_result"
    }
   ],
   "source": [
    "c = ['aquí','no estoy']\n",
    "a not in c"
   ]
  },
  {
   "cell_type": "markdown",
   "metadata": {
    "id": "E66sex53Yowz"
   },
   "source": [
    "Mínimos y máximos:"
   ]
  },
  {
   "cell_type": "code",
   "execution_count": null,
   "metadata": {
    "colab": {
     "base_uri": "https://localhost:8080/"
    },
    "executionInfo": {
     "elapsed": 695,
     "status": "ok",
     "timestamp": 1604322495701,
     "user": {
      "displayName": "alumnos bigdata",
      "photoUrl": "",
      "userId": "10710302360204190833"
     },
     "user_tz": -60
    },
    "id": "tLpvoOFBYow1",
    "outputId": "74053617-b5dc-436d-a307-f0e2ab8b3a76"
   },
   "outputs": [
    {
     "data": {
      "text/plain": [
       "1"
      ]
     },
     "execution_count": 10,
     "metadata": {
      "tags": []
     },
     "output_type": "execute_result"
    }
   ],
   "source": [
    "a = [3,1,5]\n",
    "min(a)"
   ]
  },
  {
   "cell_type": "markdown",
   "metadata": {
    "id": "KnSqu_LPYow7"
   },
   "source": [
    "#### 4.2.3. Operaciones con Texto"
   ]
  },
  {
   "cell_type": "markdown",
   "metadata": {
    "id": "mlSjAcsNYow8"
   },
   "source": [
    "En Python, el tipo de texto `str` se comporta como una lista:"
   ]
  },
  {
   "cell_type": "code",
   "execution_count": null,
   "metadata": {
    "colab": {
     "base_uri": "https://localhost:8080/"
    },
    "executionInfo": {
     "elapsed": 674,
     "status": "ok",
     "timestamp": 1604322499520,
     "user": {
      "displayName": "alumnos bigdata",
      "photoUrl": "",
      "userId": "10710302360204190833"
     },
     "user_tz": -60
    },
    "id": "cuyAMUkkYow9",
    "outputId": "f32e25f3-4788-4c58-cc5d-0addaf1fb35a"
   },
   "outputs": [
    {
     "data": {
      "text/plain": [
       "17"
      ]
     },
     "execution_count": 11,
     "metadata": {
      "tags": []
     },
     "output_type": "execute_result"
    }
   ],
   "source": [
    "a = 'tengo longitud 17'\n",
    "len(a)"
   ]
  },
  {
   "cell_type": "markdown",
   "metadata": {
    "id": "la4uvM04YoxE"
   },
   "source": [
    "Concatenar *strings* con `+`:"
   ]
  },
  {
   "cell_type": "code",
   "execution_count": null,
   "metadata": {
    "colab": {
     "base_uri": "https://localhost:8080/",
     "height": 36
    },
    "executionInfo": {
     "elapsed": 696,
     "status": "ok",
     "timestamp": 1604322507753,
     "user": {
      "displayName": "alumnos bigdata",
      "photoUrl": "",
      "userId": "10710302360204190833"
     },
     "user_tz": -60
    },
    "id": "WAejioY5YoxF",
    "outputId": "4b77b5a7-8070-44c7-9c17-2a595b8a17d4"
   },
   "outputs": [
    {
     "data": {
      "application/vnd.google.colaboratory.intrinsic+json": {
       "type": "string"
      },
      "text/plain": [
       "'El símbolo suma concatena el texto'"
      ]
     },
     "execution_count": 12,
     "metadata": {
      "tags": []
     },
     "output_type": "execute_result"
    }
   ],
   "source": [
    "a = \"El símbolo suma\" + \" concatena\" + \" el texto\"\n",
    "a"
   ]
  },
  {
   "cell_type": "markdown",
   "metadata": {
    "id": "9iJfjC4UYoxL"
   },
   "source": [
    "El texto también se multiplica:"
   ]
  },
  {
   "cell_type": "code",
   "execution_count": null,
   "metadata": {
    "colab": {
     "base_uri": "https://localhost:8080/",
     "height": 36
    },
    "executionInfo": {
     "elapsed": 641,
     "status": "ok",
     "timestamp": 1604322512347,
     "user": {
      "displayName": "alumnos bigdata",
      "photoUrl": "",
      "userId": "10710302360204190833"
     },
     "user_tz": -60
    },
    "id": "GicKgJr6YoxM",
    "outputId": "2cdc0a8f-809c-4478-cb2a-56ebb3cbe19d"
   },
   "outputs": [
    {
     "data": {
      "application/vnd.google.colaboratory.intrinsic+json": {
       "type": "string"
      },
      "text/plain": [
       "'abcabcabc'"
      ]
     },
     "execution_count": 13,
     "metadata": {
      "tags": []
     },
     "output_type": "execute_result"
    }
   ],
   "source": [
    "a = \"abc\" * 3\n",
    "a"
   ]
  },
  {
   "cell_type": "markdown",
   "metadata": {
    "id": "QTPgI8CSYoxU"
   },
   "source": [
    "Hay que tener cuidado con sumar texto y otros tipos (int, float, bool):"
   ]
  },
  {
   "cell_type": "code",
   "execution_count": null,
   "metadata": {
    "colab": {
     "base_uri": "https://localhost:8080/",
     "height": 191
    },
    "executionInfo": {
     "elapsed": 987,
     "status": "error",
     "timestamp": 1604322520727,
     "user": {
      "displayName": "alumnos bigdata",
      "photoUrl": "",
      "userId": "10710302360204190833"
     },
     "user_tz": -60
    },
    "id": "360tCoGlYoxV",
    "outputId": "335cf15d-3150-4eaa-914a-dafa6391dc00",
    "scrolled": false
   },
   "outputs": [
    {
     "ename": "TypeError",
     "evalue": "ignored",
     "output_type": "error",
     "traceback": [
      "\u001b[0;31m---------------------------------------------------------------------------\u001b[0m",
      "\u001b[0;31mTypeError\u001b[0m                                 Traceback (most recent call last)",
      "\u001b[0;32m<ipython-input-14-478e9ae4b08d>\u001b[0m in \u001b[0;36m<module>\u001b[0;34m()\u001b[0m\n\u001b[0;32m----> 1\u001b[0;31m \u001b[0ma\u001b[0m \u001b[0;34m=\u001b[0m \u001b[0;34m\"Texto más \"\u001b[0m \u001b[0;34m+\u001b[0m \u001b[0;36m24\u001b[0m\u001b[0;34m\u001b[0m\u001b[0;34m\u001b[0m\u001b[0m\n\u001b[0m\u001b[1;32m      2\u001b[0m \u001b[0ma\u001b[0m\u001b[0;34m\u001b[0m\u001b[0;34m\u001b[0m\u001b[0m\n",
      "\u001b[0;31mTypeError\u001b[0m: must be str, not int"
     ]
    }
   ],
   "source": [
    "a = \"Texto más \" + 24\n",
    "a"
   ]
  },
  {
   "cell_type": "markdown",
   "metadata": {
    "id": "kE7PcyPvYoxg"
   },
   "source": [
    "Para evitar el error, antes hay que hacer casting con el constructor `str()`:"
   ]
  },
  {
   "cell_type": "code",
   "execution_count": null,
   "metadata": {
    "colab": {
     "base_uri": "https://localhost:8080/",
     "height": 36
    },
    "executionInfo": {
     "elapsed": 586,
     "status": "ok",
     "timestamp": 1604322527282,
     "user": {
      "displayName": "alumnos bigdata",
      "photoUrl": "",
      "userId": "10710302360204190833"
     },
     "user_tz": -60
    },
    "id": "ldV_zyIaYoxh",
    "outputId": "cca84bb8-ea32-47cd-e2b5-b7962c7e3b85"
   },
   "outputs": [
    {
     "data": {
      "application/vnd.google.colaboratory.intrinsic+json": {
       "type": "string"
      },
      "text/plain": [
       "'Texto más 24'"
      ]
     },
     "execution_count": 15,
     "metadata": {
      "tags": []
     },
     "output_type": "execute_result"
    }
   ],
   "source": [
    "a = \"Texto más \" + str(24)\n",
    "a"
   ]
  },
  {
   "cell_type": "markdown",
   "metadata": {
    "id": "TAI3KuPrYoxp"
   },
   "source": [
    "Un alternativa para concatenar texto contenido en una lista es `''.join()`:"
   ]
  },
  {
   "cell_type": "code",
   "execution_count": null,
   "metadata": {
    "colab": {
     "base_uri": "https://localhost:8080/",
     "height": 36
    },
    "executionInfo": {
     "elapsed": 684,
     "status": "ok",
     "timestamp": 1604322532061,
     "user": {
      "displayName": "alumnos bigdata",
      "photoUrl": "",
      "userId": "10710302360204190833"
     },
     "user_tz": -60
    },
    "id": "L7mA056AYoxr",
    "outputId": "8a67d074-b648-4ca1-bb11-98ea840ad14f"
   },
   "outputs": [
    {
     "data": {
      "application/vnd.google.colaboratory.intrinsic+json": {
       "type": "string"
      },
      "text/plain": [
       "'Soy texto en lista'"
      ]
     },
     "execution_count": 16,
     "metadata": {
      "tags": []
     },
     "output_type": "execute_result"
    }
   ],
   "source": [
    "a = [\"Soy\",\"texto\",\"en\",\"lista\"]\n",
    "' '.join(a)"
   ]
  },
  {
   "cell_type": "markdown",
   "metadata": {
    "id": "WFC2nAfBYoxx"
   },
   "source": [
    "De esta forma, es fácil cambiar el carácter de separación:"
   ]
  },
  {
   "cell_type": "code",
   "execution_count": null,
   "metadata": {
    "colab": {
     "base_uri": "https://localhost:8080/",
     "height": 36
    },
    "executionInfo": {
     "elapsed": 651,
     "status": "ok",
     "timestamp": 1604322542238,
     "user": {
      "displayName": "alumnos bigdata",
      "photoUrl": "",
      "userId": "10710302360204190833"
     },
     "user_tz": -60
    },
    "id": "eIMZWL9jYoxy",
    "outputId": "2a4856cf-086e-4afe-df75-3e642d5564f2"
   },
   "outputs": [
    {
     "data": {
      "application/vnd.google.colaboratory.intrinsic+json": {
       "type": "string"
      },
      "text/plain": [
       "'Soy-texto-en-lista'"
      ]
     },
     "execution_count": 17,
     "metadata": {
      "tags": []
     },
     "output_type": "execute_result"
    }
   ],
   "source": [
    "'-'.join(a)"
   ]
  },
  {
   "cell_type": "markdown",
   "metadata": {
    "id": "VznpdRDMYox4"
   },
   "source": [
    "### 4.3. Tuplas\n",
    "\n",
    "Sus elementos van entre paréntesis y separados por comas: `(ele1, elem2, ...)`:"
   ]
  },
  {
   "cell_type": "code",
   "execution_count": null,
   "metadata": {
    "id": "U8s4rMvEYox5",
    "outputId": "92d10c7c-2a6c-4be7-fc67-dc9fbcfdbc2f"
   },
   "outputs": [
    {
     "data": {
      "text/plain": [
       "(1, 2, 3)"
      ]
     },
     "execution_count": 24,
     "metadata": {
      "tags": []
     },
     "output_type": "execute_result"
    }
   ],
   "source": [
    "a = (1,2,3)\n",
    "a"
   ]
  },
  {
   "cell_type": "markdown",
   "metadata": {
    "id": "JNb0Yxj-Yox_"
   },
   "source": [
    "Permiten realizar varias asignaciones de objetos en una misma expresión:"
   ]
  },
  {
   "cell_type": "code",
   "execution_count": null,
   "metadata": {
    "id": "1_uY1buPYoyA",
    "outputId": "43b234b5-f601-4c19-dfa5-fe84d69d325e"
   },
   "outputs": [
    {
     "name": "stdout",
     "output_type": "stream",
     "text": [
      "2 6\n"
     ]
    }
   ],
   "source": [
    "a, b = 2, 6\n",
    "print(a,b)"
   ]
  },
  {
   "cell_type": "markdown",
   "metadata": {
    "id": "cWtAquZKYoyH"
   },
   "source": [
    "Es habitual utilizar tuplas para devolver varios objetos en una misma función:"
   ]
  },
  {
   "cell_type": "code",
   "execution_count": null,
   "metadata": {
    "id": "yk7LhfThYoyJ",
    "outputId": "41271cf5-d050-4bb6-97de-465c2cb1b927"
   },
   "outputs": [
    {
     "name": "stdout",
     "output_type": "stream",
     "text": [
      "Quiero el bacon muy hecho y 2 huevos\n"
     ]
    }
   ],
   "source": [
    "def desayuno(bacon, huevos):\n",
    "    return bacon, huevos\n",
    "\n",
    "bacon, huevos = desayuno(bacon = \"muy hecho\", huevos = 2)\n",
    "\n",
    "print(\"Quiero el bacon {} y {} huevos\".format(bacon,huevos))"
   ]
  },
  {
   "cell_type": "markdown",
   "metadata": {
    "id": "Qjli8q4gYoyS"
   },
   "source": [
    "> **Recuerda**: Son inmutables. ¡Una vez fijado su valor, ya no tiene sentido modificarlo!"
   ]
  },
  {
   "cell_type": "markdown",
   "metadata": {
    "id": "hc_DzLtNYoyT"
   },
   "source": [
    "#### 4.3.1. Rangos"
   ]
  },
  {
   "cell_type": "markdown",
   "metadata": {
    "id": "NOtoFolEYoyV"
   },
   "source": [
    "Son un caso especial de tuplas, definidas como secuencias."
   ]
  },
  {
   "cell_type": "code",
   "execution_count": null,
   "metadata": {
    "id": "VVfi2LjwYoyW",
    "outputId": "c000861b-c7ab-480f-efa9-6f1891ef36e0"
   },
   "outputs": [
    {
     "data": {
      "text/plain": [
       "range(3, 6)"
      ]
     },
     "execution_count": 27,
     "metadata": {
      "tags": []
     },
     "output_type": "execute_result"
    }
   ],
   "source": [
    "a = range(3,6)\n",
    "a"
   ]
  },
  {
   "cell_type": "markdown",
   "metadata": {
    "id": "TE6r9KIZYoyb"
   },
   "source": [
    "Para convertirlos a lista."
   ]
  },
  {
   "cell_type": "code",
   "execution_count": null,
   "metadata": {
    "id": "v-nceX4MYoyd",
    "outputId": "d216071e-70d2-45a0-f103-90cfba556c88"
   },
   "outputs": [
    {
     "data": {
      "text/plain": [
       "[3, 4, 5]"
      ]
     },
     "execution_count": 28,
     "metadata": {
      "tags": []
     },
     "output_type": "execute_result"
    }
   ],
   "source": [
    "list(a)"
   ]
  },
  {
   "cell_type": "markdown",
   "metadata": {
    "id": "NytcemOMYoyl"
   },
   "source": [
    "### 4.4. Diccionarios\n",
    "\n",
    "Sus elementos van entre llaves, separados por comas con una clave:  `{'clave1': val1, 'clave2': val1,...}`\n",
    "\n",
    "Hay distintas formas de declararlos, todas equivalentes:"
   ]
  },
  {
   "cell_type": "code",
   "execution_count": null,
   "metadata": {
    "id": "o4qiNc-MYoyn",
    "outputId": "4808ba07-f896-491f-f585-c15b4292b14c"
   },
   "outputs": [
    {
     "data": {
      "text/plain": [
       "True"
      ]
     },
     "execution_count": 29,
     "metadata": {
      "tags": []
     },
     "output_type": "execute_result"
    }
   ],
   "source": [
    "a = dict(uno=1, dos=2, tres=3)\n",
    "b = {'uno': 1, 'dos': 2, 'tres': 3}\n",
    "c = dict(zip(['uno', 'dos', 'tres'], [1, 2, 3]))\n",
    "d = dict([('dos', 2), ('uno', 1), ('tres', 3)])\n",
    "e = dict({'tres': 3, 'uno': 1, 'dos': 2})\n",
    "a == b == c == d == e"
   ]
  },
  {
   "cell_type": "markdown",
   "metadata": {
    "id": "073MMf_yYoyu"
   },
   "source": [
    "> **Sabías que**: Dentro de los elementos de un diccionario no hay una ordenación prefijada. "
   ]
  },
  {
   "cell_type": "markdown",
   "metadata": {
    "id": "pGRWyTgvYoyw"
   },
   "source": [
    "Se accede a sus elementos por la clave:"
   ]
  },
  {
   "cell_type": "code",
   "execution_count": null,
   "metadata": {
    "id": "vDwV_phWYoyy",
    "outputId": "8fa2fc35-4dc0-41bc-bd5a-298cc47f0065"
   },
   "outputs": [
    {
     "data": {
      "text/plain": [
       "1"
      ]
     },
     "execution_count": 30,
     "metadata": {
      "tags": []
     },
     "output_type": "execute_result"
    }
   ],
   "source": [
    "a[\"uno\"]"
   ]
  },
  {
   "cell_type": "markdown",
   "metadata": {
    "id": "r7gipkZoYoy8"
   },
   "source": [
    "Para consultar las claves:"
   ]
  },
  {
   "cell_type": "code",
   "execution_count": null,
   "metadata": {
    "id": "1xtmTUnVYoy-",
    "outputId": "04c8e1e7-ed56-4d1c-ef0a-a28354a00876"
   },
   "outputs": [
    {
     "data": {
      "text/plain": [
       "dict_keys(['uno', 'dos', 'tres'])"
      ]
     },
     "execution_count": 31,
     "metadata": {
      "tags": []
     },
     "output_type": "execute_result"
    }
   ],
   "source": [
    "a.keys()"
   ]
  },
  {
   "cell_type": "markdown",
   "metadata": {
    "id": "lekVadpmYozB"
   },
   "source": [
    "Obtener la lista de pares (clave,valor) con `items()`."
   ]
  },
  {
   "cell_type": "code",
   "execution_count": null,
   "metadata": {
    "id": "TnUMTHrTYozC",
    "outputId": "2c1f9ac6-0b3a-4541-dbfb-0f3b048e287e"
   },
   "outputs": [
    {
     "data": {
      "text/plain": [
       "dict_items([('uno', 1), ('dos', 2), ('tres', 3)])"
      ]
     },
     "execution_count": 32,
     "metadata": {
      "tags": []
     },
     "output_type": "execute_result"
    }
   ],
   "source": [
    "a.items()"
   ]
  },
  {
   "cell_type": "markdown",
   "metadata": {
    "id": "lWHYmKYBYozI"
   },
   "source": [
    "#### 4.4.1. Filtros en Listas\n",
    "\n",
    "Utiliza índices enteros positivos (cero incluido)."
   ]
  },
  {
   "cell_type": "code",
   "execution_count": null,
   "metadata": {
    "id": "QyEc67V4YozJ",
    "outputId": "29c2b386-d6b3-41b9-d2f0-a29c69cb1822"
   },
   "outputs": [
    {
     "data": {
      "text/plain": [
       "3"
      ]
     },
     "execution_count": 33,
     "metadata": {
      "tags": []
     },
     "output_type": "execute_result"
    }
   ],
   "source": [
    "a = [3,7,2,9,2,8,6]\n",
    "a[0]"
   ]
  },
  {
   "cell_type": "markdown",
   "metadata": {
    "id": "n-zLW5VWYozR"
   },
   "source": [
    "> **Recuerda**: Python empieza sus índices en 0, no 1. "
   ]
  },
  {
   "cell_type": "markdown",
   "metadata": {
    "id": "mlNaxcyZYozU"
   },
   "source": [
    "Los negativos seleccionan empezando por la cola."
   ]
  },
  {
   "cell_type": "code",
   "execution_count": null,
   "metadata": {
    "id": "i6pYksJ-YozV",
    "outputId": "6bd82328-dab0-4c2e-90ce-837445abb229"
   },
   "outputs": [
    {
     "data": {
      "text/plain": [
       "8"
      ]
     },
     "execution_count": 34,
     "metadata": {
      "tags": []
     },
     "output_type": "execute_result"
    }
   ],
   "source": [
    "a[-2]"
   ]
  },
  {
   "cell_type": "markdown",
   "metadata": {
    "id": "DLDCVQcCYoza"
   },
   "source": [
    "También se utilizan secuencias o *slices* definidos con `:`."
   ]
  },
  {
   "cell_type": "code",
   "execution_count": null,
   "metadata": {
    "id": "R1kxuGQ5Yozb",
    "outputId": "8ef12521-dcb7-40f3-d2b3-0a9273fbd683"
   },
   "outputs": [
    {
     "data": {
      "text/plain": [
       "[7, 2, 9, 2]"
      ]
     },
     "execution_count": 35,
     "metadata": {
      "tags": []
     },
     "output_type": "execute_result"
    }
   ],
   "source": [
    "a[1:5]"
   ]
  },
  {
   "cell_type": "markdown",
   "metadata": {
    "id": "84P-HXOvYozg"
   },
   "source": [
    "Secuencias con paso distinto a 1 añadiendo un tercer elemento: `ini:fin:paso`."
   ]
  },
  {
   "cell_type": "code",
   "execution_count": null,
   "metadata": {
    "id": "36TFlYmkYozh",
    "outputId": "123cb8be-8f40-4e1f-bd8f-1cd4b3af6d35"
   },
   "outputs": [
    {
     "data": {
      "text/plain": [
       "[7, 9]"
      ]
     },
     "execution_count": 36,
     "metadata": {
      "tags": []
     },
     "output_type": "execute_result"
    }
   ],
   "source": [
    "a[1:5:2]"
   ]
  },
  {
   "cell_type": "markdown",
   "metadata": {
    "id": "8AvGfvqKYozm"
   },
   "source": [
    "Puedes omitir el inicio o el fin para extender la secuencia. "
   ]
  },
  {
   "cell_type": "code",
   "execution_count": null,
   "metadata": {
    "id": "Hji63zLAYozn",
    "outputId": "7d68f46b-0b5d-4c44-e4f2-5d5a329c6c78"
   },
   "outputs": [
    {
     "data": {
      "text/plain": [
       "[3, 7, 2, 9]"
      ]
     },
     "execution_count": 37,
     "metadata": {
      "tags": []
     },
     "output_type": "execute_result"
    }
   ],
   "source": [
    "a[:4]"
   ]
  },
  {
   "cell_type": "markdown",
   "metadata": {
    "id": "hbV69hKfYozs"
   },
   "source": [
    "O, los dos."
   ]
  },
  {
   "cell_type": "code",
   "execution_count": null,
   "metadata": {
    "id": "AuDhgmHLYozt",
    "outputId": "b5a3ac27-ad02-4a73-fd22-4a626c5db040"
   },
   "outputs": [
    {
     "data": {
      "text/plain": [
       "[3, 7, 2, 9, 2, 8, 6]"
      ]
     },
     "execution_count": 38,
     "metadata": {
      "tags": []
     },
     "output_type": "execute_result"
    }
   ],
   "source": [
    "a[:]"
   ]
  },
  {
   "cell_type": "markdown",
   "metadata": {
    "id": "tAtNrwnqYozy"
   },
   "source": [
    "Los strings siguen comportándose como listas en este aspecto, ya que permiten aplicar filtros dentro del texto."
   ]
  },
  {
   "cell_type": "code",
   "execution_count": null,
   "metadata": {
    "id": "qgjqRKWFYozz",
    "outputId": "2d2d4651-2c7f-4223-9d56-909a91ce47e2"
   },
   "outputs": [
    {
     "data": {
      "text/plain": [
       "'soy una lista'"
      ]
     },
     "execution_count": 39,
     "metadata": {
      "tags": []
     },
     "output_type": "execute_result"
    }
   ],
   "source": [
    "a = \"no soy una lista\"\n",
    "a[3:]"
   ]
  },
  {
   "cell_type": "markdown",
   "metadata": {
    "id": "yrA92msbYoz5"
   },
   "source": [
    "#### 4.4.2. *List Comprehension*"
   ]
  },
  {
   "cell_type": "markdown",
   "metadata": {
    "id": "K_Wjd8JCYoz5"
   },
   "source": [
    "La comprensión de listas o *list comprehension* es una forma elegante de automatizar cálculos con listas.\n",
    "\n",
    "Por ejemplo, si se quiere invertir la secuencia del 1 al 4."
   ]
  },
  {
   "cell_type": "code",
   "execution_count": null,
   "metadata": {
    "id": "DMwKSCrUYoz6",
    "outputId": "ca53b0cb-db31-40c9-9f6f-f29380136ecd"
   },
   "outputs": [
    {
     "data": {
      "text/plain": [
       "[1.0, 0.5, 0.3333333333333333, 0.25]"
      ]
     },
     "execution_count": 40,
     "metadata": {
      "tags": []
     },
     "output_type": "execute_result"
    }
   ],
   "source": [
    "a = range(1,5)\n",
    "b = [1 / x for x in a]\n",
    "b"
   ]
  },
  {
   "cell_type": "markdown",
   "metadata": {
    "id": "IdK0lvkiYo0D"
   },
   "source": [
    "También admite condicionales."
   ]
  },
  {
   "cell_type": "code",
   "execution_count": null,
   "metadata": {
    "id": "Cms-ofHGYo0D",
    "outputId": "3cc509a2-804e-4bce-bd2b-bfb6fc593ea2"
   },
   "outputs": [
    {
     "data": {
      "text/plain": [
       "[1.0, 0.5, 0.3333333333333333, 0.25]"
      ]
     },
     "execution_count": 41,
     "metadata": {
      "tags": []
     },
     "output_type": "execute_result"
    }
   ],
   "source": [
    "a = [0,1,0,2,0,3,4,0]\n",
    "b = [1 / x for x in a if x != 0]\n",
    "b"
   ]
  },
  {
   "cell_type": "markdown",
   "metadata": {
    "id": "dOIRhAqzYo0J"
   },
   "source": [
    "Los diccionarios, a su manera, admiten también este recurso."
   ]
  },
  {
   "cell_type": "code",
   "execution_count": null,
   "metadata": {
    "id": "XQcF-UUXYo0J",
    "outputId": "98dd0967-4e3b-4d04-9973-1f279bfa362f",
    "scrolled": true
   },
   "outputs": [
    {
     "data": {
      "text/plain": [
       "{'dos': 4, 'tres': 9, 'uno': 1}"
      ]
     },
     "execution_count": 42,
     "metadata": {
      "tags": []
     },
     "output_type": "execute_result"
    }
   ],
   "source": [
    "a = {'uno': 1, 'dos': 2, 'tres': 3}\n",
    "b = {k: v*v for k,v in a.items()}\n",
    "b"
   ]
  },
  {
   "cell_type": "markdown",
   "metadata": {
    "id": "utRr6PyRYo0N"
   },
   "source": [
    "Continúa ahora con los objetos de tipo **numpy**."
   ]
  },
  {
   "cell_type": "markdown",
   "metadata": {},
   "source": [
    "< [Gráficos con matplotlib](modulo1_tema4_Py_20_matplotlib.ipynb) | [Índice](modulo1_tema4_Py_00_indice.ipynb) | [Colecciones de objetos: numpy](modulo1_tema4_Py_31_numpy.ipynb) >\n",
    "\n",
    "__[Abre en Colab](https://colab.research.google.com/github/griu/init_python_b1/blob/master/modulo1_tema4_Py_30_colec_obj.ipynb)__"
   ]
  }
 ],
 "metadata": {
  "colab": {
   "collapsed_sections": [
    "p7qI32heYovy",
    "hc_DzLtNYoyT",
    "lWHYmKYBYozI",
    "yrA92msbYoz5"
   ],
   "name": "M1_BloqueII_Python_4_Coleccion_objetos.ipynb",
   "provenance": []
  },
  "kernelspec": {
   "display_name": "initPython383",
   "language": "python",
   "name": "initpython383"
  },
  "language_info": {
   "codemirror_mode": {
    "name": "ipython",
    "version": 3
   },
   "file_extension": ".py",
   "mimetype": "text/x-python",
   "name": "python",
   "nbconvert_exporter": "python",
   "pygments_lexer": "ipython3",
   "version": "3.6.9"
  }
 },
 "nbformat": 4,
 "nbformat_minor": 1
}
