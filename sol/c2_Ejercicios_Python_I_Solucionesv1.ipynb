{
 "cells": [
  {
   "cell_type": "markdown",
   "metadata": {
    "id": "u6rktmGskhdZ"
   },
   "source": [
    "<img align=\"left\" style=\"padding-right:10px;\" width=\"150\" src=\"https://upload.wikimedia.org/wikipedia/commons/thumb/6/6c/Star_Wars_Logo.svg/320px-Star_Wars_Logo.svg.png\" />"
   ]
  },
  {
   "cell_type": "markdown",
   "metadata": {
    "id": "t-WMJQcV6q4q"
   },
   "source": [
    "# Preparación del entorno\n",
    "\n",
    "Padawan! Cuando inicies sesión en Colab, prepara el entorno ejecutando el siguiente código."
   ]
  },
  {
   "cell_type": "code",
   "execution_count": 1,
   "metadata": {
    "colab": {
     "base_uri": "https://localhost:8080/",
     "height": 0
    },
    "id": "2SBF5dlSTi-h",
    "outputId": "14f76429-5075-4912-b039-b7043cbc9640"
   },
   "outputs": [],
   "source": [
    "if 'google.colab' in str(get_ipython()):\n",
    "    !git clone https://github.com/griu/init_python_b1.git /content/init_python_b1\n",
    "    !git -C /content/init_python_b1 pull\n",
    "    %cd /content/init_python_b1"
   ]
  },
  {
   "cell_type": "markdown",
   "metadata": {
    "id": "1J4h6kTngjn5"
   },
   "source": [
    "# Ejercicio 1\n",
    "\n",
    "Para realizar el ejercicio cargamos los datos de *Especies* en STARWARS SWAPI y las librerías principales."
   ]
  },
  {
   "cell_type": "code",
   "execution_count": 2,
   "metadata": {
    "colab": {
     "base_uri": "https://localhost:8080/",
     "height": 235
    },
    "id": "2V3mrVHSgjn7",
    "outputId": "abf92cd1-2983-4786-979c-4d51beb023fa"
   },
   "outputs": [
    {
     "data": {
      "text/html": [
       "<div>\n",
       "<style scoped>\n",
       "    .dataframe tbody tr th:only-of-type {\n",
       "        vertical-align: middle;\n",
       "    }\n",
       "\n",
       "    .dataframe tbody tr th {\n",
       "        vertical-align: top;\n",
       "    }\n",
       "\n",
       "    .dataframe thead th {\n",
       "        text-align: right;\n",
       "    }\n",
       "</style>\n",
       "<table border=\"1\" class=\"dataframe\">\n",
       "  <thead>\n",
       "    <tr style=\"text-align: right;\">\n",
       "      <th></th>\n",
       "      <th>height</th>\n",
       "      <th>mass</th>\n",
       "      <th>birth_year</th>\n",
       "      <th>gender</th>\n",
       "      <th>homeworld</th>\n",
       "    </tr>\n",
       "    <tr>\n",
       "      <th>name</th>\n",
       "      <th></th>\n",
       "      <th></th>\n",
       "      <th></th>\n",
       "      <th></th>\n",
       "      <th></th>\n",
       "    </tr>\n",
       "  </thead>\n",
       "  <tbody>\n",
       "    <tr>\n",
       "      <th>Luke Skywalker</th>\n",
       "      <td>172.0</td>\n",
       "      <td>77.0</td>\n",
       "      <td>19.0</td>\n",
       "      <td>male</td>\n",
       "      <td>http://swapi.dev/api/planets/1/</td>\n",
       "    </tr>\n",
       "    <tr>\n",
       "      <th>C-3PO</th>\n",
       "      <td>167.0</td>\n",
       "      <td>75.0</td>\n",
       "      <td>112.0</td>\n",
       "      <td>none</td>\n",
       "      <td>http://swapi.dev/api/planets/1/</td>\n",
       "    </tr>\n",
       "    <tr>\n",
       "      <th>R2-D2</th>\n",
       "      <td>96.0</td>\n",
       "      <td>32.0</td>\n",
       "      <td>33.0</td>\n",
       "      <td>none</td>\n",
       "      <td>http://swapi.dev/api/planets/8/</td>\n",
       "    </tr>\n",
       "    <tr>\n",
       "      <th>Darth Vader</th>\n",
       "      <td>202.0</td>\n",
       "      <td>136.0</td>\n",
       "      <td>41.9</td>\n",
       "      <td>male</td>\n",
       "      <td>http://swapi.dev/api/planets/1/</td>\n",
       "    </tr>\n",
       "    <tr>\n",
       "      <th>Leia Organa</th>\n",
       "      <td>150.0</td>\n",
       "      <td>49.0</td>\n",
       "      <td>19.0</td>\n",
       "      <td>female</td>\n",
       "      <td>http://swapi.dev/api/planets/2/</td>\n",
       "    </tr>\n",
       "  </tbody>\n",
       "</table>\n",
       "</div>"
      ],
      "text/plain": [
       "                height   mass  birth_year  gender  \\\n",
       "name                                                \n",
       "Luke Skywalker   172.0   77.0        19.0    male   \n",
       "C-3PO            167.0   75.0       112.0    none   \n",
       "R2-D2             96.0   32.0        33.0    none   \n",
       "Darth Vader      202.0  136.0        41.9    male   \n",
       "Leia Organa      150.0   49.0        19.0  female   \n",
       "\n",
       "                                      homeworld  \n",
       "name                                             \n",
       "Luke Skywalker  http://swapi.dev/api/planets/1/  \n",
       "C-3PO           http://swapi.dev/api/planets/1/  \n",
       "R2-D2           http://swapi.dev/api/planets/8/  \n",
       "Darth Vader     http://swapi.dev/api/planets/1/  \n",
       "Leia Organa     http://swapi.dev/api/planets/2/  "
      ]
     },
     "execution_count": 2,
     "metadata": {},
     "output_type": "execute_result"
    }
   ],
   "source": [
    "import numpy as np\n",
    "import pandas as pd\n",
    "import matplotlib.pyplot as plt\n",
    "import seaborn as sns; sns.set()  # para el estilo de graficos\n",
    "\n",
    "entidades = ['planets','starships','vehicles','people','species']\n",
    "entidades_df = {x: pd.read_pickle('www/' + x + '_df.pkl') for x in entidades}\n",
    "\n",
    "# Datos principales\n",
    "people_df = entidades_df['people'][[\"height\",\"mass\",\"birth_year\",\"gender\",\"homeworld\"]].dropna()\n",
    "\n",
    "people_df.head()"
   ]
  },
  {
   "cell_type": "markdown",
   "metadata": {
    "id": "8y6PLIR-gjoF"
   },
   "source": [
    "## Ejercicio 1.1. \n",
    "\n",
    "Construye un gráfico de dispersión de los personajes donde se visualice: la altura (height), el peso (mass), la edad en años BBY (birth_year) y el género (gender). Para ello utiliza la función `sns.scatterplot()` de la librería seaborn. Aprovecha todos los parámetros: `x`, `y`, `size`, `hue` y `style` (consulta la ayuda de la función [.scatterplot()](https://seaborn.pydata.org/generated/seaborn.scatterplot.html)."
   ]
  },
  {
   "cell_type": "code",
   "execution_count": 3,
   "metadata": {
    "colab": {
     "base_uri": "https://localhost:8080/",
     "height": 301
    },
    "id": "fURT1ovigjoH",
    "outputId": "1b35a8cd-3642-42a8-ed09-d9f6db36c47d"
   },
   "outputs": [
    {
     "data": {
      "image/png": "[encoded data removed]",
      "text/plain": [
       "<Figure size 432x288 with 1 Axes>"
      ]
     },
     "metadata": {},
     "output_type": "display_data"
    }
   ],
   "source": [
    "# Solución:\n",
    "import seaborn as sns\n",
    "sns.set()\n",
    "sns.scatterplot(x='height', y='mass'\n",
    "            , hue='gender', size='birth_year' \n",
    "            , style=None, palette=\"Set2\"\n",
    "            , data=people_df);\n",
    "\n",
    "plt.title(\"Características de los personajes de Star Wars\")\n",
    "plt.xlabel(\"Altura media (cm)\")\n",
    "plt.ylabel(\"Peso(kg)\");\n",
    "plt.show();\n"
   ]
  },
  {
   "cell_type": "markdown",
   "metadata": {
    "id": "1MofC8dugjoQ"
   },
   "source": [
    "## Ejercicio 1.2.\n",
    "\n",
    "Sobre el gráfico del ejercicio 1.1:\n",
    "\n",
    "- Pon título al gráfico y a los ejes x e y. \n",
    "- Modifica los límites del eje y para que aparezcan sólo personajes de menos de 150 Kg de peso.\n",
    "- Sitúa en el gráfico los nombres de \"Darth Vader\" y \"Anakin Skywalker\". ¿Cómo es posible tengan un peso y altura tan distintos si eran la misma persona?"
   ]
  },
  {
   "cell_type": "code",
   "execution_count": 4,
   "metadata": {
    "colab": {
     "base_uri": "https://localhost:8080/",
     "height": 437
    },
    "id": "iHmGn9OrgjoS",
    "outputId": "a1784b05-530a-42e8-e0ee-e3505c8469c4"
   },
   "outputs": [
    {
     "data": {
      "image/png": "[encoded data removed]",
      "text/plain": [
       "<Figure size 432x288 with 1 Axes>"
      ]
     },
     "metadata": {},
     "output_type": "display_data"
    }
   ],
   "source": [
    "# Solución:\n",
    "\n",
    "sns.scatterplot(x='height', y='mass'\n",
    "            , hue='gender', size='birth_year' \n",
    "            , style=None, palette=\"Set2\"\n",
    "            , data=people_df[people_df.mass<150]);\n",
    "plt.title(\"Características de los personajes de Star Wars peso<150\")\n",
    "plt.xlabel(\"Altura media (cm)\")\n",
    "plt.ylabel(\"Peso(kg)\");\n",
    "\n",
    "person_txt =  \"Anakin Skywalker\"\n",
    "plt.text(people_df.height[people_df.index==person_txt]\n",
    "         , people_df.mass[people_df.index==person_txt]\n",
    "         , person_txt, ha='right')\n",
    "\n",
    "person_txt =  \"Darth Vader\"\n",
    "plt.text(people_df.height[people_df.index==person_txt]\n",
    "         , people_df.mass[people_df.index==person_txt]\n",
    "         , person_txt, ha='left')\n",
    "\n",
    "plt.show();"
   ]
  },
  {
   "cell_type": "markdown",
   "metadata": {},
   "source": [
    "La armadura de Darth Vader era un soporte de vida móvil que Darth Vader fue forzado a usar para compensar las graves heridas que sufrió después de su duelo con Obi-Wan Kenobi en Mustafar en 19 ABY. El traje fue construido usando varios métodos de Alquimia Sith que sirvieron para aumentar la fuerza física gravemente disminuida de Vader y su vitalidad, el peso de la armadura es lo que responde a esa diferencia en kg, en cuanto a diferencia de altura el casco de su armadura tenía una cresta elevada que iba de entre los ojos a la parte posterior de su cabeza"
   ]
  },
  {
   "cell_type": "markdown",
   "metadata": {
    "id": "D2pjJXbcgjoa"
   },
   "source": [
    "## Ejercicio 1.3.\n",
    "\n",
    "Utiliza las *list comprehension* para calcular el cuadrado de los valores positivos de la siguiente lista:\n",
    "\n",
    "Muestra el resultado por pantalla."
   ]
  },
  {
   "cell_type": "code",
   "execution_count": 5,
   "metadata": {
    "id": "WJjNiT3Qgjoc"
   },
   "outputs": [],
   "source": [
    "val = [5, 6, -1, 2, -3, -7, 9, 1]"
   ]
  },
  {
   "cell_type": "code",
   "execution_count": 6,
   "metadata": {
    "colab": {
     "base_uri": "https://localhost:8080/",
     "height": 0
    },
    "id": "9Hf_uH8ugjol",
    "outputId": "f289c106-b49f-45d6-a47b-8acfaa86b386"
   },
   "outputs": [
    {
     "data": {
      "text/plain": [
       "[25, 36, 4, 81, 1]"
      ]
     },
     "execution_count": 6,
     "metadata": {},
     "output_type": "execute_result"
    }
   ],
   "source": [
    "# Solución:\n",
    "\n",
    "[i**2 for i in val if i > 0]"
   ]
  },
  {
   "cell_type": "markdown",
   "metadata": {
    "id": "AE6CcvVggjou"
   },
   "source": [
    "## Ejercicio 1.4.\n",
    "\n",
    "Construye un diccionario donde se identifique, mediante claves y valores, las siguientes características del personaje Yoda: \"nombre\", \"altura\", \"peso\", \"edad\" y \"genero\". Utiliza los datos de people_df.\n",
    "\n",
    "Muestra el diccionario por pantalla."
   ]
  },
  {
   "cell_type": "code",
   "execution_count": 7,
   "metadata": {
    "colab": {
     "base_uri": "https://localhost:8080/",
     "height": 0
    },
    "id": "eaq6M61-gjo4",
    "outputId": "e002c7c4-9f56-4ede-e8d6-26c10928165c"
   },
   "outputs": [
    {
     "name": "stdout",
     "output_type": "stream",
     "text": [
      "{'nombre': 'Yoda', 'altura': 66.0, 'peso': 17.0, 'edad': 896.0, 'genero': 'male'}\n"
     ]
    }
   ],
   "source": [
    "# Solución:\n",
    "dfyoda = people_df[people_df.index.values == \"Yoda\"]\n",
    "dicc_Yoda = { \"nombre\": dfyoda.index[0]\n",
    "             , \"altura\":dfyoda.height[0]\n",
    "             , \"peso\":dfyoda.mass[0]\n",
    "             , \"edad\":dfyoda.birth_year[0]\n",
    "             , \"genero\":dfyoda.gender[0]}\n",
    "\n",
    "print(dicc_Yoda)"
   ]
  },
  {
   "cell_type": "markdown",
   "metadata": {
    "id": "Z2bkPuuEgjpA"
   },
   "source": [
    "## Ejercicio 1.5.\n",
    "\n",
    "Calcula, a partir de los vectores numpy de altura y peso, definidos a continuación, el [índice de masa corporal (IMC)](https://es.wikipedia.org/wiki/%C3%8Dndice_de_masa_corporal) de los personajes de star wars contenidos en people_df: \n",
    "\n",
    "$IMC = \\frac{peso}{altura^{2}}$ donde altura está en metros y el peso en kg.\n",
    "\n",
    "Muestra los datos por pantalla."
   ]
  },
  {
   "cell_type": "code",
   "execution_count": 8,
   "metadata": {
    "colab": {
     "base_uri": "https://localhost:8080/",
     "height": 0
    },
    "id": "j6vDGHHngjpK",
    "outputId": "7a5fd8d6-766f-4c7e-eca3-7bce961a9531"
   },
   "outputs": [
    {
     "data": {
      "text/html": [
       "<div>\n",
       "<style scoped>\n",
       "    .dataframe tbody tr th:only-of-type {\n",
       "        vertical-align: middle;\n",
       "    }\n",
       "\n",
       "    .dataframe tbody tr th {\n",
       "        vertical-align: top;\n",
       "    }\n",
       "\n",
       "    .dataframe thead th {\n",
       "        text-align: right;\n",
       "    }\n",
       "</style>\n",
       "<table border=\"1\" class=\"dataframe\">\n",
       "  <thead>\n",
       "    <tr style=\"text-align: right;\">\n",
       "      <th></th>\n",
       "      <th>height</th>\n",
       "      <th>mass</th>\n",
       "      <th>birth_year</th>\n",
       "      <th>gender</th>\n",
       "      <th>homeworld</th>\n",
       "      <th>IMC</th>\n",
       "    </tr>\n",
       "    <tr>\n",
       "      <th>name</th>\n",
       "      <th></th>\n",
       "      <th></th>\n",
       "      <th></th>\n",
       "      <th></th>\n",
       "      <th></th>\n",
       "      <th></th>\n",
       "    </tr>\n",
       "  </thead>\n",
       "  <tbody>\n",
       "    <tr>\n",
       "      <th>Luke Skywalker</th>\n",
       "      <td>172.0</td>\n",
       "      <td>77.0</td>\n",
       "      <td>19.0</td>\n",
       "      <td>male</td>\n",
       "      <td>http://swapi.dev/api/planets/1/</td>\n",
       "      <td>26.027582</td>\n",
       "    </tr>\n",
       "    <tr>\n",
       "      <th>C-3PO</th>\n",
       "      <td>167.0</td>\n",
       "      <td>75.0</td>\n",
       "      <td>112.0</td>\n",
       "      <td>none</td>\n",
       "      <td>http://swapi.dev/api/planets/1/</td>\n",
       "      <td>26.892323</td>\n",
       "    </tr>\n",
       "    <tr>\n",
       "      <th>R2-D2</th>\n",
       "      <td>96.0</td>\n",
       "      <td>32.0</td>\n",
       "      <td>33.0</td>\n",
       "      <td>none</td>\n",
       "      <td>http://swapi.dev/api/planets/8/</td>\n",
       "      <td>34.722222</td>\n",
       "    </tr>\n",
       "    <tr>\n",
       "      <th>Darth Vader</th>\n",
       "      <td>202.0</td>\n",
       "      <td>136.0</td>\n",
       "      <td>41.9</td>\n",
       "      <td>male</td>\n",
       "      <td>http://swapi.dev/api/planets/1/</td>\n",
       "      <td>33.330066</td>\n",
       "    </tr>\n",
       "    <tr>\n",
       "      <th>Leia Organa</th>\n",
       "      <td>150.0</td>\n",
       "      <td>49.0</td>\n",
       "      <td>19.0</td>\n",
       "      <td>female</td>\n",
       "      <td>http://swapi.dev/api/planets/2/</td>\n",
       "      <td>21.777778</td>\n",
       "    </tr>\n",
       "  </tbody>\n",
       "</table>\n",
       "</div>"
      ],
      "text/plain": [
       "                height   mass  birth_year  gender  \\\n",
       "name                                                \n",
       "Luke Skywalker   172.0   77.0        19.0    male   \n",
       "C-3PO            167.0   75.0       112.0    none   \n",
       "R2-D2             96.0   32.0        33.0    none   \n",
       "Darth Vader      202.0  136.0        41.9    male   \n",
       "Leia Organa      150.0   49.0        19.0  female   \n",
       "\n",
       "                                      homeworld        IMC  \n",
       "name                                                        \n",
       "Luke Skywalker  http://swapi.dev/api/planets/1/  26.027582  \n",
       "C-3PO           http://swapi.dev/api/planets/1/  26.892323  \n",
       "R2-D2           http://swapi.dev/api/planets/8/  34.722222  \n",
       "Darth Vader     http://swapi.dev/api/planets/1/  33.330066  \n",
       "Leia Organa     http://swapi.dev/api/planets/2/  21.777778  "
      ]
     },
     "execution_count": 8,
     "metadata": {},
     "output_type": "execute_result"
    }
   ],
   "source": [
    "# Solución:\n",
    "\n",
    "people_df[\"IMC\"] = people_df.mass / (people_df.height/100)**2\n",
    "people_df.head()\n"
   ]
  },
  {
   "cell_type": "markdown",
   "metadata": {
    "id": "165OA48hgjpR"
   },
   "source": [
    "## Ejercicio 1.6.\n",
    "\n",
    "A partir del IMC que has calculado en el ejercicio 1.5. Construye un panel con dos histogramas:\n",
    "\n",
    "- Un histograma con toda la muestra\n",
    "- Un histograma seleccionando los valores con un IMC inferior a 100."
   ]
  },
  {
   "cell_type": "code",
   "execution_count": 9,
   "metadata": {
    "colab": {
     "base_uri": "https://localhost:8080/",
     "height": 301
    },
    "id": "tRACj-JDgjpT",
    "outputId": "686d3836-71cf-41b1-876e-4d04c403f0c3"
   },
   "outputs": [
    {
     "data": {
      "image/png": "[encoded data removed]",
      "text/plain": [
       "<Figure size 432x288 with 2 Axes>"
      ]
     },
     "metadata": {},
     "output_type": "display_data"
    }
   ],
   "source": [
    "# Solución:\n",
    "plt.figure();  # crea la figura del plot\n",
    "\n",
    "# histogrma de toda la muestra.\n",
    "plt.subplot(2, 1, 1) # (filas, columnas, número de panel)\n",
    "plt.hist(people_df.IMC, 50, color=\"grey\", label=\"Total muestra\")\n",
    "plt.xlabel(\"IMC\") \n",
    "plt.ylabel(\"N\")\n",
    "plt.legend();\n",
    "plt.title(\"IMC personajes Star Wars\")\n",
    "\n",
    "# Filtrado\n",
    "plt.subplot(2, 1, 2)\n",
    "plt.hist(people_df.IMC[people_df.IMC < 100], color=\"green\", label=\"IMC menores a 100\");\n",
    "plt.xlabel(\"IMC\")\n",
    "plt.ylabel(\"N\")\n",
    "plt.legend()\n",
    "plt.show();"
   ]
  },
  {
   "cell_type": "markdown",
   "metadata": {
    "id": "zsqrzaingjpb"
   },
   "source": [
    "## Ejercicio 1.7.\n",
    "\n",
    "A partir del vector 1 y 2 que se definen a continuación contesta las siguientes preguntas:\n",
    "\n",
    "- Calcula el shape, ndim, size del vector1 y vector2\n",
    "- Explica cual es la diferencia entre vector1 y vector2 a partir de los que hayas observado"
   ]
  },
  {
   "cell_type": "code",
   "execution_count": 10,
   "metadata": {
    "id": "DYLofIqugjpc"
   },
   "outputs": [],
   "source": [
    "vector1 = np.hstack([people_df.height,people_df.mass])\n",
    "vector2 = np.vstack([people_df.height,people_df.mass])"
   ]
  },
  {
   "cell_type": "code",
   "execution_count": 11,
   "metadata": {},
   "outputs": [
    {
     "data": {
      "text/plain": [
       "(3,)"
      ]
     },
     "execution_count": 11,
     "metadata": {},
     "output_type": "execute_result"
    }
   ],
   "source": [
    "np.array([1,2,3]).shape"
   ]
  },
  {
   "cell_type": "code",
   "execution_count": 12,
   "metadata": {
    "colab": {
     "base_uri": "https://localhost:8080/",
     "height": 0
    },
    "id": "1WBV3vUxgjpm",
    "outputId": "1b2ff27e-b639-4f27-94e8-960308bdcea9"
   },
   "outputs": [
    {
     "name": "stdout",
     "output_type": "stream",
     "text": [
      "El shape del vector1 es (72,), el ndim es 1 y el size es 72\n",
      "El shape del vector2 es (2, 36), el ndim es 2 y el size es 72\n"
     ]
    }
   ],
   "source": [
    "# Solución:\n",
    "print(\"El shape del vector1 es {}, el ndim es {} y el size es {}\".format( vector1.shape, vector1.ndim, vector1.size))\n",
    "print(\"El shape del vector2 es {}, el ndim es {} y el size es {}\".format( vector2.shape, vector2.ndim, vector2.size))\n"
   ]
  },
  {
   "cell_type": "markdown",
   "metadata": {
    "id": "TKA5Z0zyPFCz"
   },
   "source": [
    "**Explicación**: vector1 es un array unidimensional, que es equivalente a un array de 72 filas y una columna, en cambio vector2 es una array bidimensional de 36 filas y 2 columnas.\n"
   ]
  },
  {
   "cell_type": "markdown",
   "metadata": {
    "id": "PnkDGSu0gjpw"
   },
   "source": [
    "## Ejercicio 1.8.\n",
    "\n",
    "Crea una copia de people_df llamada personajes_df y renombra las columnas con su traducción al castellano. \n",
    "\n",
    "Muestra los 5 primeros registros del nuevo data frame con `.head()`."
   ]
  },
  {
   "cell_type": "code",
   "execution_count": 13,
   "metadata": {
    "colab": {
     "base_uri": "https://localhost:8080/",
     "height": 235
    },
    "id": "7jK-a6Engjpx",
    "outputId": "d15578f1-1360-430b-eb36-898cc5ce9fe6"
   },
   "outputs": [
    {
     "data": {
      "text/html": [
       "<div>\n",
       "<style scoped>\n",
       "    .dataframe tbody tr th:only-of-type {\n",
       "        vertical-align: middle;\n",
       "    }\n",
       "\n",
       "    .dataframe tbody tr th {\n",
       "        vertical-align: top;\n",
       "    }\n",
       "\n",
       "    .dataframe thead th {\n",
       "        text-align: right;\n",
       "    }\n",
       "</style>\n",
       "<table border=\"1\" class=\"dataframe\">\n",
       "  <thead>\n",
       "    <tr style=\"text-align: right;\">\n",
       "      <th></th>\n",
       "      <th>altura</th>\n",
       "      <th>peso</th>\n",
       "      <th>edad</th>\n",
       "      <th>genero</th>\n",
       "      <th>mundo_origen</th>\n",
       "      <th>IMC</th>\n",
       "    </tr>\n",
       "    <tr>\n",
       "      <th>name</th>\n",
       "      <th></th>\n",
       "      <th></th>\n",
       "      <th></th>\n",
       "      <th></th>\n",
       "      <th></th>\n",
       "      <th></th>\n",
       "    </tr>\n",
       "  </thead>\n",
       "  <tbody>\n",
       "    <tr>\n",
       "      <th>Luke Skywalker</th>\n",
       "      <td>172.0</td>\n",
       "      <td>77.0</td>\n",
       "      <td>19.0</td>\n",
       "      <td>male</td>\n",
       "      <td>http://swapi.dev/api/planets/1/</td>\n",
       "      <td>26.027582</td>\n",
       "    </tr>\n",
       "    <tr>\n",
       "      <th>C-3PO</th>\n",
       "      <td>167.0</td>\n",
       "      <td>75.0</td>\n",
       "      <td>112.0</td>\n",
       "      <td>none</td>\n",
       "      <td>http://swapi.dev/api/planets/1/</td>\n",
       "      <td>26.892323</td>\n",
       "    </tr>\n",
       "    <tr>\n",
       "      <th>R2-D2</th>\n",
       "      <td>96.0</td>\n",
       "      <td>32.0</td>\n",
       "      <td>33.0</td>\n",
       "      <td>none</td>\n",
       "      <td>http://swapi.dev/api/planets/8/</td>\n",
       "      <td>34.722222</td>\n",
       "    </tr>\n",
       "    <tr>\n",
       "      <th>Darth Vader</th>\n",
       "      <td>202.0</td>\n",
       "      <td>136.0</td>\n",
       "      <td>41.9</td>\n",
       "      <td>male</td>\n",
       "      <td>http://swapi.dev/api/planets/1/</td>\n",
       "      <td>33.330066</td>\n",
       "    </tr>\n",
       "    <tr>\n",
       "      <th>Leia Organa</th>\n",
       "      <td>150.0</td>\n",
       "      <td>49.0</td>\n",
       "      <td>19.0</td>\n",
       "      <td>female</td>\n",
       "      <td>http://swapi.dev/api/planets/2/</td>\n",
       "      <td>21.777778</td>\n",
       "    </tr>\n",
       "  </tbody>\n",
       "</table>\n",
       "</div>"
      ],
      "text/plain": [
       "                altura   peso   edad  genero                     mundo_origen  \\\n",
       "name                                                                            \n",
       "Luke Skywalker   172.0   77.0   19.0    male  http://swapi.dev/api/planets/1/   \n",
       "C-3PO            167.0   75.0  112.0    none  http://swapi.dev/api/planets/1/   \n",
       "R2-D2             96.0   32.0   33.0    none  http://swapi.dev/api/planets/8/   \n",
       "Darth Vader      202.0  136.0   41.9    male  http://swapi.dev/api/planets/1/   \n",
       "Leia Organa      150.0   49.0   19.0  female  http://swapi.dev/api/planets/2/   \n",
       "\n",
       "                      IMC  \n",
       "name                       \n",
       "Luke Skywalker  26.027582  \n",
       "C-3PO           26.892323  \n",
       "R2-D2           34.722222  \n",
       "Darth Vader     33.330066  \n",
       "Leia Organa     21.777778  "
      ]
     },
     "execution_count": 13,
     "metadata": {},
     "output_type": "execute_result"
    }
   ],
   "source": [
    "# Solución:\n",
    "personajes_df = people_df.copy()\n",
    "personajes_df.rename(columns = {'height' : 'altura',\n",
    "                                'mass' : 'peso','birth_year':'edad',\n",
    "                                'gender':'genero', 'homeworld':'mundo_origen',\n",
    "                                'IMC':'IMC'}, inplace = True)\n",
    "personajes_df.head()\n"
   ]
  },
  {
   "cell_type": "markdown",
   "metadata": {
    "id": "blkoKgizgjp5"
   },
   "source": [
    "## Ejercicio 1.9.\n",
    "\n",
    "Haz el mismo cálculo de IMC que has hecho en 1.5. pero directamente sobre el objeto personajes_df.\n",
    "\n",
    "Ordena el data frame de mayor a menor IMC y muestra el nombre e IMC de los personajes con IMC por encima de 30.\n",
    "\n",
    "> ¿Sabias que IMC por encima de 30 se considera obeso?\n"
   ]
  },
  {
   "cell_type": "code",
   "execution_count": 14,
   "metadata": {
    "colab": {
     "base_uri": "https://localhost:8080/",
     "height": 235
    },
    "id": "CHIIcuANgjp6",
    "outputId": "da03d6ef-44e6-4093-b639-cd2c12dc3fb9"
   },
   "outputs": [
    {
     "data": {
      "text/html": [
       "<div>\n",
       "<style scoped>\n",
       "    .dataframe tbody tr th:only-of-type {\n",
       "        vertical-align: middle;\n",
       "    }\n",
       "\n",
       "    .dataframe tbody tr th {\n",
       "        vertical-align: top;\n",
       "    }\n",
       "\n",
       "    .dataframe thead th {\n",
       "        text-align: right;\n",
       "    }\n",
       "</style>\n",
       "<table border=\"1\" class=\"dataframe\">\n",
       "  <thead>\n",
       "    <tr style=\"text-align: right;\">\n",
       "      <th></th>\n",
       "      <th>IMC</th>\n",
       "    </tr>\n",
       "    <tr>\n",
       "      <th>name</th>\n",
       "      <th></th>\n",
       "    </tr>\n",
       "  </thead>\n",
       "  <tbody>\n",
       "    <tr>\n",
       "      <th>Jabba Desilijic Tiure</th>\n",
       "      <td>443.428571</td>\n",
       "    </tr>\n",
       "    <tr>\n",
       "      <th>Yoda</th>\n",
       "      <td>39.026630</td>\n",
       "    </tr>\n",
       "    <tr>\n",
       "      <th>Owen Lars</th>\n",
       "      <td>37.874006</td>\n",
       "    </tr>\n",
       "    <tr>\n",
       "      <th>IG-88</th>\n",
       "      <td>35.000000</td>\n",
       "    </tr>\n",
       "    <tr>\n",
       "      <th>R2-D2</th>\n",
       "      <td>34.722222</td>\n",
       "    </tr>\n",
       "    <tr>\n",
       "      <th>Darth Vader</th>\n",
       "      <td>33.330066</td>\n",
       "    </tr>\n",
       "    <tr>\n",
       "      <th>Bossk</th>\n",
       "      <td>31.301939</td>\n",
       "    </tr>\n",
       "  </tbody>\n",
       "</table>\n",
       "</div>"
      ],
      "text/plain": [
       "                              IMC\n",
       "name                             \n",
       "Jabba Desilijic Tiure  443.428571\n",
       "Yoda                    39.026630\n",
       "Owen Lars               37.874006\n",
       "IG-88                   35.000000\n",
       "R2-D2                   34.722222\n",
       "Darth Vader             33.330066\n",
       "Bossk                   31.301939"
      ]
     },
     "execution_count": 14,
     "metadata": {},
     "output_type": "execute_result"
    }
   ],
   "source": [
    "# Solución:\n",
    "\n",
    "personajes_df[\"IMC\"] = personajes_df.peso / (personajes_df.altura/100)**2\n",
    "\n",
    "personajes_df[personajes_df['IMC'] > 30].sort_values(by=['IMC'], ascending=False)[[\"IMC\"]]\n"
   ]
  },
  {
   "cell_type": "markdown",
   "metadata": {
    "id": "E-goVaMEgjqB"
   },
   "source": [
    "## Ejercicio 1.10.\n",
    "\n",
    "Inserta un valor faltante en los valores de IMC que sean superiores a 100 y dibuja el histograma del IMC transformado con `.plot.hist()`."
   ]
  },
  {
   "cell_type": "code",
   "execution_count": 15,
   "metadata": {
    "colab": {
     "base_uri": "https://localhost:8080/",
     "height": 284
    },
    "id": "oWQQoDs_gjqD",
    "outputId": "40c53be9-82cf-497b-b1a1-62be11af2376"
   },
   "outputs": [
    {
     "data": {
      "image/png": "[encoded data removed]",
      "text/plain": [
       "<Figure size 432x288 with 1 Axes>"
      ]
     },
     "metadata": {},
     "output_type": "display_data"
    }
   ],
   "source": [
    "# Solución:\n",
    "personajes_df[personajes_df[\"IMC\"]>100] = np.nan\n",
    "ax = personajes_df.IMC.plot.hist()\n",
    "plt.title('Personajes con IMC menor a 100')\n",
    "ax.set_xlabel(\"IMC\")\n",
    "ax.set_ylabel(\"N\", rotation=0);\n",
    "plt.show();"
   ]
  }
 ],
 "metadata": {
  "colab": {
   "collapsed_sections": [],
   "name": "c2-Ejercicios_Python_I_Soluciones",
   "provenance": []
  },
  "kernelspec": {
   "display_name": "initPython383",
   "language": "python",
   "name": "initpython383"
  },
  "language_info": {
   "codemirror_mode": {
    "name": "ipython",
    "version": 3
   },
   "file_extension": ".py",
   "mimetype": "text/x-python",
   "name": "python",
   "nbconvert_exporter": "python",
   "pygments_lexer": "ipython3",
   "version": "3.8.3"
  }
 },
 "nbformat": 4,
 "nbformat_minor": 4
}
