{
 "cells": [
  {
   "cell_type": "markdown",
   "metadata": {
    "id": "tW3jK_BDgjno"
   },
   "source": [
    "# **Herramientas de Análisis**\n",
    "\n",
    "<br>"
   ]
  },
  {
   "cell_type": "markdown",
   "metadata": {
    "id": "5zZfGqOugjnr"
   },
   "source": [
    "# Preparación del entorno\n",
    "\n",
    "Padawan! Cuando inicies sesión en Colab, prepara el entorno ejecutando el siguiente código."
   ]
  },
  {
   "cell_type": "code",
   "execution_count": 1,
   "metadata": {
    "colab": {
     "base_uri": "https://localhost:8080/"
    },
    "id": "JiKiPQdQgjnu",
    "outputId": "045d4a2d-dc87-4083-efc2-1600812432a4"
   },
   "outputs": [],
   "source": [
    "if 'google.colab' in str(get_ipython()):\n",
    "    !git clone https://github.com/griu/init_python_b1.git /content/init_python_b1\n",
    "    !git -C /content/init_python_b1 pull\n",
    "    %cd /content/init_python_b1"
   ]
  },
  {
   "cell_type": "markdown",
   "metadata": {
    "id": "EljLebnxgjqM"
   },
   "source": [
    "# Ejercicio 2\n",
    "\n",
    "Para el ejercicio 2, añadimos los datos del ejercicio 1 los datos de planetas."
   ]
  },
  {
   "cell_type": "code",
   "execution_count": 2,
   "metadata": {
    "colab": {
     "base_uri": "https://localhost:8080/",
     "height": 235
    },
    "id": "2V3mrVHSgjn7",
    "outputId": "0d8524ee-d5dd-4195-a8a2-f0e9ddf38410"
   },
   "outputs": [
    {
     "data": {
      "text/html": [
       "<div>\n",
       "<style scoped>\n",
       "    .dataframe tbody tr th:only-of-type {\n",
       "        vertical-align: middle;\n",
       "    }\n",
       "\n",
       "    .dataframe tbody tr th {\n",
       "        vertical-align: top;\n",
       "    }\n",
       "\n",
       "    .dataframe thead th {\n",
       "        text-align: right;\n",
       "    }\n",
       "</style>\n",
       "<table border=\"1\" class=\"dataframe\">\n",
       "  <thead>\n",
       "    <tr style=\"text-align: right;\">\n",
       "      <th></th>\n",
       "      <th>orbital_period</th>\n",
       "      <th>url</th>\n",
       "    </tr>\n",
       "    <tr>\n",
       "      <th>name</th>\n",
       "      <th></th>\n",
       "      <th></th>\n",
       "    </tr>\n",
       "  </thead>\n",
       "  <tbody>\n",
       "    <tr>\n",
       "      <th>Tatooine</th>\n",
       "      <td>304.0</td>\n",
       "      <td>http://swapi.dev/api/planets/1/</td>\n",
       "    </tr>\n",
       "    <tr>\n",
       "      <th>Alderaan</th>\n",
       "      <td>364.0</td>\n",
       "      <td>http://swapi.dev/api/planets/2/</td>\n",
       "    </tr>\n",
       "    <tr>\n",
       "      <th>Yavin IV</th>\n",
       "      <td>4818.0</td>\n",
       "      <td>http://swapi.dev/api/planets/3/</td>\n",
       "    </tr>\n",
       "    <tr>\n",
       "      <th>Hoth</th>\n",
       "      <td>549.0</td>\n",
       "      <td>http://swapi.dev/api/planets/4/</td>\n",
       "    </tr>\n",
       "    <tr>\n",
       "      <th>Dagobah</th>\n",
       "      <td>341.0</td>\n",
       "      <td>http://swapi.dev/api/planets/5/</td>\n",
       "    </tr>\n",
       "  </tbody>\n",
       "</table>\n",
       "</div>"
      ],
      "text/plain": [
       "          orbital_period                              url\n",
       "name                                                     \n",
       "Tatooine           304.0  http://swapi.dev/api/planets/1/\n",
       "Alderaan           364.0  http://swapi.dev/api/planets/2/\n",
       "Yavin IV          4818.0  http://swapi.dev/api/planets/3/\n",
       "Hoth               549.0  http://swapi.dev/api/planets/4/\n",
       "Dagobah            341.0  http://swapi.dev/api/planets/5/"
      ]
     },
     "execution_count": 2,
     "metadata": {},
     "output_type": "execute_result"
    }
   ],
   "source": [
    "import numpy as np\n",
    "import pandas as pd\n",
    "import matplotlib.pyplot as plt\n",
    "import seaborn as sns; sns.set()  # para el estilo de graficos\n",
    "\n",
    "entidades = ['planets','starships','vehicles','people','species']\n",
    "entidades_df = {x: pd.read_pickle('www/' + x + '_df.pkl') for x in entidades}\n",
    "\n",
    "# Datos people\n",
    "people_df = entidades_df['people'][[\"height\",\"mass\",\"birth_year\",\"gender\",\"homeworld\"]].dropna()\n",
    "\n",
    "# planetas\n",
    "planets_df = entidades_df['planets'][[\"orbital_period\",\"url\"]].dropna()\n",
    "planets_df.head()"
   ]
  },
  {
   "cell_type": "markdown",
   "metadata": {
    "id": "XfAwzyybgjqV"
   },
   "source": [
    "## Ejercicio 2.1.\n",
    "\n",
    "Construye una función que diga \"buenos días\", \"buenas tardes\" o \"buenas noches\" en función de la hora del día.\n",
    "\n",
    "> Truco 1: Para testear la función haz que tenga un parametro de entrada que tenga como valor por defecto: `datetime.now()` (primero carga `from datetime import datetime`).\n",
    "\n",
    "> Truco 2: Puedes extraer la hora de un datetime con `.hour`."
   ]
  },
  {
   "cell_type": "code",
   "execution_count": 3,
   "metadata": {
    "colab": {
     "base_uri": "https://localhost:8080/"
    },
    "id": "ztjRWz0kgjqW",
    "outputId": "5943f639-3f08-40ea-f538-c6b5b30a6151"
   },
   "outputs": [
    {
     "name": "stdout",
     "output_type": "stream",
     "text": [
      "Buenos días\n"
     ]
    }
   ],
   "source": [
    "from datetime import datetime\n",
    " \n",
    "def saludar(x=datetime.now()):\n",
    "  \"\"\"Saludo en función de la hora del día.\"\"\"\n",
    "  \n",
    "  hora = x.hour\n",
    "  if hora>=6 and hora<13:\n",
    "    saludo = 'Buenos días'\n",
    "  elif hora>=13 and hora<20:\n",
    "    saludo = 'Buenas tardes'\n",
    "  else: \n",
    "    saludo = 'Buenas noches'\n",
    "  print(saludo)\n",
    "\n",
    "saludar()\n"
   ]
  },
  {
   "cell_type": "markdown",
   "metadata": {
    "id": "N4CDynU2gjqe"
   },
   "source": [
    "## Ejercicio 2.2.\n",
    "\n",
    "En el data frame personajes_df, calcula de nuevo el IMC y crea una nueva variable con el trameado de la variable IMC definido en la siguiente tabla:\n",
    "\n",
    " | Categoría de nivel de peso | Intervalo del percentil |\n",
    " | -------------------------- | ----------------------- | \n",
    " | Bajo peso | < 18.5 |\n",
    " | Normal | >= 18.5 y < 25 |\n",
    " | Sobrepeso | >= 25 y <30 |\n",
    " | Obeso | >= 30 |\n",
    "\n",
    "> Truco: utiliza `pd.cut(..., right=False)` y modifica las etiquetas con `.cat.categories`.  "
   ]
  },
  {
   "cell_type": "code",
   "execution_count": 4,
   "metadata": {},
   "outputs": [
    {
     "data": {
      "text/html": [
       "<div>\n",
       "<style scoped>\n",
       "    .dataframe tbody tr th:only-of-type {\n",
       "        vertical-align: middle;\n",
       "    }\n",
       "\n",
       "    .dataframe tbody tr th {\n",
       "        vertical-align: top;\n",
       "    }\n",
       "\n",
       "    .dataframe thead th {\n",
       "        text-align: right;\n",
       "    }\n",
       "</style>\n",
       "<table border=\"1\" class=\"dataframe\">\n",
       "  <thead>\n",
       "    <tr style=\"text-align: right;\">\n",
       "      <th></th>\n",
       "      <th>height</th>\n",
       "      <th>mass</th>\n",
       "      <th>birth_year</th>\n",
       "      <th>gender</th>\n",
       "      <th>homeworld</th>\n",
       "      <th>IMC</th>\n",
       "    </tr>\n",
       "    <tr>\n",
       "      <th>name</th>\n",
       "      <th></th>\n",
       "      <th></th>\n",
       "      <th></th>\n",
       "      <th></th>\n",
       "      <th></th>\n",
       "      <th></th>\n",
       "    </tr>\n",
       "  </thead>\n",
       "  <tbody>\n",
       "    <tr>\n",
       "      <th>Luke Skywalker</th>\n",
       "      <td>172.0</td>\n",
       "      <td>77.0</td>\n",
       "      <td>19.0</td>\n",
       "      <td>male</td>\n",
       "      <td>http://swapi.dev/api/planets/1/</td>\n",
       "      <td>26.027582</td>\n",
       "    </tr>\n",
       "    <tr>\n",
       "      <th>C-3PO</th>\n",
       "      <td>167.0</td>\n",
       "      <td>75.0</td>\n",
       "      <td>112.0</td>\n",
       "      <td>none</td>\n",
       "      <td>http://swapi.dev/api/planets/1/</td>\n",
       "      <td>26.892323</td>\n",
       "    </tr>\n",
       "    <tr>\n",
       "      <th>R2-D2</th>\n",
       "      <td>96.0</td>\n",
       "      <td>32.0</td>\n",
       "      <td>33.0</td>\n",
       "      <td>none</td>\n",
       "      <td>http://swapi.dev/api/planets/8/</td>\n",
       "      <td>34.722222</td>\n",
       "    </tr>\n",
       "    <tr>\n",
       "      <th>Darth Vader</th>\n",
       "      <td>202.0</td>\n",
       "      <td>136.0</td>\n",
       "      <td>41.9</td>\n",
       "      <td>male</td>\n",
       "      <td>http://swapi.dev/api/planets/1/</td>\n",
       "      <td>33.330066</td>\n",
       "    </tr>\n",
       "    <tr>\n",
       "      <th>Leia Organa</th>\n",
       "      <td>150.0</td>\n",
       "      <td>49.0</td>\n",
       "      <td>19.0</td>\n",
       "      <td>female</td>\n",
       "      <td>http://swapi.dev/api/planets/2/</td>\n",
       "      <td>21.777778</td>\n",
       "    </tr>\n",
       "  </tbody>\n",
       "</table>\n",
       "</div>"
      ],
      "text/plain": [
       "                height   mass  birth_year  gender  \\\n",
       "name                                                \n",
       "Luke Skywalker   172.0   77.0        19.0    male   \n",
       "C-3PO            167.0   75.0       112.0    none   \n",
       "R2-D2             96.0   32.0        33.0    none   \n",
       "Darth Vader      202.0  136.0        41.9    male   \n",
       "Leia Organa      150.0   49.0        19.0  female   \n",
       "\n",
       "                                      homeworld        IMC  \n",
       "name                                                        \n",
       "Luke Skywalker  http://swapi.dev/api/planets/1/  26.027582  \n",
       "C-3PO           http://swapi.dev/api/planets/1/  26.892323  \n",
       "R2-D2           http://swapi.dev/api/planets/8/  34.722222  \n",
       "Darth Vader     http://swapi.dev/api/planets/1/  33.330066  \n",
       "Leia Organa     http://swapi.dev/api/planets/2/  21.777778  "
      ]
     },
     "execution_count": 4,
     "metadata": {},
     "output_type": "execute_result"
    }
   ],
   "source": [
    "people_df[\"IMC\"] = people_df.mass / (people_df.height/100)**2\n",
    "people_df.head()\n"
   ]
  },
  {
   "cell_type": "code",
   "execution_count": 5,
   "metadata": {
    "colab": {
     "base_uri": "https://localhost:8080/",
     "height": 1000
    },
    "id": "1DPbZLk4gjqf",
    "outputId": "80e0c8e8-e163-497e-b041-2f613a4e634b"
   },
   "outputs": [
    {
     "data": {
      "text/html": [
       "<div>\n",
       "<style scoped>\n",
       "    .dataframe tbody tr th:only-of-type {\n",
       "        vertical-align: middle;\n",
       "    }\n",
       "\n",
       "    .dataframe tbody tr th {\n",
       "        vertical-align: top;\n",
       "    }\n",
       "\n",
       "    .dataframe thead th {\n",
       "        text-align: right;\n",
       "    }\n",
       "</style>\n",
       "<table border=\"1\" class=\"dataframe\">\n",
       "  <thead>\n",
       "    <tr style=\"text-align: right;\">\n",
       "      <th></th>\n",
       "      <th>height</th>\n",
       "      <th>mass</th>\n",
       "      <th>birth_year</th>\n",
       "      <th>gender</th>\n",
       "      <th>homeworld</th>\n",
       "      <th>IMC</th>\n",
       "      <th>IMC_TED</th>\n",
       "    </tr>\n",
       "    <tr>\n",
       "      <th>name</th>\n",
       "      <th></th>\n",
       "      <th></th>\n",
       "      <th></th>\n",
       "      <th></th>\n",
       "      <th></th>\n",
       "      <th></th>\n",
       "      <th></th>\n",
       "    </tr>\n",
       "  </thead>\n",
       "  <tbody>\n",
       "    <tr>\n",
       "      <th>Luke Skywalker</th>\n",
       "      <td>172.0</td>\n",
       "      <td>77.0</td>\n",
       "      <td>19.0</td>\n",
       "      <td>male</td>\n",
       "      <td>http://swapi.dev/api/planets/1/</td>\n",
       "      <td>26.027582</td>\n",
       "      <td>(25.0, 30.0]</td>\n",
       "    </tr>\n",
       "    <tr>\n",
       "      <th>C-3PO</th>\n",
       "      <td>167.0</td>\n",
       "      <td>75.0</td>\n",
       "      <td>112.0</td>\n",
       "      <td>none</td>\n",
       "      <td>http://swapi.dev/api/planets/1/</td>\n",
       "      <td>26.892323</td>\n",
       "      <td>(25.0, 30.0]</td>\n",
       "    </tr>\n",
       "    <tr>\n",
       "      <th>R2-D2</th>\n",
       "      <td>96.0</td>\n",
       "      <td>32.0</td>\n",
       "      <td>33.0</td>\n",
       "      <td>none</td>\n",
       "      <td>http://swapi.dev/api/planets/8/</td>\n",
       "      <td>34.722222</td>\n",
       "      <td>(30.0, inf]</td>\n",
       "    </tr>\n",
       "    <tr>\n",
       "      <th>Darth Vader</th>\n",
       "      <td>202.0</td>\n",
       "      <td>136.0</td>\n",
       "      <td>41.9</td>\n",
       "      <td>male</td>\n",
       "      <td>http://swapi.dev/api/planets/1/</td>\n",
       "      <td>33.330066</td>\n",
       "      <td>(30.0, inf]</td>\n",
       "    </tr>\n",
       "    <tr>\n",
       "      <th>Leia Organa</th>\n",
       "      <td>150.0</td>\n",
       "      <td>49.0</td>\n",
       "      <td>19.0</td>\n",
       "      <td>female</td>\n",
       "      <td>http://swapi.dev/api/planets/2/</td>\n",
       "      <td>21.777778</td>\n",
       "      <td>(18.5, 25.0]</td>\n",
       "    </tr>\n",
       "  </tbody>\n",
       "</table>\n",
       "</div>"
      ],
      "text/plain": [
       "                height   mass  birth_year  gender  \\\n",
       "name                                                \n",
       "Luke Skywalker   172.0   77.0        19.0    male   \n",
       "C-3PO            167.0   75.0       112.0    none   \n",
       "R2-D2             96.0   32.0        33.0    none   \n",
       "Darth Vader      202.0  136.0        41.9    male   \n",
       "Leia Organa      150.0   49.0        19.0  female   \n",
       "\n",
       "                                      homeworld        IMC       IMC_TED  \n",
       "name                                                                      \n",
       "Luke Skywalker  http://swapi.dev/api/planets/1/  26.027582  (25.0, 30.0]  \n",
       "C-3PO           http://swapi.dev/api/planets/1/  26.892323  (25.0, 30.0]  \n",
       "R2-D2           http://swapi.dev/api/planets/8/  34.722222   (30.0, inf]  \n",
       "Darth Vader     http://swapi.dev/api/planets/1/  33.330066   (30.0, inf]  \n",
       "Leia Organa     http://swapi.dev/api/planets/2/  21.777778  (18.5, 25.0]  "
      ]
     },
     "execution_count": 5,
     "metadata": {},
     "output_type": "execute_result"
    }
   ],
   "source": [
    "people_df[\"IMC_TED\"] = pd.cut(people_df.IMC, [0,18.5,25,30,np.inf])\n",
    "people_df.head()\n"
   ]
  },
  {
   "cell_type": "code",
   "execution_count": 6,
   "metadata": {},
   "outputs": [
    {
     "data": {
      "text/html": [
       "<div>\n",
       "<style scoped>\n",
       "    .dataframe tbody tr th:only-of-type {\n",
       "        vertical-align: middle;\n",
       "    }\n",
       "\n",
       "    .dataframe tbody tr th {\n",
       "        vertical-align: top;\n",
       "    }\n",
       "\n",
       "    .dataframe thead th {\n",
       "        text-align: right;\n",
       "    }\n",
       "</style>\n",
       "<table border=\"1\" class=\"dataframe\">\n",
       "  <thead>\n",
       "    <tr style=\"text-align: right;\">\n",
       "      <th></th>\n",
       "      <th>height</th>\n",
       "      <th>mass</th>\n",
       "      <th>birth_year</th>\n",
       "      <th>gender</th>\n",
       "      <th>homeworld</th>\n",
       "      <th>IMC</th>\n",
       "      <th>IMC_TED</th>\n",
       "    </tr>\n",
       "    <tr>\n",
       "      <th>name</th>\n",
       "      <th></th>\n",
       "      <th></th>\n",
       "      <th></th>\n",
       "      <th></th>\n",
       "      <th></th>\n",
       "      <th></th>\n",
       "      <th></th>\n",
       "    </tr>\n",
       "  </thead>\n",
       "  <tbody>\n",
       "    <tr>\n",
       "      <th>Luke Skywalker</th>\n",
       "      <td>172.0</td>\n",
       "      <td>77.0</td>\n",
       "      <td>19.0</td>\n",
       "      <td>male</td>\n",
       "      <td>http://swapi.dev/api/planets/1/</td>\n",
       "      <td>26.027582</td>\n",
       "      <td>Sobrepeso</td>\n",
       "    </tr>\n",
       "    <tr>\n",
       "      <th>C-3PO</th>\n",
       "      <td>167.0</td>\n",
       "      <td>75.0</td>\n",
       "      <td>112.0</td>\n",
       "      <td>none</td>\n",
       "      <td>http://swapi.dev/api/planets/1/</td>\n",
       "      <td>26.892323</td>\n",
       "      <td>Sobrepeso</td>\n",
       "    </tr>\n",
       "    <tr>\n",
       "      <th>R2-D2</th>\n",
       "      <td>96.0</td>\n",
       "      <td>32.0</td>\n",
       "      <td>33.0</td>\n",
       "      <td>none</td>\n",
       "      <td>http://swapi.dev/api/planets/8/</td>\n",
       "      <td>34.722222</td>\n",
       "      <td>Obeso</td>\n",
       "    </tr>\n",
       "    <tr>\n",
       "      <th>Darth Vader</th>\n",
       "      <td>202.0</td>\n",
       "      <td>136.0</td>\n",
       "      <td>41.9</td>\n",
       "      <td>male</td>\n",
       "      <td>http://swapi.dev/api/planets/1/</td>\n",
       "      <td>33.330066</td>\n",
       "      <td>Obeso</td>\n",
       "    </tr>\n",
       "    <tr>\n",
       "      <th>Leia Organa</th>\n",
       "      <td>150.0</td>\n",
       "      <td>49.0</td>\n",
       "      <td>19.0</td>\n",
       "      <td>female</td>\n",
       "      <td>http://swapi.dev/api/planets/2/</td>\n",
       "      <td>21.777778</td>\n",
       "      <td>Normal</td>\n",
       "    </tr>\n",
       "  </tbody>\n",
       "</table>\n",
       "</div>"
      ],
      "text/plain": [
       "                height   mass  birth_year  gender  \\\n",
       "name                                                \n",
       "Luke Skywalker   172.0   77.0        19.0    male   \n",
       "C-3PO            167.0   75.0       112.0    none   \n",
       "R2-D2             96.0   32.0        33.0    none   \n",
       "Darth Vader      202.0  136.0        41.9    male   \n",
       "Leia Organa      150.0   49.0        19.0  female   \n",
       "\n",
       "                                      homeworld        IMC    IMC_TED  \n",
       "name                                                                   \n",
       "Luke Skywalker  http://swapi.dev/api/planets/1/  26.027582  Sobrepeso  \n",
       "C-3PO           http://swapi.dev/api/planets/1/  26.892323  Sobrepeso  \n",
       "R2-D2           http://swapi.dev/api/planets/8/  34.722222      Obeso  \n",
       "Darth Vader     http://swapi.dev/api/planets/1/  33.330066      Obeso  \n",
       "Leia Organa     http://swapi.dev/api/planets/2/  21.777778     Normal  "
      ]
     },
     "execution_count": 6,
     "metadata": {},
     "output_type": "execute_result"
    }
   ],
   "source": [
    "people_df[\"IMC_TED\"].cat.categories=[\"Bajo peso\",\"Normal\", \"Sobrepeso\",\"Obeso\"]\n",
    "people_df.head()\n"
   ]
  },
  {
   "cell_type": "markdown",
   "metadata": {
    "id": "edo1k7Y-gjqn"
   },
   "source": [
    "## Ejercicio 2.3.\n",
    "\n",
    "Muestra las frecuencias de la nueva variable definida en 2.2."
   ]
  },
  {
   "cell_type": "code",
   "execution_count": 7,
   "metadata": {
    "colab": {
     "base_uri": "https://localhost:8080/"
    },
    "id": "oWQQoDs_gjqD",
    "outputId": "bc88eaf3-3fa6-4778-df14-b0593929880e"
   },
   "outputs": [
    {
     "data": {
      "text/plain": [
       "Bajo peso     4\n",
       "Normal       14\n",
       "Sobrepeso    11\n",
       "Obeso         7\n",
       "Name: IMC_TED, dtype: int64"
      ]
     },
     "execution_count": 7,
     "metadata": {},
     "output_type": "execute_result"
    }
   ],
   "source": [
    "people_df.IMC_TED.value_counts().sort_index()\n"
   ]
  },
  {
   "cell_type": "markdown",
   "metadata": {
    "id": "1CKTldfbgjqv"
   },
   "source": [
    "## Ejercicio 2.4.\n",
    "\n",
    "Calcula ahora un trameado de la edad en 5 grupos equiprobables.\n",
    "\n",
    "Muestra los recuentos (frecuencias) de la nueva obtenida por pantalla.\n",
    "\n",
    "> Truco: Busca ayuda de la función [pd.qcut()](https://pandas.pydata.org/pandas-docs/stable/reference/api/pandas.qcut.html)"
   ]
  },
  {
   "cell_type": "code",
   "execution_count": 8,
   "metadata": {
    "colab": {
     "base_uri": "https://localhost:8080/",
     "height": 1000
    },
    "id": "O_WpukQVgjqx",
    "outputId": "44e4e63d-3505-4efe-9bc2-1222c527d380"
   },
   "outputs": [
    {
     "data": {
      "text/html": [
       "<div>\n",
       "<style scoped>\n",
       "    .dataframe tbody tr th:only-of-type {\n",
       "        vertical-align: middle;\n",
       "    }\n",
       "\n",
       "    .dataframe tbody tr th {\n",
       "        vertical-align: top;\n",
       "    }\n",
       "\n",
       "    .dataframe thead th {\n",
       "        text-align: right;\n",
       "    }\n",
       "</style>\n",
       "<table border=\"1\" class=\"dataframe\">\n",
       "  <thead>\n",
       "    <tr style=\"text-align: right;\">\n",
       "      <th></th>\n",
       "      <th>height</th>\n",
       "      <th>mass</th>\n",
       "      <th>birth_year</th>\n",
       "      <th>gender</th>\n",
       "      <th>homeworld</th>\n",
       "      <th>IMC</th>\n",
       "      <th>IMC_TED</th>\n",
       "      <th>Age_TEP</th>\n",
       "    </tr>\n",
       "    <tr>\n",
       "      <th>name</th>\n",
       "      <th></th>\n",
       "      <th></th>\n",
       "      <th></th>\n",
       "      <th></th>\n",
       "      <th></th>\n",
       "      <th></th>\n",
       "      <th></th>\n",
       "      <th></th>\n",
       "    </tr>\n",
       "  </thead>\n",
       "  <tbody>\n",
       "    <tr>\n",
       "      <th>Luke Skywalker</th>\n",
       "      <td>172.0</td>\n",
       "      <td>77.0</td>\n",
       "      <td>19.0</td>\n",
       "      <td>male</td>\n",
       "      <td>http://swapi.dev/api/planets/1/</td>\n",
       "      <td>26.027582</td>\n",
       "      <td>Sobrepeso</td>\n",
       "      <td>(7.999, 29.0]</td>\n",
       "    </tr>\n",
       "    <tr>\n",
       "      <th>C-3PO</th>\n",
       "      <td>167.0</td>\n",
       "      <td>75.0</td>\n",
       "      <td>112.0</td>\n",
       "      <td>none</td>\n",
       "      <td>http://swapi.dev/api/planets/1/</td>\n",
       "      <td>26.892323</td>\n",
       "      <td>Sobrepeso</td>\n",
       "      <td>(82.0, 896.0]</td>\n",
       "    </tr>\n",
       "    <tr>\n",
       "      <th>R2-D2</th>\n",
       "      <td>96.0</td>\n",
       "      <td>32.0</td>\n",
       "      <td>33.0</td>\n",
       "      <td>none</td>\n",
       "      <td>http://swapi.dev/api/planets/8/</td>\n",
       "      <td>34.722222</td>\n",
       "      <td>Obeso</td>\n",
       "      <td>(29.0, 41.9]</td>\n",
       "    </tr>\n",
       "    <tr>\n",
       "      <th>Darth Vader</th>\n",
       "      <td>202.0</td>\n",
       "      <td>136.0</td>\n",
       "      <td>41.9</td>\n",
       "      <td>male</td>\n",
       "      <td>http://swapi.dev/api/planets/1/</td>\n",
       "      <td>33.330066</td>\n",
       "      <td>Obeso</td>\n",
       "      <td>(29.0, 41.9]</td>\n",
       "    </tr>\n",
       "    <tr>\n",
       "      <th>Leia Organa</th>\n",
       "      <td>150.0</td>\n",
       "      <td>49.0</td>\n",
       "      <td>19.0</td>\n",
       "      <td>female</td>\n",
       "      <td>http://swapi.dev/api/planets/2/</td>\n",
       "      <td>21.777778</td>\n",
       "      <td>Normal</td>\n",
       "      <td>(7.999, 29.0]</td>\n",
       "    </tr>\n",
       "  </tbody>\n",
       "</table>\n",
       "</div>"
      ],
      "text/plain": [
       "                height   mass  birth_year  gender  \\\n",
       "name                                                \n",
       "Luke Skywalker   172.0   77.0        19.0    male   \n",
       "C-3PO            167.0   75.0       112.0    none   \n",
       "R2-D2             96.0   32.0        33.0    none   \n",
       "Darth Vader      202.0  136.0        41.9    male   \n",
       "Leia Organa      150.0   49.0        19.0  female   \n",
       "\n",
       "                                      homeworld        IMC    IMC_TED  \\\n",
       "name                                                                    \n",
       "Luke Skywalker  http://swapi.dev/api/planets/1/  26.027582  Sobrepeso   \n",
       "C-3PO           http://swapi.dev/api/planets/1/  26.892323  Sobrepeso   \n",
       "R2-D2           http://swapi.dev/api/planets/8/  34.722222      Obeso   \n",
       "Darth Vader     http://swapi.dev/api/planets/1/  33.330066      Obeso   \n",
       "Leia Organa     http://swapi.dev/api/planets/2/  21.777778     Normal   \n",
       "\n",
       "                      Age_TEP  \n",
       "name                           \n",
       "Luke Skywalker  (7.999, 29.0]  \n",
       "C-3PO           (82.0, 896.0]  \n",
       "R2-D2            (29.0, 41.9]  \n",
       "Darth Vader      (29.0, 41.9]  \n",
       "Leia Organa     (7.999, 29.0]  "
      ]
     },
     "execution_count": 8,
     "metadata": {},
     "output_type": "execute_result"
    }
   ],
   "source": [
    "people_df[\"Age_TEP\"] = pd.qcut(people_df.birth_year,5, duplicates=\"drop\")\n",
    "people_df.head()\n"
   ]
  },
  {
   "cell_type": "code",
   "execution_count": 9,
   "metadata": {
    "colab": {
     "base_uri": "https://localhost:8080/",
     "height": 319
    },
    "id": "r4SGGk4LLcEI",
    "outputId": "d73c54d2-b9ec-4b48-9b41-688c95e91969"
   },
   "outputs": [
    {
     "data": {
      "text/html": [
       "<div>\n",
       "<style scoped>\n",
       "    .dataframe tbody tr th:only-of-type {\n",
       "        vertical-align: middle;\n",
       "    }\n",
       "\n",
       "    .dataframe tbody tr th {\n",
       "        vertical-align: top;\n",
       "    }\n",
       "\n",
       "    .dataframe thead th {\n",
       "        text-align: right;\n",
       "    }\n",
       "</style>\n",
       "<table border=\"1\" class=\"dataframe\">\n",
       "  <thead>\n",
       "    <tr style=\"text-align: right;\">\n",
       "      <th></th>\n",
       "      <th>height</th>\n",
       "      <th>mass</th>\n",
       "      <th>birth_year</th>\n",
       "      <th>gender</th>\n",
       "      <th>homeworld</th>\n",
       "      <th>IMC</th>\n",
       "      <th>IMC_TED</th>\n",
       "      <th>Age_TEP</th>\n",
       "    </tr>\n",
       "    <tr>\n",
       "      <th>name</th>\n",
       "      <th></th>\n",
       "      <th></th>\n",
       "      <th></th>\n",
       "      <th></th>\n",
       "      <th></th>\n",
       "      <th></th>\n",
       "      <th></th>\n",
       "      <th></th>\n",
       "    </tr>\n",
       "  </thead>\n",
       "  <tbody>\n",
       "    <tr>\n",
       "      <th>Luke Skywalker</th>\n",
       "      <td>172.0</td>\n",
       "      <td>77.0</td>\n",
       "      <td>19.0</td>\n",
       "      <td>male</td>\n",
       "      <td>http://swapi.dev/api/planets/1/</td>\n",
       "      <td>26.027582</td>\n",
       "      <td>Sobrepeso</td>\n",
       "      <td>&lt;29</td>\n",
       "    </tr>\n",
       "    <tr>\n",
       "      <th>C-3PO</th>\n",
       "      <td>167.0</td>\n",
       "      <td>75.0</td>\n",
       "      <td>112.0</td>\n",
       "      <td>none</td>\n",
       "      <td>http://swapi.dev/api/planets/1/</td>\n",
       "      <td>26.892323</td>\n",
       "      <td>Sobrepeso</td>\n",
       "      <td>&gt;=82</td>\n",
       "    </tr>\n",
       "    <tr>\n",
       "      <th>R2-D2</th>\n",
       "      <td>96.0</td>\n",
       "      <td>32.0</td>\n",
       "      <td>33.0</td>\n",
       "      <td>none</td>\n",
       "      <td>http://swapi.dev/api/planets/8/</td>\n",
       "      <td>34.722222</td>\n",
       "      <td>Obeso</td>\n",
       "      <td>&gt;=29 y &lt;41.9</td>\n",
       "    </tr>\n",
       "    <tr>\n",
       "      <th>Darth Vader</th>\n",
       "      <td>202.0</td>\n",
       "      <td>136.0</td>\n",
       "      <td>41.9</td>\n",
       "      <td>male</td>\n",
       "      <td>http://swapi.dev/api/planets/1/</td>\n",
       "      <td>33.330066</td>\n",
       "      <td>Obeso</td>\n",
       "      <td>&gt;=29 y &lt;41.9</td>\n",
       "    </tr>\n",
       "    <tr>\n",
       "      <th>Leia Organa</th>\n",
       "      <td>150.0</td>\n",
       "      <td>49.0</td>\n",
       "      <td>19.0</td>\n",
       "      <td>female</td>\n",
       "      <td>http://swapi.dev/api/planets/2/</td>\n",
       "      <td>21.777778</td>\n",
       "      <td>Normal</td>\n",
       "      <td>&lt;29</td>\n",
       "    </tr>\n",
       "  </tbody>\n",
       "</table>\n",
       "</div>"
      ],
      "text/plain": [
       "                height   mass  birth_year  gender  \\\n",
       "name                                                \n",
       "Luke Skywalker   172.0   77.0        19.0    male   \n",
       "C-3PO            167.0   75.0       112.0    none   \n",
       "R2-D2             96.0   32.0        33.0    none   \n",
       "Darth Vader      202.0  136.0        41.9    male   \n",
       "Leia Organa      150.0   49.0        19.0  female   \n",
       "\n",
       "                                      homeworld        IMC    IMC_TED  \\\n",
       "name                                                                    \n",
       "Luke Skywalker  http://swapi.dev/api/planets/1/  26.027582  Sobrepeso   \n",
       "C-3PO           http://swapi.dev/api/planets/1/  26.892323  Sobrepeso   \n",
       "R2-D2           http://swapi.dev/api/planets/8/  34.722222      Obeso   \n",
       "Darth Vader     http://swapi.dev/api/planets/1/  33.330066      Obeso   \n",
       "Leia Organa     http://swapi.dev/api/planets/2/  21.777778     Normal   \n",
       "\n",
       "                     Age_TEP  \n",
       "name                          \n",
       "Luke Skywalker           <29  \n",
       "C-3PO                   >=82  \n",
       "R2-D2           >=29 y <41.9  \n",
       "Darth Vader     >=29 y <41.9  \n",
       "Leia Organa              <29  "
      ]
     },
     "execution_count": 9,
     "metadata": {},
     "output_type": "execute_result"
    }
   ],
   "source": [
    "people_df[\"Age_TEP\"].cat.categories=[\"<29\",\">=29 y <41.9\", \">=41.9 y < 52\",\">=52 y <82\",\">=82\"]\n",
    "people_df.head()\n"
   ]
  },
  {
   "cell_type": "code",
   "execution_count": 10,
   "metadata": {},
   "outputs": [
    {
     "data": {
      "image/png": "[encoded data removed]",
      "text/plain": [
       "<Figure size 432x288 with 1 Axes>"
      ]
     },
     "metadata": {},
     "output_type": "display_data"
    }
   ],
   "source": [
    "ax = people_df.Age_TEP.value_counts().sort_index().plot.bar(title = \"Edad (tramado equiprobable)\")\n",
    "ax.set_ylabel(\"N\",rotation=0);"
   ]
  },
  {
   "cell_type": "markdown",
   "metadata": {
    "id": "ounCvVAGgjq6"
   },
   "source": [
    "## Ejercicio 2.5.\n",
    "\n",
    "Presenta la tabla cruzada de tramos de edad (ej. 2.4) por tramos de IMC (ej. 2.2). \n",
    "\n",
    "¿Qué tramo de edad tiene un mayor número de personajes con Bajo peso?"
   ]
  },
  {
   "cell_type": "code",
   "execution_count": 11,
   "metadata": {
    "colab": {
     "base_uri": "https://localhost:8080/",
     "height": 235
    },
    "id": "umepvEN9gjq8",
    "outputId": "0da03676-4d98-4dd9-ee28-7404b3ab4a5f"
   },
   "outputs": [
    {
     "data": {
      "text/html": [
       "<div>\n",
       "<style scoped>\n",
       "    .dataframe tbody tr th:only-of-type {\n",
       "        vertical-align: middle;\n",
       "    }\n",
       "\n",
       "    .dataframe tbody tr th {\n",
       "        vertical-align: top;\n",
       "    }\n",
       "\n",
       "    .dataframe thead th {\n",
       "        text-align: right;\n",
       "    }\n",
       "</style>\n",
       "<table border=\"1\" class=\"dataframe\">\n",
       "  <thead>\n",
       "    <tr style=\"text-align: right;\">\n",
       "      <th>IMC_TED</th>\n",
       "      <th>Bajo peso</th>\n",
       "      <th>Normal</th>\n",
       "      <th>Sobrepeso</th>\n",
       "      <th>Obeso</th>\n",
       "    </tr>\n",
       "    <tr>\n",
       "      <th>Age_TEP</th>\n",
       "      <th></th>\n",
       "      <th></th>\n",
       "      <th></th>\n",
       "      <th></th>\n",
       "    </tr>\n",
       "  </thead>\n",
       "  <tbody>\n",
       "    <tr>\n",
       "      <th>&lt;29</th>\n",
       "      <td>0</td>\n",
       "      <td>3</td>\n",
       "      <td>4</td>\n",
       "      <td>1</td>\n",
       "    </tr>\n",
       "    <tr>\n",
       "      <th>&gt;=29 y &lt;41.9</th>\n",
       "      <td>1</td>\n",
       "      <td>2</td>\n",
       "      <td>3</td>\n",
       "      <td>2</td>\n",
       "    </tr>\n",
       "    <tr>\n",
       "      <th>&gt;=41.9 y &lt; 52</th>\n",
       "      <td>3</td>\n",
       "      <td>1</td>\n",
       "      <td>1</td>\n",
       "      <td>1</td>\n",
       "    </tr>\n",
       "    <tr>\n",
       "      <th>&gt;=52 y &lt;82</th>\n",
       "      <td>0</td>\n",
       "      <td>4</td>\n",
       "      <td>2</td>\n",
       "      <td>1</td>\n",
       "    </tr>\n",
       "    <tr>\n",
       "      <th>&gt;=82</th>\n",
       "      <td>0</td>\n",
       "      <td>4</td>\n",
       "      <td>1</td>\n",
       "      <td>2</td>\n",
       "    </tr>\n",
       "  </tbody>\n",
       "</table>\n",
       "</div>"
      ],
      "text/plain": [
       "IMC_TED        Bajo peso  Normal  Sobrepeso  Obeso\n",
       "Age_TEP                                           \n",
       "<29                    0       3          4      1\n",
       ">=29 y <41.9           1       2          3      2\n",
       ">=41.9 y < 52          3       1          1      1\n",
       ">=52 y <82             0       4          2      1\n",
       ">=82                   0       4          1      2"
      ]
     },
     "execution_count": 11,
     "metadata": {},
     "output_type": "execute_result"
    }
   ],
   "source": [
    "Resumen25 = pd.crosstab(people_df[\"Age_TEP\"],people_df[\"IMC_TED\"])\n",
    "\n",
    "Resumen25"
   ]
  },
  {
   "cell_type": "code",
   "execution_count": 12,
   "metadata": {
    "colab": {
     "base_uri": "https://localhost:8080/",
     "height": 111
    },
    "id": "3oZfI_3ZIS5v",
    "outputId": "1a00d353-2c86-434b-effa-0564f2c1b0b3"
   },
   "outputs": [
    {
     "data": {
      "text/plain": [
       "'>=41.9 y < 52'"
      ]
     },
     "execution_count": 12,
     "metadata": {},
     "output_type": "execute_result"
    }
   ],
   "source": [
    "Resumen25bis = Resumen25[Resumen25[\"Bajo peso\"]==Resumen25[\"Bajo peso\"].max()]\n",
    "\n",
    "Resumen25bis.index[0]"
   ]
  },
  {
   "cell_type": "markdown",
   "metadata": {
    "id": "l2716nMZgjrE"
   },
   "source": [
    "## Ejercicio 2.6.\n",
    "\n",
    "Calcula una tabla resumen (data frame) donde se presente la media del IMC en cada tramo de edad calculado en ejercicio 2.4.\n",
    "\n",
    "Presenta por pantalla la nueva tabla resumen.\n"
   ]
  },
  {
   "cell_type": "code",
   "execution_count": 13,
   "metadata": {
    "colab": {
     "base_uri": "https://localhost:8080/",
     "height": 235
    },
    "id": "6fMs6ud7gjrG",
    "outputId": "7047d10c-9fb7-403f-b591-00f4db24a943"
   },
   "outputs": [
    {
     "data": {
      "text/html": [
       "<div>\n",
       "<style scoped>\n",
       "    .dataframe tbody tr th:only-of-type {\n",
       "        vertical-align: middle;\n",
       "    }\n",
       "\n",
       "    .dataframe tbody tr th {\n",
       "        vertical-align: top;\n",
       "    }\n",
       "\n",
       "    .dataframe thead th {\n",
       "        text-align: right;\n",
       "    }\n",
       "</style>\n",
       "<table border=\"1\" class=\"dataframe\">\n",
       "  <thead>\n",
       "    <tr style=\"text-align: right;\">\n",
       "      <th></th>\n",
       "      <th>IMC</th>\n",
       "    </tr>\n",
       "    <tr>\n",
       "      <th>Age_TEP</th>\n",
       "      <th></th>\n",
       "    </tr>\n",
       "  </thead>\n",
       "  <tbody>\n",
       "    <tr>\n",
       "      <th>&lt;29</th>\n",
       "      <td>25.960538</td>\n",
       "    </tr>\n",
       "    <tr>\n",
       "      <th>&gt;=29 y &lt;41.9</th>\n",
       "      <td>26.242997</td>\n",
       "    </tr>\n",
       "    <tr>\n",
       "      <th>&gt;=41.9 y &lt; 52</th>\n",
       "      <td>22.972490</td>\n",
       "    </tr>\n",
       "    <tr>\n",
       "      <th>&gt;=52 y &lt;82</th>\n",
       "      <td>24.774935</td>\n",
       "    </tr>\n",
       "    <tr>\n",
       "      <th>&gt;=82</th>\n",
       "      <td>85.311313</td>\n",
       "    </tr>\n",
       "  </tbody>\n",
       "</table>\n",
       "</div>"
      ],
      "text/plain": [
       "                     IMC\n",
       "Age_TEP                 \n",
       "<29            25.960538\n",
       ">=29 y <41.9   26.242997\n",
       ">=41.9 y < 52  22.972490\n",
       ">=52 y <82     24.774935\n",
       ">=82           85.311313"
      ]
     },
     "execution_count": 13,
     "metadata": {},
     "output_type": "execute_result"
    }
   ],
   "source": [
    "Resumen26 = people_df.groupby([\"Age_TEP\"])[[\"IMC\"]].mean()\n",
    "\n",
    "Resumen26"
   ]
  },
  {
   "cell_type": "markdown",
   "metadata": {
    "id": "pcJwb6B5gjrO"
   },
   "source": [
    "## Ejercicio 2.7.\n",
    "\n",
    "Presenta los datos del ej. 2.6. como un gráfico de líneas donde el eje x sea la edad y el eje y el IMC medio.\n",
    "\n",
    "> Truco: Como eje x del gráfico de líneas, puedes calcular en 2.6., en el mismo cálculo del IMC medio, la mediana de edad de cada tramo de edad."
   ]
  },
  {
   "cell_type": "code",
   "execution_count": 14,
   "metadata": {
    "colab": {
     "base_uri": "https://localhost:8080/",
     "height": 339
    },
    "id": "U8dJ4dr5gjrQ",
    "outputId": "e63a8fb5-d081-4bea-bf89-4958f364b3c5"
   },
   "outputs": [
    {
     "data": {
      "text/html": [
       "<div>\n",
       "<style scoped>\n",
       "    .dataframe tbody tr th:only-of-type {\n",
       "        vertical-align: middle;\n",
       "    }\n",
       "\n",
       "    .dataframe tbody tr th {\n",
       "        vertical-align: top;\n",
       "    }\n",
       "\n",
       "    .dataframe thead th {\n",
       "        text-align: right;\n",
       "    }\n",
       "</style>\n",
       "<table border=\"1\" class=\"dataframe\">\n",
       "  <thead>\n",
       "    <tr style=\"text-align: right;\">\n",
       "      <th></th>\n",
       "      <th>IMC</th>\n",
       "      <th>birth_year</th>\n",
       "    </tr>\n",
       "    <tr>\n",
       "      <th>Age_TEP</th>\n",
       "      <th></th>\n",
       "      <th></th>\n",
       "    </tr>\n",
       "  </thead>\n",
       "  <tbody>\n",
       "    <tr>\n",
       "      <th>&lt;29</th>\n",
       "      <td>25.960538</td>\n",
       "      <td>20.0</td>\n",
       "    </tr>\n",
       "    <tr>\n",
       "      <th>&gt;=29 y &lt;41.9</th>\n",
       "      <td>26.242997</td>\n",
       "      <td>38.5</td>\n",
       "    </tr>\n",
       "    <tr>\n",
       "      <th>&gt;=41.9 y &lt; 52</th>\n",
       "      <td>22.972490</td>\n",
       "      <td>47.5</td>\n",
       "    </tr>\n",
       "    <tr>\n",
       "      <th>&gt;=52 y &lt;82</th>\n",
       "      <td>24.774935</td>\n",
       "      <td>58.0</td>\n",
       "    </tr>\n",
       "    <tr>\n",
       "      <th>&gt;=82</th>\n",
       "      <td>85.311313</td>\n",
       "      <td>112.0</td>\n",
       "    </tr>\n",
       "  </tbody>\n",
       "</table>\n",
       "</div>"
      ],
      "text/plain": [
       "                     IMC  birth_year\n",
       "Age_TEP                             \n",
       "<29            25.960538        20.0\n",
       ">=29 y <41.9   26.242997        38.5\n",
       ">=41.9 y < 52  22.972490        47.5\n",
       ">=52 y <82     24.774935        58.0\n",
       ">=82           85.311313       112.0"
      ]
     },
     "execution_count": 14,
     "metadata": {},
     "output_type": "execute_result"
    }
   ],
   "source": [
    "Resumen27 = people_df.groupby([\"Age_TEP\"]).agg({'IMC':'mean','birth_year':'median'})\n",
    "\n",
    "Resumen27.head()\n"
   ]
  },
  {
   "cell_type": "code",
   "execution_count": 15,
   "metadata": {},
   "outputs": [
    {
     "data": {
      "text/plain": [
       "Text(0, 0.5, 'IMC medio')"
      ]
     },
     "execution_count": 15,
     "metadata": {},
     "output_type": "execute_result"
    },
    {
     "data": {
      "image/png": "[encoded data removed]",
      "text/plain": [
       "<Figure size 432x288 with 1 Axes>"
      ]
     },
     "metadata": {},
     "output_type": "display_data"
    }
   ],
   "source": [
    "ax = Resumen27.plot.line(x=\"birth_year\",y=\"IMC\")\n",
    "ax.set_xlabel(\"Edad\")\n",
    "ax.set_ylabel(\"IMC medio\")\n"
   ]
  },
  {
   "cell_type": "markdown",
   "metadata": {
    "id": "qmjm1lwigjrY"
   },
   "source": [
    "## Ejercicio 2.8.\n",
    "\n",
    "Calcula el ratio del IMC sobre la mediana del IMC de su tramo de edad (definidos en el ejercicio 2.2.) mediante la función groupby(...).apply(...).\n",
    "\n",
    "> truco: primero crea una función que devuelva:  `x / np.nanmedian(x)`.\n",
    "\n",
    "Presenta los datos mediante un boxplot de la nueva variable: [pd.boxplot()](https://pandas.pydata.org/pandas-docs/stable/reference/api/pandas.DataFrame.boxplot.html). "
   ]
  },
  {
   "cell_type": "code",
   "execution_count": 16,
   "metadata": {
    "id": "XH3ijt6Dgjra"
   },
   "outputs": [
    {
     "data": {
      "text/html": [
       "<div>\n",
       "<style scoped>\n",
       "    .dataframe tbody tr th:only-of-type {\n",
       "        vertical-align: middle;\n",
       "    }\n",
       "\n",
       "    .dataframe tbody tr th {\n",
       "        vertical-align: top;\n",
       "    }\n",
       "\n",
       "    .dataframe thead th {\n",
       "        text-align: right;\n",
       "    }\n",
       "</style>\n",
       "<table border=\"1\" class=\"dataframe\">\n",
       "  <thead>\n",
       "    <tr style=\"text-align: right;\">\n",
       "      <th></th>\n",
       "      <th>height</th>\n",
       "      <th>mass</th>\n",
       "      <th>birth_year</th>\n",
       "      <th>IMC</th>\n",
       "      <th>RATIO_IMC_MEDIANA_IMC_EDAD</th>\n",
       "    </tr>\n",
       "  </thead>\n",
       "  <tbody>\n",
       "    <tr>\n",
       "      <th>count</th>\n",
       "      <td>36.000000</td>\n",
       "      <td>36.000000</td>\n",
       "      <td>36.000000</td>\n",
       "      <td>36.000000</td>\n",
       "      <td>36.000000</td>\n",
       "    </tr>\n",
       "    <tr>\n",
       "      <th>mean</th>\n",
       "      <td>173.638889</td>\n",
       "      <td>112.233333</td>\n",
       "      <td>91.091667</td>\n",
       "      <td>36.835193</td>\n",
       "      <td>1.535005</td>\n",
       "    </tr>\n",
       "    <tr>\n",
       "      <th>std</th>\n",
       "      <td>30.941560</td>\n",
       "      <td>215.205026</td>\n",
       "      <td>169.124347</td>\n",
       "      <td>69.924613</td>\n",
       "      <td>2.928102</td>\n",
       "    </tr>\n",
       "    <tr>\n",
       "      <th>min</th>\n",
       "      <td>66.000000</td>\n",
       "      <td>17.000000</td>\n",
       "      <td>8.000000</td>\n",
       "      <td>13.148283</td>\n",
       "      <td>0.624857</td>\n",
       "    </tr>\n",
       "    <tr>\n",
       "      <th>25%</th>\n",
       "      <td>170.000000</td>\n",
       "      <td>72.000000</td>\n",
       "      <td>31.375000</td>\n",
       "      <td>22.420452</td>\n",
       "      <td>0.901011</td>\n",
       "    </tr>\n",
       "    <tr>\n",
       "      <th>50%</th>\n",
       "      <td>179.000000</td>\n",
       "      <td>79.000000</td>\n",
       "      <td>46.500000</td>\n",
       "      <td>24.904023</td>\n",
       "      <td>1.000000</td>\n",
       "    </tr>\n",
       "    <tr>\n",
       "      <th>75%</th>\n",
       "      <td>188.000000</td>\n",
       "      <td>84.000000</td>\n",
       "      <td>67.500000</td>\n",
       "      <td>26.705780</td>\n",
       "      <td>1.137899</td>\n",
       "    </tr>\n",
       "    <tr>\n",
       "      <th>max</th>\n",
       "      <td>228.000000</td>\n",
       "      <td>1358.000000</td>\n",
       "      <td>896.000000</td>\n",
       "      <td>443.428571</td>\n",
       "      <td>18.558731</td>\n",
       "    </tr>\n",
       "  </tbody>\n",
       "</table>\n",
       "</div>"
      ],
      "text/plain": [
       "           height         mass  birth_year         IMC  \\\n",
       "count   36.000000    36.000000   36.000000   36.000000   \n",
       "mean   173.638889   112.233333   91.091667   36.835193   \n",
       "std     30.941560   215.205026  169.124347   69.924613   \n",
       "min     66.000000    17.000000    8.000000   13.148283   \n",
       "25%    170.000000    72.000000   31.375000   22.420452   \n",
       "50%    179.000000    79.000000   46.500000   24.904023   \n",
       "75%    188.000000    84.000000   67.500000   26.705780   \n",
       "max    228.000000  1358.000000  896.000000  443.428571   \n",
       "\n",
       "       RATIO_IMC_MEDIANA_IMC_EDAD  \n",
       "count                   36.000000  \n",
       "mean                     1.535005  \n",
       "std                      2.928102  \n",
       "min                      0.624857  \n",
       "25%                      0.901011  \n",
       "50%                      1.000000  \n",
       "75%                      1.137899  \n",
       "max                     18.558731  "
      ]
     },
     "execution_count": 16,
     "metadata": {},
     "output_type": "execute_result"
    }
   ],
   "source": [
    "def div_mediana(x):\n",
    "    return x / np.nanmedian(x)\n",
    "\n",
    "people_df[\"RATIO_IMC_MEDIANA_IMC_EDAD\"] = people_df.groupby([\"Age_TEP\"]).IMC.apply(div_mediana)\n",
    "\n",
    "people_df.describe()\n"
   ]
  },
  {
   "cell_type": "code",
   "execution_count": 17,
   "metadata": {},
   "outputs": [
    {
     "data": {
      "image/png": "[encoded data removed]",
      "text/plain": [
       "<Figure size 432x288 with 1 Axes>"
      ]
     },
     "metadata": {},
     "output_type": "display_data"
    }
   ],
   "source": [
    "ax = people_df.boxplot(\"RATIO_IMC_MEDIANA_IMC_EDAD\")\n",
    "ax.set_ylabel(\"Ratio IMC / Mediana IMC grupo Edad\");"
   ]
  },
  {
   "cell_type": "code",
   "execution_count": 18,
   "metadata": {},
   "outputs": [
    {
     "data": {
      "image/png": "[encoded data removed]",
      "text/plain": [
       "<Figure size 432x288 with 1 Axes>"
      ]
     },
     "metadata": {},
     "output_type": "display_data"
    }
   ],
   "source": [
    "ax = people_df[people_df.RATIO_IMC_MEDIANA_IMC_EDAD<15].boxplot(\"RATIO_IMC_MEDIANA_IMC_EDAD\")\n",
    "ax.set_ylabel(\"Ratio IMC / Mediana IMC grupo Edad\");"
   ]
  },
  {
   "cell_type": "markdown",
   "metadata": {
    "id": "mkK-wUxCgjrg"
   },
   "source": [
    "## Ejercicio 2.9.\n",
    "\n",
    "¿Cual es planeta con un menor índice IMC medio de sus personajes?\n",
    "¿Que personaje/s son de ese planeta?"
   ]
  },
  {
   "cell_type": "code",
   "execution_count": 19,
   "metadata": {
    "colab": {
     "base_uri": "https://localhost:8080/"
    },
    "id": "WsgelSYigjrh",
    "outputId": "f28e9185-285e-4261-ca2b-58c461ab1cf2"
   },
   "outputs": [
    {
     "data": {
      "text/html": [
       "<div>\n",
       "<style scoped>\n",
       "    .dataframe tbody tr th:only-of-type {\n",
       "        vertical-align: middle;\n",
       "    }\n",
       "\n",
       "    .dataframe tbody tr th {\n",
       "        vertical-align: top;\n",
       "    }\n",
       "\n",
       "    .dataframe thead th {\n",
       "        text-align: right;\n",
       "    }\n",
       "</style>\n",
       "<table border=\"1\" class=\"dataframe\">\n",
       "  <thead>\n",
       "    <tr style=\"text-align: right;\">\n",
       "      <th></th>\n",
       "      <th>personaje</th>\n",
       "      <th>height</th>\n",
       "      <th>mass</th>\n",
       "      <th>birth_year</th>\n",
       "      <th>gender</th>\n",
       "      <th>IMC</th>\n",
       "      <th>IMC_TED</th>\n",
       "      <th>Age_TEP</th>\n",
       "      <th>RATIO_IMC_MEDIANA_IMC_EDAD</th>\n",
       "      <th>planeta</th>\n",
       "    </tr>\n",
       "  </thead>\n",
       "  <tbody>\n",
       "    <tr>\n",
       "      <th>0</th>\n",
       "      <td>Luke Skywalker</td>\n",
       "      <td>172.0</td>\n",
       "      <td>77.0</td>\n",
       "      <td>19.0</td>\n",
       "      <td>male</td>\n",
       "      <td>26.027582</td>\n",
       "      <td>Sobrepeso</td>\n",
       "      <td>&lt;29</td>\n",
       "      <td>1.022508</td>\n",
       "      <td>Tatooine</td>\n",
       "    </tr>\n",
       "    <tr>\n",
       "      <th>1</th>\n",
       "      <td>C-3PO</td>\n",
       "      <td>167.0</td>\n",
       "      <td>75.0</td>\n",
       "      <td>112.0</td>\n",
       "      <td>none</td>\n",
       "      <td>26.892323</td>\n",
       "      <td>Sobrepeso</td>\n",
       "      <td>&gt;=82</td>\n",
       "      <td>1.125519</td>\n",
       "      <td>Tatooine</td>\n",
       "    </tr>\n",
       "    <tr>\n",
       "      <th>2</th>\n",
       "      <td>R2-D2</td>\n",
       "      <td>96.0</td>\n",
       "      <td>32.0</td>\n",
       "      <td>33.0</td>\n",
       "      <td>none</td>\n",
       "      <td>34.722222</td>\n",
       "      <td>Obeso</td>\n",
       "      <td>&gt;=29 y &lt;41.9</td>\n",
       "      <td>1.366115</td>\n",
       "      <td>Naboo</td>\n",
       "    </tr>\n",
       "    <tr>\n",
       "      <th>3</th>\n",
       "      <td>Darth Vader</td>\n",
       "      <td>202.0</td>\n",
       "      <td>136.0</td>\n",
       "      <td>41.9</td>\n",
       "      <td>male</td>\n",
       "      <td>33.330066</td>\n",
       "      <td>Obeso</td>\n",
       "      <td>&gt;=29 y &lt;41.9</td>\n",
       "      <td>1.311342</td>\n",
       "      <td>Tatooine</td>\n",
       "    </tr>\n",
       "    <tr>\n",
       "      <th>4</th>\n",
       "      <td>Leia Organa</td>\n",
       "      <td>150.0</td>\n",
       "      <td>49.0</td>\n",
       "      <td>19.0</td>\n",
       "      <td>female</td>\n",
       "      <td>21.777778</td>\n",
       "      <td>Normal</td>\n",
       "      <td>&lt;29</td>\n",
       "      <td>0.855552</td>\n",
       "      <td>Alderaan</td>\n",
       "    </tr>\n",
       "  </tbody>\n",
       "</table>\n",
       "</div>"
      ],
      "text/plain": [
       "        personaje  height   mass  birth_year  gender        IMC    IMC_TED  \\\n",
       "0  Luke Skywalker   172.0   77.0        19.0    male  26.027582  Sobrepeso   \n",
       "1           C-3PO   167.0   75.0       112.0    none  26.892323  Sobrepeso   \n",
       "2           R2-D2    96.0   32.0        33.0    none  34.722222      Obeso   \n",
       "3     Darth Vader   202.0  136.0        41.9    male  33.330066      Obeso   \n",
       "4     Leia Organa   150.0   49.0        19.0  female  21.777778     Normal   \n",
       "\n",
       "        Age_TEP  RATIO_IMC_MEDIANA_IMC_EDAD   planeta  \n",
       "0           <29                    1.022508  Tatooine  \n",
       "1          >=82                    1.125519  Tatooine  \n",
       "2  >=29 y <41.9                    1.366115     Naboo  \n",
       "3  >=29 y <41.9                    1.311342  Tatooine  \n",
       "4           <29                    0.855552  Alderaan  "
      ]
     },
     "execution_count": 19,
     "metadata": {},
     "output_type": "execute_result"
    }
   ],
   "source": [
    "people_planets_df = pd.merge(people_df.reset_index(),\n",
    "                                 planets_df[[\"url\"]].reset_index(),\n",
    "                                 how=\"left\",\n",
    "                                 left_on=[\"homeworld\"],\n",
    "                                 right_on=[\"url\"]).drop([\"homeworld\", \"url\"],\n",
    "                                                        axis=1).rename(columns={\"name_x\": \"personaje\",\"name_y\": \"planeta\"})\n",
    "people_planets_df.head()"
   ]
  },
  {
   "cell_type": "code",
   "execution_count": 20,
   "metadata": {},
   "outputs": [
    {
     "name": "stdout",
     "output_type": "stream",
     "text": [
      "Planeta con menor IMC medio: 'Ryloth', con IMC medio igual a 17.35891932836763.\n",
      "\n",
      "Personaje(s) del planeta Ryloth:\n"
     ]
    },
    {
     "data": {
      "text/plain": [
       "28    Ayla Secura\n",
       "Name: personaje, dtype: object"
      ]
     },
     "execution_count": 20,
     "metadata": {},
     "output_type": "execute_result"
    }
   ],
   "source": [
    "# Ahora calculamos el IMC medio por planeta, ordenamos de menor a mayor\n",
    "# y seleccionamos el primero\n",
    "Resumen29 = people_planets_df.groupby(\"planeta\")[\"IMC\"].mean().sort_values().head(1)\n",
    "print(f\"Planeta con menor IMC medio: '{Resumen29.index[0]}', con IMC medio igual a {Resumen29[0]}.\")\n",
    "\n",
    "# Buscamos los personajes de este planeta\n",
    "print(f\"\\nPersonaje(s) del planeta {Resumen29.index[0]}:\")\n",
    "people_planets_df[people_planets_df.planeta == Resumen29.index[0]][\"personaje\"]"
   ]
  },
  {
   "cell_type": "markdown",
   "metadata": {
    "id": "7tWxDDGmgjrn"
   },
   "source": [
    "## Ejercicio 2.10.\n",
    "\n",
    "Convierte a datetime los siguientes strings con la función [datetime.strptime()](https://docs.python.org/3/library/datetime.html#strftime-strptime-behavior) (consulta la ayuda si es necesario) de la libreria datetime:\n",
    "\n",
    "- \"1 january, 2020\"\n",
    "- \"15-feb.-2017\"\n",
    "- \"20190701 22:30\"  # 1 de julio de 2019\n",
    "\n"
   ]
  },
  {
   "cell_type": "code",
   "execution_count": 21,
   "metadata": {
    "id": "ajD2V-K3gjrp"
   },
   "outputs": [
    {
     "name": "stdout",
     "output_type": "stream",
     "text": [
      "2020-01-01 00:00:00\n",
      "2017-02-15 00:00:00\n",
      "2019-07-01 22:30:00\n"
     ]
    }
   ],
   "source": [
    "import datetime\n",
    "dtDate1 = datetime.datetime.strptime(\"01 january, 2020\", \"%d %B, %Y\")\n",
    "dtDate2 = datetime.datetime.strptime(\"15-feb.-2017\", \"%d-%b.-%Y\")\n",
    "dtDate3 = datetime.datetime.strptime(\"20190701 22:30\", \"%Y%m%d %H:%M\")\n",
    "print(dtDate1)\n",
    "print(dtDate2)\n",
    "print(dtDate3)"
   ]
  }
 ],
 "metadata": {
  "colab": {
   "collapsed_sections": [],
   "name": "M1_B2_AI_Python_II.ipynb",
   "provenance": []
  },
  "kernelspec": {
   "display_name": "initPython383",
   "language": "python",
   "name": "initpython383"
  },
  "language_info": {
   "codemirror_mode": {
    "name": "ipython",
    "version": 3
   },
   "file_extension": ".py",
   "mimetype": "text/x-python",
   "name": "python",
   "nbconvert_exporter": "python",
   "pygments_lexer": "ipython3",
   "version": "3.8.3"
  }
 },
 "nbformat": 4,
 "nbformat_minor": 4
}
