{
 "cells": [
  {
   "cell_type": "markdown",
   "metadata": {},
   "source": [
    "<img align=\"left\" style=\"padding-right:10px;\" width=\"150\" src=\"https://upload.wikimedia.org/wikipedia/commons/thumb/6/6c/Star_Wars_Logo.svg/320px-Star_Wars_Logo.svg.png\" />\n",
    "\n",
    "*elaborado por Ferran Carrascosa Mallafrè.*"
   ]
  },
  {
   "cell_type": "markdown",
   "metadata": {},
   "source": [
    "< [Introducción](modulo1_tema4_Py.ipynb) | [Índice](modulo1_tema4_Py_00_indice.ipynb) | [Gráficos con matplotlib](modulo1_tema4_Py_20_matplotlib.ipynb) >\n",
    "\n",
    "__[Abre en Colab](https://colab.research.google.com/github/griu/init_python_b1/blob/master/modulo1_tema4_Py_10_elem_bas.ipynb)__   *: <span style=\"color:rgba(255, 99, 71, 0.8)\">Padawan! Cuando inicies sesión en Colab, prepara el entorno ejecutando el siguiente código.</span>*"
   ]
  },
  {
   "cell_type": "markdown",
   "metadata": {
    "id": "8dbKvXOBMtBa"
   },
   "source": [
    "# Preparación del entorno\n",
    "\n",
    "¡Padawan! Cuando inicies sesión en Colab, prepara el entorno ejecutando el siguiente código."
   ]
  },
  {
   "cell_type": "code",
   "execution_count": null,
   "metadata": {
    "colab": {
     "base_uri": "https://localhost:8080/"
    },
    "executionInfo": {
     "elapsed": 25678,
     "status": "ok",
     "timestamp": 1604317087349,
     "user": {
      "displayName": "alumnos bigdata",
      "photoUrl": "",
      "userId": "10710302360204190833"
     },
     "user_tz": -60
    },
    "id": "2SBF5dlSTi-h",
    "outputId": "b85ff6ea-725c-464c-abf4-fc481a6882de"
   },
   "outputs": [],
   "source": [
    "if 'google.colab' in str(get_ipython()):\n",
    "    !git clone https://github.com/griu/init_python_b1.git /content/init_python_b1\n",
    "    !git -C /content/init_python_b1 pull\n",
    "    %cd /content/init_python_b1"
   ]
  },
  {
   "cell_type": "markdown",
   "metadata": {
    "id": "hFO_0UyvSjov"
   },
   "source": [
    "# 2 - Elementos Básicos de Python"
   ]
  },
  {
   "cell_type": "markdown",
   "metadata": {
    "id": "WFoZ-V76Sjox"
   },
   "source": [
    "Aunque se presuponen unos conocimientos iniciales de Python, a continuación, hacemos un repaso de Python, Anaconda y notebooks de Jupyter-Colab. El objetivo es reforzar aquellos elementos más orientados al análisis de datos."
   ]
  },
  {
   "cell_type": "markdown",
   "metadata": {
    "id": "-EuIBRfLSjoz"
   },
   "source": [
    "#### 2.1 Interfaz de Usuario"
   ]
  },
  {
   "cell_type": "markdown",
   "metadata": {
    "id": "3OLdC5c8Sjo1"
   },
   "source": [
    "Python se puede ejecutar de forma interactiva desde consola de texto. Para abrir la consola, ejecutaremos el comando Python desde un terminal Windows o Linux. El temario utiliza notebooks ejecutados desde Jupyter y/o Colab. \n",
    "\n",
    "Prueba a ejecutar la siguiente línea, directamente, en este notebook.\n"
   ]
  },
  {
   "cell_type": "code",
   "execution_count": null,
   "metadata": {
    "colab": {
     "base_uri": "https://localhost:8080/"
    },
    "executionInfo": {
     "elapsed": 1511,
     "status": "ok",
     "timestamp": 1604315706159,
     "user": {
      "displayName": "alumnos bigdata",
      "photoUrl": "",
      "userId": "10710302360204190833"
     },
     "user_tz": -60
    },
    "id": "B1Vhs_07Sjo3",
    "outputId": "ae8904a6-1e36-4a9c-c49f-fb524bd468d5"
   },
   "outputs": [
    {
     "data": {
      "text/plain": [
       "2.4"
      ]
     },
     "execution_count": 2,
     "metadata": {
      "tags": []
     },
     "output_type": "execute_result"
    }
   ],
   "source": [
    "6 / (4 - 1.5)"
   ]
  },
  {
   "cell_type": "markdown",
   "metadata": {
    "id": "Y6prdpHsSjpD"
   },
   "source": [
    "> **Recuerda**: Para editar una celda del notebook, pulsa `Enter`. Para ejecutarla, pulsa  `Ctrl+Enter` (sólo ejecutar), o bien, `Mayús+Enter` (para ejecutar y avanzar celda).  "
   ]
  },
  {
   "cell_type": "markdown",
   "metadata": {
    "id": "1eV_DFf_SjpF"
   },
   "source": [
    "#### 2.2 Ficheros *.py\n",
    "\n",
    "Una forma habitual de programar en Python es mediante ficheros de texto con extensión `.py`. Existen múltiples entornos para estos ficheros: Spyder (parecido a RStudio), PyCharm, Visual Studio Code o cualquier editor de texto como Notepad++.\n",
    "\n",
    "Este tipo de ficheros se utilizan habitualmente para generar librerías de funciones y ejecutar desarrollo productivo de aplicaciones en Python.\n"
   ]
  },
  {
   "cell_type": "markdown",
   "metadata": {
    "id": "XHAo_I8zSjpH"
   },
   "source": [
    "#### 2.3. Notebooks Jupyter (*.ipynb)\n",
    "\n",
    "Los notebooks, como éste que estás leyendo, son la solución de la comunidad de SciPy para la programación interactiva. El proyecto nació con el nombre [IPython](https://ipython.org) (o Python interactivo) y, actualmente, se orquestra en el paraguas de la plataforma [Jupyter](https://jupyter.org/).\n",
    "\n",
    "Jupyter permite ejecutar, de forma interactiva, docenas de lenguajes como Python, R, etc.\n",
    "\n",
    "Los notebooks, al igual que Rmardown, permiten combinar texto en formato Markdown (lenguaje de marcas ligero), con código con resultados en forma de texto o gráficos. Esta forma de funcionar resulta óptima para el análisis de datos y la formación.\n",
    "\n",
    "Su uso se ha extendido de la mano del proyecto [Anaconda](https://www.anaconda.com/), la mayor plataforma de gestión de librerías open source enfocadas a la computación científica.\n",
    "\n",
    "Para iniciar el entorno Jupyter, sigue la guía del ***Anexo: README de Python*** apartado \"PREPARACIÓN ENTORNO LOCAL-JUPYTER (OPCIONAL)\"."
   ]
  },
  {
   "cell_type": "markdown",
   "metadata": {
    "id": "zrwhbzt5SjpI"
   },
   "source": [
    "##### 2.3.1. Colaboratory o Colab\n",
    "\n",
    "Actualmente, la comunidad Python cuenta con la plataforma [Colaboratory o Colab](https://colab.research.google.com) que es un entorno libre para ejecutar notebooks Jupyter y almacenarlos en Google Drive.\n",
    "\n",
    "Este entorno sólo permite abrir ficheros .ipynb (no .py), pero facilita en gran medida su uso para desarrollar formación.\n",
    "\n",
    "En la parte superior de los notebooks, encontrarás un script que inicializa el entorno Colab con las versiones de los paquetes de Python correctas y descarga el repositorio Github con el material del curso.  "
   ]
  },
  {
   "cell_type": "markdown",
   "metadata": {
    "id": "qDM543WISjpK"
   },
   "source": [
    "##### 2.3.2. Actividad Guiada 2.1.\n",
    "\n",
    "Crea tu primer notebook.\n",
    "\n",
    "En Jupyter/Colab, accede al menú `File > New Notebook`. \n",
    "\n",
    "> En Jupyter, selecciona el Kernel `mbdds_rpy20` que has creado como se indica en el ***Anexo: README de Python***.\n",
    "\n",
    "Inserta el siguiente código Python y ejecútalo:\n",
    "\n",
    "```\n",
    "print(\"Hello Wold!\")\n",
    "```\n",
    "\n",
    "Guarda el documento con el nombre `21_actividad`."
   ]
  },
  {
   "cell_type": "markdown",
   "metadata": {
    "id": "kKw_vgA4SjpM"
   },
   "source": [
    "##### 2.3.3. Editar Notebooks Jupyter\n",
    "\n",
    "Un notebook está compuesto por un conjunto de casillas que pueden ser de distinto tipo:\n",
    "\n",
    "- *Code*: código Python que se puede ejecutar interactivamente y puede tener un salida o output.\n",
    "- *Markdown*: inserta texto con este formato. No tiene output.\n",
    "\n",
    "Una casilla, puede tener dos modos:\n",
    "\n",
    "- Edición: pulsa `Enter` o haz doble clic. Puedes modificar su contenido Python o Markdown.\n",
    "- Visión: pulsa la tecla `Esc` o haz clic en la barra izquierda (en Jupyter). Selecciona una o varias casillas con el ratón o con las teclas `Mayús + Cursos`.\n",
    "\n",
    "Para mostrar una casilla Markdown en formato impresión (sin marcas), ejecútala del mismo modo que si fuera código:\n",
    "  - Sólo ejecutar: `Ctrl+Enter`.\n",
    "  - Ejecutar y avanzar casilla: botón `Run`, o bien, `Mayús+Enter`.\n",
    "  "
   ]
  },
  {
   "cell_type": "markdown",
   "metadata": {
    "id": "efYp9q7lSjpO"
   },
   "source": [
    "###### 2.3.3.1. Atajos de Teclado\n",
    "\n",
    "Puedes gestionar las celdas desde el teclado, en el modo de Visión (**tecla`Esc`**):\n",
    "\n",
    "- Cambiar tipo celda: \n",
    "  - Modo Markdown: tecla `M`, `Ctr+M+M` (Colab).\n",
    "  - Modo Code: tecla `Y`, `Ctr+M+Y` (Colab).\n",
    "- Insertar celdas:\n",
    "  - Antes: tecla `A`, `Ctr+M+A` (Colab).\n",
    "  - Después: tecla `B`, `Ctr+M+B` (Colab).\n",
    "- Copiar, pegar, desplazar arriba, abajo, etc."
   ]
  },
  {
   "cell_type": "markdown",
   "metadata": {
    "id": "gHiZa06_SjpR"
   },
   "source": [
    "######  2.3.3.2. Markdown\n",
    "\n",
    "- **Parágrafo de texto**: deja  una línea en blanco (`Enter`) antes y después de un parágrafo de texto.\n",
    "- **Encabezados**: utiliza # seguido de espacio en blanco para los títulos de las secciones:\n",
    "```\n",
    "# TITULO NIVEL 1\n",
    "## TITULO NIVEL 2\n",
    "...\n",
    "```\n",
    "Deja también una línea en blanco (`Enter`) antes y después del título.\n",
    "- **Emphasis**: negrita con `**string**`. Cursiva con `*string*`.\n",
    "- **Código látex**:  ```$x^2$```. $x^2$.\n",
    "- **Fuente ancho fijo**:  \\`texto\\` (usa tilde abierta o con orientación izquierda).\n",
    "- **Bloque de código (sin que se ejecute)**: comentario o código (nueva línea), se escriben tres tildes abiertas. Ejemplo: \n",
    "\\`\\`\\`\n",
    "```\n",
    "Soy codigo1\n",
    "Soy código2 \n",
    "```\n",
    "\\`\\`\\`\n",
    "- **Línea en blanco**: usa una línea nueva con dos espacios o `<br>`.\n",
    "- **Lista de puntos**: al inicio de línea, usa guion `-` seguido de espacio y texto. Para una sublista de puntos, pon tres espacios o tabulado y guión. Puedes usar también asterisco.\n",
    "- **Lista numerada**: Al inicio, pon `1. `, seguido de espacio y texto. No es necesario cambiar el `1.` en cada nueva línea.\n",
    "- **Link externo**: `[texto enlace](http://url)`\n",
    "- **Link interno**: crea un ID con html `<a id=\"seccion_ID\"></a>` antes de la sección. Ahora, para enlazar con la sección, utiliza `[titulo sección](#seccion_ID)`.\n",
    "- **Imagen**: arrastrar y soltar en la celda markdown. También con `![texto alternativo](url imagen o ruta del a imagen)`, o también, ` <img src=\"url imagen o ruta del a imagen\" alt=\"texto alternativo\" title=\"texto descriptivo\" />` .\n",
    "- **Sangrado (Indented)**: al incio de línea, usa símbolo `> ` seguido de espacio y texto. Ejemplo:\n",
    "\n",
    "> Texto sangrado\n",
    "\n",
    "- **Línea horizontal**: tres asteriscos al inicio de línea, `***` .\n",
    "- **Colores**: usa `<font color=blue|red|green|pink|yellow>Texto</font>` ."
   ]
  },
  {
   "cell_type": "markdown",
   "metadata": {
    "id": "Wj-qvVDHSjpT"
   },
   "source": [
    "######   2.3.3.3. Ayuda desde el Notebook\n",
    "\n",
    "En Python, se pide ayuda de un comando con:"
   ]
  },
  {
   "cell_type": "code",
   "execution_count": null,
   "metadata": {
    "colab": {
     "base_uri": "https://localhost:8080/"
    },
    "executionInfo": {
     "elapsed": 1200,
     "status": "ok",
     "timestamp": 1604315717944,
     "user": {
      "displayName": "alumnos bigdata",
      "photoUrl": "",
      "userId": "10710302360204190833"
     },
     "user_tz": -60
    },
    "id": "8vDS3x4nSjpV",
    "outputId": "3806f827-e99b-4000-d601-25cd83f9ab60"
   },
   "outputs": [
    {
     "name": "stdout",
     "output_type": "stream",
     "text": [
      "Help on built-in function len in module builtins:\n",
      "\n",
      "len(obj, /)\n",
      "    Return the number of items in a container.\n",
      "\n"
     ]
    }
   ],
   "source": [
    "help(len)"
   ]
  },
  {
   "cell_type": "markdown",
   "metadata": {
    "id": "gq7Ubaq9Sjpf"
   },
   "source": [
    "En Jupyter, ejecuta `?comando` para que se abra un menú contextual de ayuda."
   ]
  },
  {
   "cell_type": "code",
   "execution_count": null,
   "metadata": {
    "id": "TKZhWx9ZSjph"
   },
   "outputs": [],
   "source": [
    "?len"
   ]
  },
  {
   "cell_type": "markdown",
   "metadata": {
    "id": "2uDSbv5JSjpr"
   },
   "source": [
    "El tabulador te ayuda a autocompletar código, ver opciones, parámetros... "
   ]
  },
  {
   "cell_type": "markdown",
   "metadata": {
    "id": "YZSUCyakSjpt"
   },
   "source": [
    "######   2.3.3.4. Comandos Mágicos\n",
    "\n",
    "Los comandos mágicos aumentan las capacidades interactivas de los notebooks. Son de uso común:\n",
    "\n",
    "Ejecuta script .py"
   ]
  },
  {
   "cell_type": "code",
   "execution_count": null,
   "metadata": {
    "colab": {
     "base_uri": "https://localhost:8080/"
    },
    "executionInfo": {
     "elapsed": 708,
     "status": "ok",
     "timestamp": 1604072701609,
     "user": {
      "displayName": "alumnos bigdata",
      "photoUrl": "",
      "userId": "10710302360204190833"
     },
     "user_tz": -60
    },
    "id": "NwX31DV4Sjpv",
    "outputId": "d35103b6-5959-4168-b7ab-75999764e9aa",
    "scrolled": true
   },
   "outputs": [
    {
     "name": "stdout",
     "output_type": "stream",
     "text": [
      "Hello World!\n"
     ]
    }
   ],
   "source": [
    "%run holaMundo.py"
   ]
  },
  {
   "cell_type": "markdown",
   "metadata": {
    "id": "Dc67al4LSjp4"
   },
   "source": [
    "Historial de comandos ejecutados."
   ]
  },
  {
   "cell_type": "code",
   "execution_count": null,
   "metadata": {
    "id": "-Vx2U-JwSjp6",
    "outputId": "b69f3ef6-8562-4f7c-84fe-5b2dfc82221e"
   },
   "outputs": [
    {
     "name": "stdout",
     "output_type": "stream",
     "text": [
      "if 'google.colab' in str(get_ipython()):\n",
      "    !git clone https://github.com/griu/mbdds_fc20.git /content/mbdds_fc20\n",
      "    !git -C /content/mbdds_fc20 pull\n",
      "    %cd /content/mbdds_fc20/Python\n",
      "    !python -m pip install -r requirementsColab.txt\n",
      "6 / (4 - 1.5)\n",
      "help(len)\n"
     ]
    }
   ],
   "source": [
    "# vemos los primerso 3:\n",
    "%history 1-3"
   ]
  },
  {
   "cell_type": "markdown",
   "metadata": {
    "id": "Rn2sepFESjqD"
   },
   "source": [
    "Cambiar de directorio de trabajo.\n",
    "\n",
    "```\n",
    "%cd nueva_ruta\n",
    "```"
   ]
  },
  {
   "cell_type": "markdown",
   "metadata": {
    "id": "IMr5gSBqSjqF"
   },
   "source": [
    "Tiempo de ejecución de una línea:"
   ]
  },
  {
   "cell_type": "code",
   "execution_count": null,
   "metadata": {
    "id": "5sXMT_EFSjqH",
    "outputId": "62b3c531-6d5e-4943-a839-260c81348585"
   },
   "outputs": [
    {
     "name": "stdout",
     "output_type": "stream",
     "text": [
      "Wall time: 0 ns\n"
     ]
    }
   ],
   "source": [
    "%time L = [n ** 2 for n in range(1000)]"
   ]
  },
  {
   "cell_type": "markdown",
   "metadata": {
    "id": "w914uxsDSjqQ"
   },
   "source": [
    "De toda una celda:"
   ]
  },
  {
   "cell_type": "code",
   "execution_count": null,
   "metadata": {
    "id": "0jtE90Q5SjqS",
    "outputId": "bd14ed3e-15cb-4426-d5c6-9f4682a1152e"
   },
   "outputs": [
    {
     "name": "stdout",
     "output_type": "stream",
     "text": [
      "Wall time: 2 ms\n"
     ]
    }
   ],
   "source": [
    "%%time\n",
    "L1 = [n ** 2 for n in range(1000)]\n",
    "L2 = [n ** 2 for n in range(1000)]\n",
    "L3 = [n ** 2 for n in range(1000)]"
   ]
  },
  {
   "cell_type": "markdown",
   "metadata": {
    "id": "WSlTyLyMSjqb"
   },
   "source": [
    "######   2.3.3.5. Comandos Shell"
   ]
  },
  {
   "cell_type": "markdown",
   "metadata": {
    "id": "t4L0IeQPSjqd"
   },
   "source": [
    "Los comandos de sistema se pueden ejecutar con `!comando`:"
   ]
  },
  {
   "cell_type": "code",
   "execution_count": null,
   "metadata": {
    "colab": {
     "base_uri": "https://localhost:8080/"
    },
    "executionInfo": {
     "elapsed": 755,
     "status": "ok",
     "timestamp": 1604317982270,
     "user": {
      "displayName": "alumnos bigdata",
      "photoUrl": "",
      "userId": "10710302360204190833"
     },
     "user_tz": -60
    },
    "id": "IjP7TscDSjqf",
    "outputId": "ca7b655d-ca38-4cf9-8fe4-705e56d1e83d"
   },
   "outputs": [
    {
     "name": "stdout",
     "output_type": "stream",
     "text": [
      "holaMundo.py\t\t\t       modulo1_tema4_Py_60_anexo.ipynb\n",
      "modulo1_tema4_Py_00_indice.ipynb       modulo1_tema4_Py_Ejercicios.ipynb\n",
      "modulo1_tema4_Py_10_elem_bas.ipynb     modulo1_tema4_Py.ipynb\n",
      "modulo1_tema4_Py_20_matplotlib.ipynb   ppt\n",
      "modulo1_tema4_Py_30_colec_obj.ipynb    README.md\n",
      "modulo1_tema4_Py_31_numpy.ipynb        requirementsColab.txt\n",
      "modulo1_tema4_Py_32_pandas.ipynb       Rmd\n",
      "modulo1_tema4_Py_40_contr_flujo.ipynb  www\n",
      "modulo1_tema4_Py_50_gest_dat.ipynb\n"
     ]
    }
   ],
   "source": [
    "!dir"
   ]
  },
  {
   "cell_type": "markdown",
   "metadata": {
    "id": "gW052A7USjqp"
   },
   "source": [
    "#### 2.4. Funciones\n",
    "\n",
    "Para definir la función valor absoluto: "
   ]
  },
  {
   "cell_type": "code",
   "execution_count": null,
   "metadata": {
    "id": "082W-p7sSjqr"
   },
   "outputs": [],
   "source": [
    "def valor_absoluto(num):\n",
    "    \"\"\"devuelve el valor absoluto\"\"\"\n",
    "\n",
    "    if num >= 0:\n",
    "        return num\n",
    "    else:\n",
    "        return -num"
   ]
  },
  {
   "cell_type": "markdown",
   "metadata": {
    "id": "1gMO1Z6xSjqz"
   },
   "source": [
    "- Se inicia la definición con `def`, seguido del nombre de la función.\n",
    "- A continuación, los parámetros entre paréntesis y `:` \n",
    "  - Admite definir valores por defecto.\n",
    "- El texto sirve como ayuda cuando se llama a ?valor_absoluto.\n",
    "- El cuerpo del código con sangrado.\n",
    "- Puede devolver un objeto añadiendo `return objecto`.\n",
    "- Si quieres devolver valores por pantalla hay que usar print.\n",
    "\n",
    "Para llamar a la función:"
   ]
  },
  {
   "cell_type": "code",
   "execution_count": null,
   "metadata": {
    "fig.asp": "#R_CODE#4/5",
    "fig.cap": "Resultado función `describir`",
    "fig.width": 3,
    "id": "t9YYSWJNSjq0",
    "outputId": "3f5d6aba-5330-462c-85c3-ab4cb70c16c1"
   },
   "outputs": [
    {
     "data": {
      "text/plain": [
       "6"
      ]
     },
     "execution_count": 11,
     "metadata": {
      "tags": []
     },
     "output_type": "execute_result"
    }
   ],
   "source": [
    "valor_absoluto(-6)"
   ]
  },
  {
   "cell_type": "markdown",
   "metadata": {
    "id": "bYYUz7L-Sjq9"
   },
   "source": [
    "#### 2.5. Paquetes\n",
    "\n",
    "El indexador de paquetes de Python es **PyPI**. igual que **CRAN** en R. Actualmente, indexa más de 235.000 librearías.\n",
    "\n",
    "Para instalarlos hay distintos métodos. El más general es mediante `pip` desde Shell:\n",
    "\n",
    "```\n",
    "pip install nombre_paquete\n",
    "```\n",
    "\n",
    "> **Sabías que**: Anaconda tiene su propio gestor de paquetes llamado `conda`. Funciona de forma similar a `pip`. Además, `conda`, aporta la capacidad de gestionar *Environments*, que a su vez, permiten fijar un conjunto de versiones de paquetes de Python. Los *Environments* facilitan reproducir en otras máquinas todo el entorno de ejecución y la replicabilidad de los desarrollos. Revisa un ejemplo en [Anexo: README de Python](modulo1_tema4_Py_60_anexo.ipynb).\n",
    "\n",
    "Desde Jupyter/Colab también se pueden instalar paquetes con `!pip` y `!conda` (fíjate que ahora llevan `!` delante).\n",
    "\n",
    "```\n",
    "!pip install nombre_paquete\n",
    "```\n",
    "\n",
    "Una vez instalados, en cada nueva sesión de Jupyter, hay que importarlos para que sean accesibles:\n",
    "\n",
    "```\n",
    "import nombre_paquete\n",
    "```"
   ]
  },
  {
   "cell_type": "markdown",
   "metadata": {},
   "source": [
    "< [Introducción](modulo1_tema4_Py.ipynb) | [Índice](modulo1_tema4_Py_00_indice.ipynb) | [Gráficos con matplotlib](modulo1_tema4_Py_20_matplotlib.ipynb) >\n",
    "\n",
    "__[Abre en Colab](https://colab.research.google.com/github/griu/init_python_b1/blob/master/modulo1_tema4_Py_10_elem_bas.ipynb)__"
   ]
  }
 ],
 "metadata": {
  "colab": {
   "collapsed_sections": [],
   "name": "M1_BloqueII_Python_2_Elementos_basicos.ipynb",
   "provenance": []
  },
  "kernelspec": {
   "display_name": "initPython383",
   "language": "python",
   "name": "initpython383"
  },
  "language_info": {
   "codemirror_mode": {
    "name": "ipython",
    "version": 3
   },
   "file_extension": ".py",
   "mimetype": "text/x-python",
   "name": "python",
   "nbconvert_exporter": "python",
   "pygments_lexer": "ipython3",
   "version": "3.6.9"
  }
 },
 "nbformat": 4,
 "nbformat_minor": 1
}
